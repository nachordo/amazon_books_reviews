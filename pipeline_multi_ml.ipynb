{
 "cells": [
  {
   "cell_type": "markdown",
   "metadata": {},
   "source": [
    "# Searching the best algorithm to predict the Amazon review ratings\n",
    "\n",
    "In this notebook I'm going to analyze the performance of different Machine Learning algorithms to find out the best model for this exercise. As in other notebooks, I will begin importing the libraries."
   ]
  },
  {
   "cell_type": "code",
   "execution_count": 1,
   "metadata": {},
   "outputs": [
    {
     "name": "stderr",
     "output_type": "stream",
     "text": [
      "[nltk_data] Downloading package stopwords to\n",
      "[nltk_data]     /home/ordovas/nltk_data...\n",
      "[nltk_data]   Package stopwords is already up-to-date!\n",
      "[nltk_data] Downloading package wordnet to /home/ordovas/nltk_data...\n",
      "[nltk_data]   Package wordnet is already up-to-date!\n",
      "[nltk_data] Downloading package punkt to /home/ordovas/nltk_data...\n",
      "[nltk_data]   Package punkt is already up-to-date!\n"
     ]
    }
   ],
   "source": [
    "import pandas as pd\n",
    "import numpy as np\n",
    "import matplotlib.pyplot as plt\n",
    "from pymongo import MongoClient\n",
    "\n",
    "from functions.nlp import cleaning_review\n",
    "from functions.preproc import tfidf,svc_dimred\n",
    "from functions.automl import BestClassifier\n",
    "\n",
    "from sklearn.model_selection import train_test_split\n",
    "from sklearn.linear_model import LogisticRegression\n",
    "from sklearn.metrics import confusion_matrix\n",
    "from sklearn.metrics import plot_confusion_matrix\n",
    "\n",
    "client = MongoClient()"
   ]
  },
  {
   "cell_type": "markdown",
   "metadata": {},
   "source": [
    "I will load a subset of the database (stored in a MongoDB collection) and loading the same ammount of reviews for each rating."
   ]
  },
  {
   "cell_type": "code",
   "execution_count": 2,
   "metadata": {},
   "outputs": [
    {
     "data": {
      "text/plain": [
       "2    10000\n",
       "4     9998\n",
       "3     9998\n",
       "1     9998\n",
       "5     9997\n",
       "Name: overall, dtype: int64"
      ]
     },
     "execution_count": 2,
     "metadata": {},
     "output_type": "execute_result"
    }
   ],
   "source": [
    "db = client.get_database(\"amazon\")\n",
    "# Define an alias for the books dataset\n",
    "books =db.books\n",
    "# Obtain a random sample from the dataset, selecting only a few records \n",
    "# (we will use only overall and reviewTest, but I will load a few more just in case I\n",
    "# want to play with more info...)\n",
    "df=pd.DataFrame()\n",
    "for i in range(1,6):\n",
    "    res = list(books.aggregate([{\"$match\":{\"overall\":i}},\n",
    "        { \"$sample\": { \"size\": 10000 }},\n",
    "        { \"$project\": {\"id\": \"$_id\", \"_id\": 0, \"overall\": 1, \"reviewText\": 1,\"summary\":1,\"reviewerName\":1}} ]))\n",
    "    # Converting to pandas DataFrame\n",
    "    dft=pd.DataFrame(res)\n",
    "\n",
    "    dft=dft.dropna().reset_index()\n",
    "    df=df.append(dft)\n",
    "\n",
    "df=df.reset_index()\n",
    "df[\"overall\"].value_counts()"
   ]
  },
  {
   "cell_type": "markdown",
   "metadata": {},
   "source": [
    "And now I will clean the text of the reviews (lemmatizing the text, removing punctuation and stop words), divide the dataset into train and test samples and create the TF-IDF vectors for the cleaned text. After that, I will reduce the dimensionality of the TF-IDF vectors using 500 dimensions."
   ]
  },
  {
   "cell_type": "code",
   "execution_count": 3,
   "metadata": {},
   "outputs": [],
   "source": [
    "df[\"review_clean\"]=df[\"reviewText\"]\n",
    "df[\"review_clean\"]=df[\"review_clean\"].apply(cleaning_review)\n",
    "\n",
    "Xraw_train, Xraw_test, y_train, y_test = train_test_split(df, df[\"overall\"],\n",
    "                                                          test_size=0.15, random_state=42)\n",
    "Xtfidf_train , Xtfidf_test= tfidf(Xraw_train[\"review_clean\"], Xraw_test[\"review_clean\"],5)\n",
    "comps,var,svd_transformer = svc_dimred(Xtfidf_train,500)\n",
    "X_train = svd_transformer.transform(Xtfidf_train)\n",
    "X_test = svd_transformer.transform(Xtfidf_test)"
   ]
  },
  {
   "cell_type": "code",
   "execution_count": 4,
   "metadata": {},
   "outputs": [
    {
     "data": {
      "text/html": [
       "<div>\n",
       "<style scoped>\n",
       "    .dataframe tbody tr th:only-of-type {\n",
       "        vertical-align: middle;\n",
       "    }\n",
       "\n",
       "    .dataframe tbody tr th {\n",
       "        vertical-align: top;\n",
       "    }\n",
       "\n",
       "    .dataframe thead th {\n",
       "        text-align: right;\n",
       "    }\n",
       "</style>\n",
       "<table border=\"1\" class=\"dataframe\">\n",
       "  <thead>\n",
       "    <tr style=\"text-align: right;\">\n",
       "      <th></th>\n",
       "      <th>level_0</th>\n",
       "      <th>index</th>\n",
       "      <th>overall</th>\n",
       "      <th>reviewerName</th>\n",
       "      <th>reviewText</th>\n",
       "      <th>summary</th>\n",
       "      <th>id</th>\n",
       "      <th>review_clean</th>\n",
       "    </tr>\n",
       "  </thead>\n",
       "  <tbody>\n",
       "    <tr>\n",
       "      <th>28170</th>\n",
       "      <td>8172</td>\n",
       "      <td>8174</td>\n",
       "      <td>3</td>\n",
       "      <td>R. Murphy</td>\n",
       "      <td>This would have merited a higher rating if it ...</td>\n",
       "      <td>A bit over-long in parts</td>\n",
       "      <td>6033ab75f7ccad4a92f24081</td>\n",
       "      <td>this would merited higher rating middle third ...</td>\n",
       "    </tr>\n",
       "    <tr>\n",
       "      <th>32803</th>\n",
       "      <td>2807</td>\n",
       "      <td>2807</td>\n",
       "      <td>4</td>\n",
       "      <td>Amazon Customer</td>\n",
       "      <td>So far so good.  I haven't finished the novel ...</td>\n",
       "      <td>Innocence</td>\n",
       "      <td>6033ab8af7ccad4a92f67d4b</td>\n",
       "      <td>so far good finished novel yet far engaging ko...</td>\n",
       "    </tr>\n",
       "    <tr>\n",
       "      <th>38580</th>\n",
       "      <td>8584</td>\n",
       "      <td>8586</td>\n",
       "      <td>4</td>\n",
       "      <td>Michael L. Shanks</td>\n",
       "      <td>FIVE STARS  for \"Seveneves\", for ideas, but I'...</td>\n",
       "      <td>FOUR STARS - and Why I didn't give it a FIVE.</td>\n",
       "      <td>6033ab91f7ccad4a92f7e870</td>\n",
       "      <td>five star seveneves idea take away execution s...</td>\n",
       "    </tr>\n",
       "    <tr>\n",
       "      <th>31785</th>\n",
       "      <td>1789</td>\n",
       "      <td>1789</td>\n",
       "      <td>4</td>\n",
       "      <td>Joanna Damons</td>\n",
       "      <td>Really good depiction of what non-radicle musl...</td>\n",
       "      <td>Four Stars</td>\n",
       "      <td>6033ab7bf7ccad4a92f37a50</td>\n",
       "      <td>really good depiction non radicle muslim must ...</td>\n",
       "    </tr>\n",
       "    <tr>\n",
       "      <th>7893</th>\n",
       "      <td>7893</td>\n",
       "      <td>7895</td>\n",
       "      <td>1</td>\n",
       "      <td>Janelle</td>\n",
       "      <td>I wish I had just read the reviews and  not bo...</td>\n",
       "      <td>the reviews are more entertaining than the book</td>\n",
       "      <td>6033ab73f7ccad4a92f1eb7b</td>\n",
       "      <td>i wish read review bothered book many somehow ...</td>\n",
       "    </tr>\n",
       "  </tbody>\n",
       "</table>\n",
       "</div>"
      ],
      "text/plain": [
       "       level_0  index  overall       reviewerName  \\\n",
       "28170     8172   8174        3          R. Murphy   \n",
       "32803     2807   2807        4    Amazon Customer   \n",
       "38580     8584   8586        4  Michael L. Shanks   \n",
       "31785     1789   1789        4      Joanna Damons   \n",
       "7893      7893   7895        1            Janelle   \n",
       "\n",
       "                                              reviewText  \\\n",
       "28170  This would have merited a higher rating if it ...   \n",
       "32803  So far so good.  I haven't finished the novel ...   \n",
       "38580  FIVE STARS  for \"Seveneves\", for ideas, but I'...   \n",
       "31785  Really good depiction of what non-radicle musl...   \n",
       "7893   I wish I had just read the reviews and  not bo...   \n",
       "\n",
       "                                               summary  \\\n",
       "28170                         A bit over-long in parts   \n",
       "32803                                        Innocence   \n",
       "38580    FOUR STARS - and Why I didn't give it a FIVE.   \n",
       "31785                                       Four Stars   \n",
       "7893   the reviews are more entertaining than the book   \n",
       "\n",
       "                             id  \\\n",
       "28170  6033ab75f7ccad4a92f24081   \n",
       "32803  6033ab8af7ccad4a92f67d4b   \n",
       "38580  6033ab91f7ccad4a92f7e870   \n",
       "31785  6033ab7bf7ccad4a92f37a50   \n",
       "7893   6033ab73f7ccad4a92f1eb7b   \n",
       "\n",
       "                                            review_clean  \n",
       "28170  this would merited higher rating middle third ...  \n",
       "32803  so far good finished novel yet far engaging ko...  \n",
       "38580  five star seveneves idea take away execution s...  \n",
       "31785  really good depiction non radicle muslim must ...  \n",
       "7893   i wish read review bothered book many somehow ...  "
      ]
     },
     "execution_count": 4,
     "metadata": {},
     "output_type": "execute_result"
    }
   ],
   "source": [
    "Xraw_train.head()"
   ]
  },
  {
   "cell_type": "markdown",
   "metadata": {},
   "source": [
    "Now let's find out what is the best ML algorithm for this problem. \n",
    "\n",
    "I will import a class that I've created previously, that is the one called `BestClassifier`. This one requires the input train features (X_train), the target (y_train) and a list of models to analyze its performance (see `functions/automl.py` to see how it works). It will store the best fitting ML model among the best fitting parameters for each model. `BestClassifier` will have a `.fit(X,y)`, `.predict(X)`, `.predict_proba(X)` and `.score(X,y)` functions as any other classifier, but with the best model with the best performance parameters."
   ]
  },
  {
   "cell_type": "code",
   "execution_count": 5,
   "metadata": {},
   "outputs": [
    {
     "name": "stdout",
     "output_type": "stream",
     "text": [
      "Analyzing LogisticRegression\n",
      "Score = 0.47907860963859605\n",
      "Analyzing LinearSVC\n",
      "Score = 0.47554845584120475\n",
      "Analyzing SGDClassifier\n",
      "Score = 0.4456367314239148\n",
      "Analyzing KNeighborsClassifier\n",
      "Score = 0.3322273430144247\n",
      "Analyzing RandomForestClassifier\n",
      "Score = 0.36830477003496676\n",
      "Analyzing GaussianNB\n",
      "Score = 0.346441621708932\n",
      "Best model:\n",
      "LogisticRegression(class_weight='balanced', max_iter=10000)\n"
     ]
    }
   ],
   "source": [
    "clf=BestClassifier(X_train,y_train,[ \"LogisticRegression\",\"LinearSVC\",\"SGDClassifier\",\n",
    "                             \"KNeighborsClassifier\",\"RandomForestClassifier\",\"GaussianNB\"])"
   ]
  },
  {
   "cell_type": "markdown",
   "metadata": {},
   "source": [
    "The train and test scores for the best classifier are the following:"
   ]
  },
  {
   "cell_type": "code",
   "execution_count": 6,
   "metadata": {},
   "outputs": [
    {
     "data": {
      "text/plain": [
       "(0.5060011296243999, 0.4932657687691692)"
      ]
     },
     "execution_count": 6,
     "metadata": {},
     "output_type": "execute_result"
    }
   ],
   "source": [
    "clf.score(X_train,y_train),clf.score(X_test,y_test)"
   ]
  },
  {
   "cell_type": "code",
   "execution_count": null,
   "metadata": {},
   "outputs": [],
   "source": []
  },
  {
   "cell_type": "markdown",
   "metadata": {},
   "source": [
    "The histogram of the performance of the model is plotted below:"
   ]
  },
  {
   "cell_type": "markdown",
   "metadata": {},
   "source": [
    "counts, bins = np.histogram(y_train-clf.predict(X_train),bins=np.arange(-4,6))\n",
    "plt.plot(bins[:-1],counts*100/sum(counts),label=\"Train data\")\n",
    "plt.grid()\n",
    "counts, bins = np.histogram(y_test-clf.predict(X_test),bins=np.arange(-4,6))\n",
    "plt.plot(bins[:-1],counts*100/sum(counts),label=\"Test data\")\n",
    "plt.xlabel(\"Real Rating - Predicted Rating\")\n",
    "plt.ylabel(\"Percentage\")\n",
    "plt.legend();"
   ]
  },
  {
   "cell_type": "markdown",
   "metadata": {},
   "source": [
    "And finally, the confusion matrices of the best model are the following:"
   ]
  },
  {
   "cell_type": "code",
   "execution_count": 7,
   "metadata": {},
   "outputs": [
    {
     "name": "stdout",
     "output_type": "stream",
     "text": [
      "Train subsample:\n"
     ]
    },
    {
     "data": {
      "image/png": "[encoded data removed]",
      "text/plain": [
       "<Figure size 432x288 with 2 Axes>"
      ]
     },
     "metadata": {
      "needs_background": "light"
     },
     "output_type": "display_data"
    },
    {
     "name": "stdout",
     "output_type": "stream",
     "text": [
      "Test subsample:\n"
     ]
    },
    {
     "data": {
      "image/png": "[encoded data removed]",
      "text/plain": [
       "<Figure size 432x288 with 2 Axes>"
      ]
     },
     "metadata": {
      "needs_background": "light"
     },
     "output_type": "display_data"
    }
   ],
   "source": [
    "print(\"Train subsample:\")\n",
    "plot_confusion_matrix(clf.bestclassifier_, X_train, y_train,cmap=\"viridis\",normalize=\"true\") \n",
    "plt.show();\n",
    "print(\"Test subsample:\")\n",
    "plot_confusion_matrix(clf.bestclassifier_, X_test, y_test,cmap=\"viridis\",normalize=\"true\")\n",
    "plt.show();"
   ]
  },
  {
   "cell_type": "markdown",
   "metadata": {},
   "source": [
    "### Let's check the results...\n",
    "\n",
    "Now that we are moderately happy with the model we've chosen and its performance, we can see the raw reviews and check out their predictions."
   ]
  },
  {
   "cell_type": "code",
   "execution_count": 8,
   "metadata": {},
   "outputs": [],
   "source": [
    "res_train = Xraw_train.copy()\n",
    "res_train[\"predictions\"]=clf.predict(X_train)\n",
    "res_train=res_train.drop(columns=['level_0', 'index'])"
   ]
  },
  {
   "cell_type": "code",
   "execution_count": 9,
   "metadata": {},
   "outputs": [],
   "source": [
    "res_test = Xraw_test.copy()\n",
    "res_test[\"predictions\"]=clf.predict(X_test)\n",
    "res_test=res_test.drop(columns=['level_0', 'index'])"
   ]
  },
  {
   "cell_type": "markdown",
   "metadata": {},
   "source": [
    "Here we can see examples where the estimations failed the most. For example 5 star reviews that are predicted to have only 1:"
   ]
  },
  {
   "cell_type": "code",
   "execution_count": 20,
   "metadata": {},
   "outputs": [
    {
     "data": {
      "text/html": [
       "<div>\n",
       "<style scoped>\n",
       "    .dataframe tbody tr th:only-of-type {\n",
       "        vertical-align: middle;\n",
       "    }\n",
       "\n",
       "    .dataframe tbody tr th {\n",
       "        vertical-align: top;\n",
       "    }\n",
       "\n",
       "    .dataframe thead th {\n",
       "        text-align: right;\n",
       "    }\n",
       "</style>\n",
       "<table border=\"1\" class=\"dataframe\">\n",
       "  <thead>\n",
       "    <tr style=\"text-align: right;\">\n",
       "      <th></th>\n",
       "      <th>index</th>\n",
       "      <th>overall</th>\n",
       "      <th>reviewerName</th>\n",
       "      <th>reviewText</th>\n",
       "      <th>summary</th>\n",
       "      <th>id</th>\n",
       "      <th>review_clean</th>\n",
       "      <th>predictions</th>\n",
       "    </tr>\n",
       "  </thead>\n",
       "  <tbody>\n",
       "    <tr>\n",
       "      <th>0</th>\n",
       "      <td>44359</td>\n",
       "      <td>5</td>\n",
       "      <td>countofnothing</td>\n",
       "      <td>If there is one thing I can say that I love ab...</td>\n",
       "      <td>Ending is Realistic</td>\n",
       "      <td>6033ab88f7ccad4a92f6191b</td>\n",
       "      <td>if one thing say love author gave series reali...</td>\n",
       "      <td>1</td>\n",
       "    </tr>\n",
       "    <tr>\n",
       "      <th>1</th>\n",
       "      <td>40337</td>\n",
       "      <td>5</td>\n",
       "      <td>Arnold G. Tijerina III</td>\n",
       "      <td>I don't write many reviews for books on Amazon...</td>\n",
       "      <td>Freaky Masterpiece</td>\n",
       "      <td>6033ab81f7ccad4a92f49d69</td>\n",
       "      <td>i write many review book amazon however felt n...</td>\n",
       "      <td>1</td>\n",
       "    </tr>\n",
       "    <tr>\n",
       "      <th>2</th>\n",
       "      <td>45850</td>\n",
       "      <td>5</td>\n",
       "      <td>Diane Mautner</td>\n",
       "      <td>Easier in  English, but trying it out in  Span...</td>\n",
       "      <td>Easier in English, but trying it out in Spanis...</td>\n",
       "      <td>6033ab9af7ccad4a92f9943a</td>\n",
       "      <td>easier english trying spanish too</td>\n",
       "      <td>1</td>\n",
       "    </tr>\n",
       "    <tr>\n",
       "      <th>3</th>\n",
       "      <td>43961</td>\n",
       "      <td>5</td>\n",
       "      <td>J. Bradford Smith</td>\n",
       "      <td>This version has a lot of phonetically spelled...</td>\n",
       "      <td>FANTASTIC STORY!!</td>\n",
       "      <td>6033ab74f7ccad4a92f1fd6d</td>\n",
       "      <td>this version ha lot phonetically spelled gaeli...</td>\n",
       "      <td>1</td>\n",
       "    </tr>\n",
       "    <tr>\n",
       "      <th>4</th>\n",
       "      <td>45321</td>\n",
       "      <td>5</td>\n",
       "      <td>Alcan</td>\n",
       "      <td>Hope this isn't the last one in this series!!!...</td>\n",
       "      <td>Four Stars</td>\n",
       "      <td>6033ab81f7ccad4a92f491cb</td>\n",
       "      <td>hope last one series book hard put wish end eq...</td>\n",
       "      <td>1</td>\n",
       "    </tr>\n",
       "  </tbody>\n",
       "</table>\n",
       "</div>"
      ],
      "text/plain": [
       "   index  overall            reviewerName  \\\n",
       "0  44359        5          countofnothing   \n",
       "1  40337        5  Arnold G. Tijerina III   \n",
       "2  45850        5           Diane Mautner   \n",
       "3  43961        5       J. Bradford Smith   \n",
       "4  45321        5                   Alcan   \n",
       "\n",
       "                                          reviewText  \\\n",
       "0  If there is one thing I can say that I love ab...   \n",
       "1  I don't write many reviews for books on Amazon...   \n",
       "2  Easier in  English, but trying it out in  Span...   \n",
       "3  This version has a lot of phonetically spelled...   \n",
       "4  Hope this isn't the last one in this series!!!...   \n",
       "\n",
       "                                             summary  \\\n",
       "0                                Ending is Realistic   \n",
       "1                                 Freaky Masterpiece   \n",
       "2  Easier in English, but trying it out in Spanis...   \n",
       "3                                  FANTASTIC STORY!!   \n",
       "4                                         Four Stars   \n",
       "\n",
       "                         id  \\\n",
       "0  6033ab88f7ccad4a92f6191b   \n",
       "1  6033ab81f7ccad4a92f49d69   \n",
       "2  6033ab9af7ccad4a92f9943a   \n",
       "3  6033ab74f7ccad4a92f1fd6d   \n",
       "4  6033ab81f7ccad4a92f491cb   \n",
       "\n",
       "                                        review_clean  predictions  \n",
       "0  if one thing say love author gave series reali...            1  \n",
       "1  i write many review book amazon however felt n...            1  \n",
       "2                  easier english trying spanish too            1  \n",
       "3  this version ha lot phonetically spelled gaeli...            1  \n",
       "4  hope last one series book hard put wish end eq...            1  "
      ]
     },
     "execution_count": 20,
     "metadata": {},
     "output_type": "execute_result"
    }
   ],
   "source": [
    "testing = res_test[(res_test[\"overall\"] == 5) & (res_test[\"predictions\"] == 1)  ]\n",
    "testing=testing.reset_index()\n",
    "testing.head()"
   ]
  },
  {
   "cell_type": "code",
   "execution_count": 18,
   "metadata": {},
   "outputs": [
    {
     "name": "stdout",
     "output_type": "stream",
     "text": [
      "This has to be my all-time favorite Dickens novel and I am talking about Our Mutual Friend.  It has a bit of everything in it - mystery, romance, suspense, humor.  A wonderful book which I highly recommend.\n",
      "\n",
      "I would also just like to say that I really don't care for how Amazon is lumping all the Dickens novels into one place.  This is supposed to be for reviews about Our Mutual Friend and you will find reviews on many different Dickens novels here including A Christmas Carol!  I think this is terrible.  The Amazon book reviews are what drew me in to being an Amazon customer in 2003 and I do not like what I am seeing now where they seem to be lumping all of an authors book reviews onto one site.  I hope people will notice this and mention the name of the book they are reviewing from now on because otherwise readers will think they are reading a review of a certain book and it could be the review of a number of different books which doesn't make any sense.  Shame on you Amazon!  I will continue to be a loyal customer because I love Amazon, but I am surprised by this.  I've seen this done with other author's books on Amazon book reviews, too. You're not helping anyone by doing this; only confusing customers.\n",
      "\n",
      "Anyway, please read Our Mutual Friend.  You will love this book and remember it your whole life!  It's that good.\n"
     ]
    }
   ],
   "source": [
    "print(testing[\"reviewText\"][9])"
   ]
  },
  {
   "cell_type": "markdown",
   "metadata": {},
   "source": [
    "And other example of 1 star reviews that are predicted to have 5 stars:"
   ]
  },
  {
   "cell_type": "code",
   "execution_count": 21,
   "metadata": {},
   "outputs": [
    {
     "data": {
      "text/html": [
       "<div>\n",
       "<style scoped>\n",
       "    .dataframe tbody tr th:only-of-type {\n",
       "        vertical-align: middle;\n",
       "    }\n",
       "\n",
       "    .dataframe tbody tr th {\n",
       "        vertical-align: top;\n",
       "    }\n",
       "\n",
       "    .dataframe thead th {\n",
       "        text-align: right;\n",
       "    }\n",
       "</style>\n",
       "<table border=\"1\" class=\"dataframe\">\n",
       "  <thead>\n",
       "    <tr style=\"text-align: right;\">\n",
       "      <th></th>\n",
       "      <th>index</th>\n",
       "      <th>overall</th>\n",
       "      <th>reviewerName</th>\n",
       "      <th>reviewText</th>\n",
       "      <th>summary</th>\n",
       "      <th>id</th>\n",
       "      <th>review_clean</th>\n",
       "      <th>predictions</th>\n",
       "    </tr>\n",
       "  </thead>\n",
       "  <tbody>\n",
       "    <tr>\n",
       "      <th>0</th>\n",
       "      <td>1822</td>\n",
       "      <td>1</td>\n",
       "      <td>Ogen</td>\n",
       "      <td>This story is neither credible nor well writte...</td>\n",
       "      <td>Bad fiction. Not a real biography.</td>\n",
       "      <td>6033ab9cf7ccad4a92fa03af</td>\n",
       "      <td>this story neither credible well written show ...</td>\n",
       "      <td>5</td>\n",
       "    </tr>\n",
       "    <tr>\n",
       "      <th>1</th>\n",
       "      <td>6720</td>\n",
       "      <td>1</td>\n",
       "      <td>J. Musman</td>\n",
       "      <td>When I buy a cook's book it's to learn about e...</td>\n",
       "      <td>It's a hangover</td>\n",
       "      <td>6033ab98f7ccad4a92f93939</td>\n",
       "      <td>when buy cook book learn exquisite cuisine foo...</td>\n",
       "      <td>5</td>\n",
       "    </tr>\n",
       "    <tr>\n",
       "      <th>2</th>\n",
       "      <td>2672</td>\n",
       "      <td>1</td>\n",
       "      <td>jonathan calvert</td>\n",
       "      <td>Wasn't what I expected. Not one of his best !!!!!</td>\n",
       "      <td>Not one of his best!!</td>\n",
       "      <td>6033ab8af7ccad4a92f676b5</td>\n",
       "      <td>wasn expected one best</td>\n",
       "      <td>5</td>\n",
       "    </tr>\n",
       "    <tr>\n",
       "      <th>3</th>\n",
       "      <td>2767</td>\n",
       "      <td>1</td>\n",
       "      <td>Mauricio Fontana Filho</td>\n",
       "      <td>If you are looking for the cheapest books, thi...</td>\n",
       "      <td>5 stars to the story, 1 to the mass market pap...</td>\n",
       "      <td>6033ab86f7ccad4a92f5adf8</td>\n",
       "      <td>if looking cheapest book pick reading it look ...</td>\n",
       "      <td>5</td>\n",
       "    </tr>\n",
       "    <tr>\n",
       "      <th>4</th>\n",
       "      <td>8543</td>\n",
       "      <td>1</td>\n",
       "      <td>M. Fajardo</td>\n",
       "      <td>Dr. Seuss's books are known for their rhyme an...</td>\n",
       "      <td>Teacher Review:  Not true to Dr. Seuss's liter...</td>\n",
       "      <td>6033ab7bf7ccad4a92f3593f</td>\n",
       "      <td>dr seuss book known rhyme and whimsical charac...</td>\n",
       "      <td>5</td>\n",
       "    </tr>\n",
       "  </tbody>\n",
       "</table>\n",
       "</div>"
      ],
      "text/plain": [
       "   index  overall            reviewerName  \\\n",
       "0   1822        1                    Ogen   \n",
       "1   6720        1               J. Musman   \n",
       "2   2672        1        jonathan calvert   \n",
       "3   2767        1  Mauricio Fontana Filho   \n",
       "4   8543        1              M. Fajardo   \n",
       "\n",
       "                                          reviewText  \\\n",
       "0  This story is neither credible nor well writte...   \n",
       "1  When I buy a cook's book it's to learn about e...   \n",
       "2  Wasn't what I expected. Not one of his best !!!!!   \n",
       "3  If you are looking for the cheapest books, thi...   \n",
       "4  Dr. Seuss's books are known for their rhyme an...   \n",
       "\n",
       "                                             summary  \\\n",
       "0                 Bad fiction. Not a real biography.   \n",
       "1                                    It's a hangover   \n",
       "2                              Not one of his best!!   \n",
       "3  5 stars to the story, 1 to the mass market pap...   \n",
       "4  Teacher Review:  Not true to Dr. Seuss's liter...   \n",
       "\n",
       "                         id  \\\n",
       "0  6033ab9cf7ccad4a92fa03af   \n",
       "1  6033ab98f7ccad4a92f93939   \n",
       "2  6033ab8af7ccad4a92f676b5   \n",
       "3  6033ab86f7ccad4a92f5adf8   \n",
       "4  6033ab7bf7ccad4a92f3593f   \n",
       "\n",
       "                                        review_clean  predictions  \n",
       "0  this story neither credible well written show ...            5  \n",
       "1  when buy cook book learn exquisite cuisine foo...            5  \n",
       "2                             wasn expected one best            5  \n",
       "3  if looking cheapest book pick reading it look ...            5  \n",
       "4  dr seuss book known rhyme and whimsical charac...            5  "
      ]
     },
     "execution_count": 21,
     "metadata": {},
     "output_type": "execute_result"
    }
   ],
   "source": [
    "testing = res_test[(res_test[\"overall\"] == 1) & (res_test[\"predictions\"] == 5)  ]\n",
    "testing=testing.reset_index()\n",
    "testing.head()"
   ]
  },
  {
   "cell_type": "code",
   "execution_count": 22,
   "metadata": {},
   "outputs": [
    {
     "name": "stdout",
     "output_type": "stream",
     "text": [
      "Love Jane Austin, but this was very tough to get through, even more challenging than 'Pursuasion'!\n"
     ]
    }
   ],
   "source": [
    "print(testing[\"reviewText\"][9])"
   ]
  },
  {
   "cell_type": "code",
   "execution_count": null,
   "metadata": {},
   "outputs": [],
   "source": []
  },
  {
   "cell_type": "code",
   "execution_count": null,
   "metadata": {},
   "outputs": [],
   "source": []
  }
 ],
 "metadata": {
  "kernelspec": {
   "display_name": "Python 3",
   "language": "python",
   "name": "python3"
  },
  "language_info": {
   "codemirror_mode": {
    "name": "ipython",
    "version": 3
   },
   "file_extension": ".py",
   "mimetype": "text/x-python",
   "name": "python",
   "nbconvert_exporter": "python",
   "pygments_lexer": "ipython3",
   "version": "3.8.3"
  }
 },
 "nbformat": 4,
 "nbformat_minor": 4
}
