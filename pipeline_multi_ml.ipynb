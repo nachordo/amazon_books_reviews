{
 "cells": [
  {
   "cell_type": "markdown",
   "metadata": {},
   "source": [
    "# Searching the best algorithm to predict the Amazon review ratings\n",
    "\n",
    "In this notebook I'm going to analyze the performance of different Machine Learning algorithms to find out the best model for this exercise. As in other notebooks, I will begin importing the libraries."
   ]
  },
  {
   "cell_type": "code",
   "execution_count": 1,
   "metadata": {},
   "outputs": [
    {
     "name": "stderr",
     "output_type": "stream",
     "text": [
      "[nltk_data] Downloading package stopwords to\n",
      "[nltk_data]     /home/ordovas/nltk_data...\n",
      "[nltk_data]   Package stopwords is already up-to-date!\n",
      "[nltk_data] Downloading package wordnet to /home/ordovas/nltk_data...\n",
      "[nltk_data]   Package wordnet is already up-to-date!\n",
      "[nltk_data] Downloading package punkt to /home/ordovas/nltk_data...\n",
      "[nltk_data]   Package punkt is already up-to-date!\n"
     ]
    }
   ],
   "source": [
    "import pandas as pd\n",
    "import numpy as np\n",
    "import matplotlib.pyplot as plt\n",
    "from pymongo import MongoClient\n",
    "\n",
    "from functions.nlp import cleaning_review\n",
    "from functions.preproc import tfidf,svc_dimred\n",
    "from functions.automl import BestClassifier\n",
    "\n",
    "from sklearn.model_selection import train_test_split\n",
    "from sklearn.linear_model import LogisticRegression\n",
    "from sklearn.metrics import confusion_matrix\n",
    "from sklearn.metrics import plot_confusion_matrix\n",
    "\n",
    "client = MongoClient()"
   ]
  },
  {
   "cell_type": "markdown",
   "metadata": {},
   "source": [
    "I will load a subset of the database (stored in a MongoDB collection) and loading the same ammount of reviews for each rating."
   ]
  },
  {
   "cell_type": "code",
   "execution_count": 2,
   "metadata": {},
   "outputs": [
    {
     "data": {
      "text/plain": [
       "2    10000\n",
       "4     9998\n",
       "3     9998\n",
       "1     9998\n",
       "5     9997\n",
       "Name: overall, dtype: int64"
      ]
     },
     "execution_count": 2,
     "metadata": {},
     "output_type": "execute_result"
    }
   ],
   "source": [
    "db = client.get_database(\"amazon\")\n",
    "# Define an alias for the books dataset\n",
    "books =db.books\n",
    "# Obtain a random sample from the dataset, selecting only a few records \n",
    "# (we will use only overall and reviewTest, but I will load a few more just in case I\n",
    "# want to play with more info...)\n",
    "df=pd.DataFrame()\n",
    "for i in range(1,6):\n",
    "    res = list(books.aggregate([{\"$match\":{\"overall\":i}},\n",
    "        { \"$sample\": { \"size\": 10000 }},\n",
    "        { \"$project\": {\"id\": \"$_id\", \"_id\": 0, \"overall\": 1, \"reviewText\": 1,\"summary\":1,\"reviewerName\":1}} ]))\n",
    "    # Converting to pandas DataFrame\n",
    "    dft=pd.DataFrame(res)\n",
    "\n",
    "    dft=dft.dropna().reset_index()\n",
    "    df=df.append(dft)\n",
    "\n",
    "df=df.reset_index()\n",
    "df[\"overall\"].value_counts()"
   ]
  },
  {
   "cell_type": "markdown",
   "metadata": {},
   "source": [
    "And now I will clean the text of the reviews (lemmatizing the text, removing punctuation and stop words), divide the dataset into train and test samples and create the TF-IDF vectors for the cleaned text. After that, I will reduce the dimensionality of the TF-IDF vectors using 500 dimensions."
   ]
  },
  {
   "cell_type": "code",
   "execution_count": 3,
   "metadata": {},
   "outputs": [],
   "source": [
    "df[\"review_clean\"]=df[\"reviewText\"]\n",
    "df[\"review_clean\"]=df[\"review_clean\"].apply(cleaning_review)\n",
    "\n",
    "Xraw_train, Xraw_test, y_train, y_test = train_test_split(df, df[\"overall\"],\n",
    "                                                          test_size=0.15, random_state=42)\n",
    "Xtfidf_train , Xtfidf_test= tfidf(Xraw_train[\"review_clean\"], Xraw_test[\"review_clean\"],5)\n",
    "comps,var,svd_transformer = svc_dimred(Xtfidf_train,500)\n",
    "X_train = svd_transformer.transform(Xtfidf_train)\n",
    "X_test = svd_transformer.transform(Xtfidf_test)"
   ]
  },
  {
   "cell_type": "code",
   "execution_count": 4,
   "metadata": {},
   "outputs": [
    {
     "data": {
      "text/html": [
       "<div>\n",
       "<style scoped>\n",
       "    .dataframe tbody tr th:only-of-type {\n",
       "        vertical-align: middle;\n",
       "    }\n",
       "\n",
       "    .dataframe tbody tr th {\n",
       "        vertical-align: top;\n",
       "    }\n",
       "\n",
       "    .dataframe thead th {\n",
       "        text-align: right;\n",
       "    }\n",
       "</style>\n",
       "<table border=\"1\" class=\"dataframe\">\n",
       "  <thead>\n",
       "    <tr style=\"text-align: right;\">\n",
       "      <th></th>\n",
       "      <th>level_0</th>\n",
       "      <th>index</th>\n",
       "      <th>overall</th>\n",
       "      <th>reviewerName</th>\n",
       "      <th>reviewText</th>\n",
       "      <th>summary</th>\n",
       "      <th>id</th>\n",
       "      <th>review_clean</th>\n",
       "    </tr>\n",
       "  </thead>\n",
       "  <tbody>\n",
       "    <tr>\n",
       "      <th>28170</th>\n",
       "      <td>8172</td>\n",
       "      <td>8174</td>\n",
       "      <td>3</td>\n",
       "      <td>R. Murphy</td>\n",
       "      <td>This would have merited a higher rating if it ...</td>\n",
       "      <td>A bit over-long in parts</td>\n",
       "      <td>6033ab75f7ccad4a92f24081</td>\n",
       "      <td>this would merited higher rating middle third ...</td>\n",
       "    </tr>\n",
       "    <tr>\n",
       "      <th>32803</th>\n",
       "      <td>2807</td>\n",
       "      <td>2807</td>\n",
       "      <td>4</td>\n",
       "      <td>Amazon Customer</td>\n",
       "      <td>So far so good.  I haven't finished the novel ...</td>\n",
       "      <td>Innocence</td>\n",
       "      <td>6033ab8af7ccad4a92f67d4b</td>\n",
       "      <td>so far good finished novel yet far engaging ko...</td>\n",
       "    </tr>\n",
       "    <tr>\n",
       "      <th>38580</th>\n",
       "      <td>8584</td>\n",
       "      <td>8586</td>\n",
       "      <td>4</td>\n",
       "      <td>Michael L. Shanks</td>\n",
       "      <td>FIVE STARS  for \"Seveneves\", for ideas, but I'...</td>\n",
       "      <td>FOUR STARS - and Why I didn't give it a FIVE.</td>\n",
       "      <td>6033ab91f7ccad4a92f7e870</td>\n",
       "      <td>five star seveneves idea take away execution s...</td>\n",
       "    </tr>\n",
       "    <tr>\n",
       "      <th>31785</th>\n",
       "      <td>1789</td>\n",
       "      <td>1789</td>\n",
       "      <td>4</td>\n",
       "      <td>Joanna Damons</td>\n",
       "      <td>Really good depiction of what non-radicle musl...</td>\n",
       "      <td>Four Stars</td>\n",
       "      <td>6033ab7bf7ccad4a92f37a50</td>\n",
       "      <td>really good depiction non radicle muslim must ...</td>\n",
       "    </tr>\n",
       "    <tr>\n",
       "      <th>7893</th>\n",
       "      <td>7893</td>\n",
       "      <td>7895</td>\n",
       "      <td>1</td>\n",
       "      <td>Janelle</td>\n",
       "      <td>I wish I had just read the reviews and  not bo...</td>\n",
       "      <td>the reviews are more entertaining than the book</td>\n",
       "      <td>6033ab73f7ccad4a92f1eb7b</td>\n",
       "      <td>i wish read review bothered book many somehow ...</td>\n",
       "    </tr>\n",
       "  </tbody>\n",
       "</table>\n",
       "</div>"
      ],
      "text/plain": [
       "       level_0  index  overall       reviewerName  \\\n",
       "28170     8172   8174        3          R. Murphy   \n",
       "32803     2807   2807        4    Amazon Customer   \n",
       "38580     8584   8586        4  Michael L. Shanks   \n",
       "31785     1789   1789        4      Joanna Damons   \n",
       "7893      7893   7895        1            Janelle   \n",
       "\n",
       "                                              reviewText  \\\n",
       "28170  This would have merited a higher rating if it ...   \n",
       "32803  So far so good.  I haven't finished the novel ...   \n",
       "38580  FIVE STARS  for \"Seveneves\", for ideas, but I'...   \n",
       "31785  Really good depiction of what non-radicle musl...   \n",
       "7893   I wish I had just read the reviews and  not bo...   \n",
       "\n",
       "                                               summary  \\\n",
       "28170                         A bit over-long in parts   \n",
       "32803                                        Innocence   \n",
       "38580    FOUR STARS - and Why I didn't give it a FIVE.   \n",
       "31785                                       Four Stars   \n",
       "7893   the reviews are more entertaining than the book   \n",
       "\n",
       "                             id  \\\n",
       "28170  6033ab75f7ccad4a92f24081   \n",
       "32803  6033ab8af7ccad4a92f67d4b   \n",
       "38580  6033ab91f7ccad4a92f7e870   \n",
       "31785  6033ab7bf7ccad4a92f37a50   \n",
       "7893   6033ab73f7ccad4a92f1eb7b   \n",
       "\n",
       "                                            review_clean  \n",
       "28170  this would merited higher rating middle third ...  \n",
       "32803  so far good finished novel yet far engaging ko...  \n",
       "38580  five star seveneves idea take away execution s...  \n",
       "31785  really good depiction non radicle muslim must ...  \n",
       "7893   i wish read review bothered book many somehow ...  "
      ]
     },
     "execution_count": 4,
     "metadata": {},
     "output_type": "execute_result"
    }
   ],
   "source": [
    "Xraw_train.head()"
   ]
  },
  {
   "cell_type": "markdown",
   "metadata": {},
   "source": [
    "Now let's find out what is the best ML algorithm for this problem. \n",
    "\n",
    "I will import a class that I've created previously, that is the one called `BestClassifier`. This one requires the input train features (X_train), the target (y_train) and a list of models to analyze its performance (see `functions/automl.py` to see how it works). It will store the best fitting ML model among the best fitting parameters for each model. `BestClassifier` will have a `.fit(X,y)`, `.predict(X)`, `.predict_proba(X)` and `.score(X,y)` functions as any other classifier, but with the best model with the best performance parameters."
   ]
  },
  {
   "cell_type": "code",
   "execution_count": 5,
   "metadata": {},
   "outputs": [
    {
     "name": "stdout",
     "output_type": "stream",
     "text": [
      "Analyzing LogisticRegression\n",
      "Score = 0.47907860963859605\n",
      "Analyzing LinearSVC\n",
      "Score = 0.47554845584120475\n",
      "Analyzing SGDClassifier\n",
      "Score = 0.4456367314239148\n",
      "Analyzing KNeighborsClassifier\n",
      "Score = 0.3322273430144247\n",
      "Analyzing RandomForestClassifier\n",
      "Score = 0.36830477003496676\n",
      "Analyzing GaussianNB\n",
      "Score = 0.346441621708932\n",
      "Best model:\n",
      "LogisticRegression(class_weight='balanced', max_iter=10000)\n"
     ]
    }
   ],
   "source": [
    "clf=BestClassifier(X_train,y_train,[ \"LogisticRegression\",\"LinearSVC\",\"SGDClassifier\",\n",
    "                             \"KNeighborsClassifier\",\"RandomForestClassifier\",\"GaussianNB\"])"
   ]
  },
  {
   "cell_type": "markdown",
   "metadata": {},
   "source": [
    "The train and test scores for the best classifier are the following:"
   ]
  },
  {
   "cell_type": "code",
   "execution_count": 6,
   "metadata": {},
   "outputs": [
    {
     "data": {
      "text/plain": [
       "(0.5060011296243999, 0.4932657687691692)"
      ]
     },
     "execution_count": 6,
     "metadata": {},
     "output_type": "execute_result"
    }
   ],
   "source": [
    "clf.score(X_train,y_train),clf.score(X_test,y_test)"
   ]
  },
  {
   "cell_type": "code",
   "execution_count": null,
   "metadata": {},
   "outputs": [],
   "source": []
  },
  {
   "cell_type": "markdown",
   "metadata": {},
   "source": [
    "The histogram of the performance of the model is plotted below:"
   ]
  },
  {
   "cell_type": "code",
   "execution_count": 37,
   "metadata": {},
   "outputs": [
    {
     "data": {
      "image/png": "[encoded data removed]",
      "text/plain": [
       "<Figure size 432x288 with 1 Axes>"
      ]
     },
     "metadata": {
      "needs_background": "light"
     },
     "output_type": "display_data"
    }
   ],
   "source": [
    "counts, bins = np.histogram(y_train-clf.predict(X_train),bins=np.arange(-4,6))\n",
    "plt.plot(bins[:-1],counts*100/sum(counts),label=\"Train data\")\n",
    "plt.grid()\n",
    "counts, bins = np.histogram(y_test-clf.predict(X_test),bins=np.arange(-4,6))\n",
    "plt.plot(bins[:-1],counts*100/sum(counts),label=\"Test data\")\n",
    "plt.xlabel(\"Real Rating - Predicted Rating\")\n",
    "plt.ylabel(\"Percentage\")\n",
    "plt.legend();"
   ]
  },
  {
   "cell_type": "markdown",
   "metadata": {},
   "source": [
    "And finally, the confusion matrices of the best model are the following:"
   ]
  },
  {
   "cell_type": "code",
   "execution_count": 7,
   "metadata": {},
   "outputs": [
    {
     "name": "stdout",
     "output_type": "stream",
     "text": [
      "Train subsample:\n"
     ]
    },
    {
     "data": {
      "image/png": "[encoded data removed]",
      "text/plain": [
       "<Figure size 432x288 with 2 Axes>"
      ]
     },
     "metadata": {
      "needs_background": "light"
     },
     "output_type": "display_data"
    },
    {
     "name": "stdout",
     "output_type": "stream",
     "text": [
      "Test subsample:\n"
     ]
    },
    {
     "data": {
      "image/png": "[encoded data removed]",
      "text/plain": [
       "<Figure size 432x288 with 2 Axes>"
      ]
     },
     "metadata": {
      "needs_background": "light"
     },
     "output_type": "display_data"
    }
   ],
   "source": [
    "print(\"Train subsample:\")\n",
    "plot_confusion_matrix(clf.bestclassifier_, X_train, y_train,cmap=\"viridis\",normalize=\"true\") \n",
    "plt.show();\n",
    "print(\"Test subsample:\")\n",
    "plot_confusion_matrix(clf.bestclassifier_, X_test, y_test,cmap=\"viridis\",normalize=\"true\")\n",
    "plt.show();"
   ]
  },
  {
   "cell_type": "markdown",
   "metadata": {},
   "source": [
    "### Let's check the results...\n",
    "\n",
    "We are happy enough with the model we've chosen and its performance, so now we can see the raw reviews and check out their predictions.\n",
    "\n",
    "The majority of the results are accurate or fails in 1 point. Let's check one of the predictions that are accurate."
   ]
  },
  {
   "cell_type": "code",
   "execution_count": 24,
   "metadata": {},
   "outputs": [],
   "source": [
    "res_train = Xraw_train.copy()\n",
    "res_train[\"predictions\"]=clf.predict(X_train)\n",
    "res_train=res_train.drop(columns=['level_0', 'index'])\n",
    "res_test = Xraw_test.copy()\n",
    "res_test[\"predictions\"]=clf.predict(X_test)\n",
    "res_test=res_test.drop(columns=['level_0', 'index'])"
   ]
  },
  {
   "cell_type": "code",
   "execution_count": 25,
   "metadata": {},
   "outputs": [
    {
     "data": {
      "text/html": [
       "<div>\n",
       "<style scoped>\n",
       "    .dataframe tbody tr th:only-of-type {\n",
       "        vertical-align: middle;\n",
       "    }\n",
       "\n",
       "    .dataframe tbody tr th {\n",
       "        vertical-align: top;\n",
       "    }\n",
       "\n",
       "    .dataframe thead th {\n",
       "        text-align: right;\n",
       "    }\n",
       "</style>\n",
       "<table border=\"1\" class=\"dataframe\">\n",
       "  <thead>\n",
       "    <tr style=\"text-align: right;\">\n",
       "      <th></th>\n",
       "      <th>index</th>\n",
       "      <th>overall</th>\n",
       "      <th>reviewerName</th>\n",
       "      <th>reviewText</th>\n",
       "      <th>summary</th>\n",
       "      <th>id</th>\n",
       "      <th>review_clean</th>\n",
       "      <th>predictions</th>\n",
       "    </tr>\n",
       "  </thead>\n",
       "  <tbody>\n",
       "    <tr>\n",
       "      <th>0</th>\n",
       "      <td>41382</td>\n",
       "      <td>5</td>\n",
       "      <td>Amazon Customer</td>\n",
       "      <td>love this book</td>\n",
       "      <td>Five Stars</td>\n",
       "      <td>6033ab7af7ccad4a92f32913</td>\n",
       "      <td>love book</td>\n",
       "      <td>5</td>\n",
       "    </tr>\n",
       "    <tr>\n",
       "      <th>1</th>\n",
       "      <td>46948</td>\n",
       "      <td>5</td>\n",
       "      <td>Jar</td>\n",
       "      <td>Although not familiar with a Wicca or a Magus,...</td>\n",
       "      <td>All Of Life's Journey Is Good</td>\n",
       "      <td>6033ab7ff7ccad4a92f429c9</td>\n",
       "      <td>although familiar wicca magus became comfortab...</td>\n",
       "      <td>5</td>\n",
       "    </tr>\n",
       "    <tr>\n",
       "      <th>2</th>\n",
       "      <td>49741</td>\n",
       "      <td>5</td>\n",
       "      <td>CAE2</td>\n",
       "      <td>Excellent continuation of a series</td>\n",
       "      <td>Five Stars</td>\n",
       "      <td>6033ab82f7ccad4a92f4ce44</td>\n",
       "      <td>excellent continuation series</td>\n",
       "      <td>5</td>\n",
       "    </tr>\n",
       "    <tr>\n",
       "      <th>3</th>\n",
       "      <td>49238</td>\n",
       "      <td>5</td>\n",
       "      <td>Fred A.</td>\n",
       "      <td>House of Spies continues the adventures of Gab...</td>\n",
       "      <td>Will we have to wait another year?</td>\n",
       "      <td>6033ab91f7ccad4a92f7fa2f</td>\n",
       "      <td>house spy continues adventure gabriel allon ac...</td>\n",
       "      <td>5</td>\n",
       "    </tr>\n",
       "    <tr>\n",
       "      <th>4</th>\n",
       "      <td>43115</td>\n",
       "      <td>5</td>\n",
       "      <td>E. Ribeiro</td>\n",
       "      <td>Loved it! His childhood reminded me of Diecken...</td>\n",
       "      <td>So David Copperfield!</td>\n",
       "      <td>6033ab81f7ccad4a92f4ae03</td>\n",
       "      <td>loved childhood reminded dieckens david copper...</td>\n",
       "      <td>5</td>\n",
       "    </tr>\n",
       "  </tbody>\n",
       "</table>\n",
       "</div>"
      ],
      "text/plain": [
       "   index  overall     reviewerName  \\\n",
       "0  41382        5  Amazon Customer   \n",
       "1  46948        5              Jar   \n",
       "2  49741        5             CAE2   \n",
       "3  49238        5          Fred A.   \n",
       "4  43115        5       E. Ribeiro   \n",
       "\n",
       "                                          reviewText  \\\n",
       "0                                     love this book   \n",
       "1  Although not familiar with a Wicca or a Magus,...   \n",
       "2                 Excellent continuation of a series   \n",
       "3  House of Spies continues the adventures of Gab...   \n",
       "4  Loved it! His childhood reminded me of Diecken...   \n",
       "\n",
       "                              summary                        id  \\\n",
       "0                          Five Stars  6033ab7af7ccad4a92f32913   \n",
       "1       All Of Life's Journey Is Good  6033ab7ff7ccad4a92f429c9   \n",
       "2                          Five Stars  6033ab82f7ccad4a92f4ce44   \n",
       "3  Will we have to wait another year?  6033ab91f7ccad4a92f7fa2f   \n",
       "4               So David Copperfield!  6033ab81f7ccad4a92f4ae03   \n",
       "\n",
       "                                        review_clean  predictions  \n",
       "0                                          love book            5  \n",
       "1  although familiar wicca magus became comfortab...            5  \n",
       "2                      excellent continuation series            5  \n",
       "3  house spy continues adventure gabriel allon ac...            5  \n",
       "4  loved childhood reminded dieckens david copper...            5  "
      ]
     },
     "execution_count": 25,
     "metadata": {},
     "output_type": "execute_result"
    }
   ],
   "source": [
    "testing = res_test[(res_test[\"overall\"] == 5) & (res_test[\"predictions\"] == 5)  ]\n",
    "testing=testing.reset_index()\n",
    "testing.head()"
   ]
  },
  {
   "cell_type": "code",
   "execution_count": 27,
   "metadata": {},
   "outputs": [
    {
     "name": "stdout",
     "output_type": "stream",
     "text": [
      "One of very, VERY few books that made me feel tense and on edge.  I'm looking forward to the rest of the series!\n"
     ]
    }
   ],
   "source": [
    "print(testing[\"reviewText\"][100])"
   ]
  },
  {
   "cell_type": "markdown",
   "metadata": {},
   "source": [
    "And now an example of intermediate scores:"
   ]
  },
  {
   "cell_type": "code",
   "execution_count": 28,
   "metadata": {},
   "outputs": [
    {
     "data": {
      "text/html": [
       "<div>\n",
       "<style scoped>\n",
       "    .dataframe tbody tr th:only-of-type {\n",
       "        vertical-align: middle;\n",
       "    }\n",
       "\n",
       "    .dataframe tbody tr th {\n",
       "        vertical-align: top;\n",
       "    }\n",
       "\n",
       "    .dataframe thead th {\n",
       "        text-align: right;\n",
       "    }\n",
       "</style>\n",
       "<table border=\"1\" class=\"dataframe\">\n",
       "  <thead>\n",
       "    <tr style=\"text-align: right;\">\n",
       "      <th></th>\n",
       "      <th>index</th>\n",
       "      <th>overall</th>\n",
       "      <th>reviewerName</th>\n",
       "      <th>reviewText</th>\n",
       "      <th>summary</th>\n",
       "      <th>id</th>\n",
       "      <th>review_clean</th>\n",
       "      <th>predictions</th>\n",
       "    </tr>\n",
       "  </thead>\n",
       "  <tbody>\n",
       "    <tr>\n",
       "      <th>0</th>\n",
       "      <td>20755</td>\n",
       "      <td>3</td>\n",
       "      <td>aikijujitsu2001</td>\n",
       "      <td>Not Leonard's  best, but entertaining and told...</td>\n",
       "      <td>Not Leonard's best, but entertaining and told ...</td>\n",
       "      <td>6033ab98f7ccad4a92f93671</td>\n",
       "      <td>not leonard best entertaining told flair disti...</td>\n",
       "      <td>3</td>\n",
       "    </tr>\n",
       "    <tr>\n",
       "      <th>1</th>\n",
       "      <td>27865</td>\n",
       "      <td>3</td>\n",
       "      <td>Blue Rose</td>\n",
       "      <td>This book contains the same pictures and stori...</td>\n",
       "      <td>Beautiful book needs beautiful binding</td>\n",
       "      <td>6033ab99f7ccad4a92f96ad0</td>\n",
       "      <td>this book contains picture story individual bo...</td>\n",
       "      <td>3</td>\n",
       "    </tr>\n",
       "    <tr>\n",
       "      <th>2</th>\n",
       "      <td>23339</td>\n",
       "      <td>3</td>\n",
       "      <td>WiseBearMedia</td>\n",
       "      <td>I have mixed feelings about this blockbuster n...</td>\n",
       "      <td>Wise Bear Media Reviews \"Divergent\" -- 3 Paws!</td>\n",
       "      <td>6033ab86f7ccad4a92f5a1fc</td>\n",
       "      <td>i mixed feeling blockbuster novel like lot you...</td>\n",
       "      <td>3</td>\n",
       "    </tr>\n",
       "    <tr>\n",
       "      <th>3</th>\n",
       "      <td>22376</td>\n",
       "      <td>3</td>\n",
       "      <td>sden</td>\n",
       "      <td>Its just ok.  but a necessary read to tie in a...</td>\n",
       "      <td>its ok</td>\n",
       "      <td>6033ab7df7ccad4a92f3c17d</td>\n",
       "      <td>it ok necessary read tie book stay bring together</td>\n",
       "      <td>3</td>\n",
       "    </tr>\n",
       "    <tr>\n",
       "      <th>4</th>\n",
       "      <td>22213</td>\n",
       "      <td>3</td>\n",
       "      <td>Kenneth S. Obenski</td>\n",
       "      <td>DIcken's is never an easy read, but this versi...</td>\n",
       "      <td>Bad edition</td>\n",
       "      <td>6033ab83f7ccad4a92f515d7</td>\n",
       "      <td>dicken never easy read version chapter mixed b...</td>\n",
       "      <td>3</td>\n",
       "    </tr>\n",
       "  </tbody>\n",
       "</table>\n",
       "</div>"
      ],
      "text/plain": [
       "   index  overall        reviewerName  \\\n",
       "0  20755        3     aikijujitsu2001   \n",
       "1  27865        3           Blue Rose   \n",
       "2  23339        3       WiseBearMedia   \n",
       "3  22376        3                sden   \n",
       "4  22213        3  Kenneth S. Obenski   \n",
       "\n",
       "                                          reviewText  \\\n",
       "0  Not Leonard's  best, but entertaining and told...   \n",
       "1  This book contains the same pictures and stori...   \n",
       "2  I have mixed feelings about this blockbuster n...   \n",
       "3  Its just ok.  but a necessary read to tie in a...   \n",
       "4  DIcken's is never an easy read, but this versi...   \n",
       "\n",
       "                                             summary  \\\n",
       "0  Not Leonard's best, but entertaining and told ...   \n",
       "1             Beautiful book needs beautiful binding   \n",
       "2     Wise Bear Media Reviews \"Divergent\" -- 3 Paws!   \n",
       "3                                             its ok   \n",
       "4                                        Bad edition   \n",
       "\n",
       "                         id  \\\n",
       "0  6033ab98f7ccad4a92f93671   \n",
       "1  6033ab99f7ccad4a92f96ad0   \n",
       "2  6033ab86f7ccad4a92f5a1fc   \n",
       "3  6033ab7df7ccad4a92f3c17d   \n",
       "4  6033ab83f7ccad4a92f515d7   \n",
       "\n",
       "                                        review_clean  predictions  \n",
       "0  not leonard best entertaining told flair disti...            3  \n",
       "1  this book contains picture story individual bo...            3  \n",
       "2  i mixed feeling blockbuster novel like lot you...            3  \n",
       "3  it ok necessary read tie book stay bring together            3  \n",
       "4  dicken never easy read version chapter mixed b...            3  "
      ]
     },
     "execution_count": 28,
     "metadata": {},
     "output_type": "execute_result"
    }
   ],
   "source": [
    "testing = res_test[(res_test[\"overall\"] == 3) & (res_test[\"predictions\"] == 3)]\n",
    "testing=testing.reset_index()\n",
    "testing.head()"
   ]
  },
  {
   "cell_type": "code",
   "execution_count": 33,
   "metadata": {},
   "outputs": [
    {
     "name": "stdout",
     "output_type": "stream",
     "text": [
      "This is a bit too convoluted with characters to hold interest and some of the characters aren't developed as well as they are in most of Patterson's books.  I've read many of the non-Alex Cross books and found them as wonderful as all the others, including the Murder Club series...but this one just wasn't my favorite.  I found myself hurrying through it without fully listening just so I could move on to another book.  Don't get me wrong, it's not bad, still better than a lot of mystery authors' works, but just not the full greatness of James Patterson!\n"
     ]
    }
   ],
   "source": [
    "print(testing[\"reviewText\"][11])"
   ]
  },
  {
   "cell_type": "markdown",
   "metadata": {},
   "source": [
    "And now the ones with the lowest ratings:"
   ]
  },
  {
   "cell_type": "code",
   "execution_count": 34,
   "metadata": {},
   "outputs": [
    {
     "data": {
      "text/html": [
       "<div>\n",
       "<style scoped>\n",
       "    .dataframe tbody tr th:only-of-type {\n",
       "        vertical-align: middle;\n",
       "    }\n",
       "\n",
       "    .dataframe tbody tr th {\n",
       "        vertical-align: top;\n",
       "    }\n",
       "\n",
       "    .dataframe thead th {\n",
       "        text-align: right;\n",
       "    }\n",
       "</style>\n",
       "<table border=\"1\" class=\"dataframe\">\n",
       "  <thead>\n",
       "    <tr style=\"text-align: right;\">\n",
       "      <th></th>\n",
       "      <th>index</th>\n",
       "      <th>overall</th>\n",
       "      <th>reviewerName</th>\n",
       "      <th>reviewText</th>\n",
       "      <th>summary</th>\n",
       "      <th>id</th>\n",
       "      <th>review_clean</th>\n",
       "      <th>predictions</th>\n",
       "    </tr>\n",
       "  </thead>\n",
       "  <tbody>\n",
       "    <tr>\n",
       "      <th>0</th>\n",
       "      <td>6705</td>\n",
       "      <td>1</td>\n",
       "      <td>ybforz</td>\n",
       "      <td>This has way too many words to be a childrens ...</td>\n",
       "      <td>Terrible!</td>\n",
       "      <td>6033ab93f7ccad4a92f85ec8</td>\n",
       "      <td>this ha way many word childrens book even get ...</td>\n",
       "      <td>1</td>\n",
       "    </tr>\n",
       "    <tr>\n",
       "      <th>1</th>\n",
       "      <td>7024</td>\n",
       "      <td>1</td>\n",
       "      <td>rawbar</td>\n",
       "      <td>I hate abandoning books after I've started rea...</td>\n",
       "      <td>Terrible, horrible, no good, very bad book.</td>\n",
       "      <td>6033ab76f7ccad4a92f25613</td>\n",
       "      <td>i hate abandoning book started reading way sto...</td>\n",
       "      <td>1</td>\n",
       "    </tr>\n",
       "    <tr>\n",
       "      <th>2</th>\n",
       "      <td>3396</td>\n",
       "      <td>1</td>\n",
       "      <td>Norma Hayes</td>\n",
       "      <td>Very disappointing. Seems to be some sort of d...</td>\n",
       "      <td>not a good choice</td>\n",
       "      <td>6033ab93f7ccad4a92f85fd1</td>\n",
       "      <td>very disappointing seems sort download copy ch...</td>\n",
       "      <td>1</td>\n",
       "    </tr>\n",
       "    <tr>\n",
       "      <th>3</th>\n",
       "      <td>1566</td>\n",
       "      <td>1</td>\n",
       "      <td>Beverly</td>\n",
       "      <td>Was okay. D o not like forced reviews.\\nDon li...</td>\n",
       "      <td>Forced review</td>\n",
       "      <td>6033ab89f7ccad4a92f6411c</td>\n",
       "      <td>wa okay like forced review like forced number ...</td>\n",
       "      <td>1</td>\n",
       "    </tr>\n",
       "    <tr>\n",
       "      <th>4</th>\n",
       "      <td>3184</td>\n",
       "      <td>1</td>\n",
       "      <td>B. Forney</td>\n",
       "      <td>usually I enjoy reading anything Koontz has wr...</td>\n",
       "      <td>no thanks!</td>\n",
       "      <td>6033ab8af7ccad4a92f67d06</td>\n",
       "      <td>usually enjoy reading anything koontz ha writt...</td>\n",
       "      <td>1</td>\n",
       "    </tr>\n",
       "  </tbody>\n",
       "</table>\n",
       "</div>"
      ],
      "text/plain": [
       "   index  overall reviewerName  \\\n",
       "0   6705        1       ybforz   \n",
       "1   7024        1       rawbar   \n",
       "2   3396        1  Norma Hayes   \n",
       "3   1566        1      Beverly   \n",
       "4   3184        1    B. Forney   \n",
       "\n",
       "                                          reviewText  \\\n",
       "0  This has way too many words to be a childrens ...   \n",
       "1  I hate abandoning books after I've started rea...   \n",
       "2  Very disappointing. Seems to be some sort of d...   \n",
       "3  Was okay. D o not like forced reviews.\\nDon li...   \n",
       "4  usually I enjoy reading anything Koontz has wr...   \n",
       "\n",
       "                                       summary                        id  \\\n",
       "0                                    Terrible!  6033ab93f7ccad4a92f85ec8   \n",
       "1  Terrible, horrible, no good, very bad book.  6033ab76f7ccad4a92f25613   \n",
       "2                            not a good choice  6033ab93f7ccad4a92f85fd1   \n",
       "3                                Forced review  6033ab89f7ccad4a92f6411c   \n",
       "4                                   no thanks!  6033ab8af7ccad4a92f67d06   \n",
       "\n",
       "                                        review_clean  predictions  \n",
       "0  this ha way many word childrens book even get ...            1  \n",
       "1  i hate abandoning book started reading way sto...            1  \n",
       "2  very disappointing seems sort download copy ch...            1  \n",
       "3  wa okay like forced review like forced number ...            1  \n",
       "4  usually enjoy reading anything koontz ha writt...            1  "
      ]
     },
     "execution_count": 34,
     "metadata": {},
     "output_type": "execute_result"
    }
   ],
   "source": [
    "testing = res_test[(res_test[\"overall\"] == 1) & (res_test[\"predictions\"] == 1)]\n",
    "testing=testing.reset_index()\n",
    "testing.head()"
   ]
  },
  {
   "cell_type": "code",
   "execution_count": 36,
   "metadata": {},
   "outputs": [
    {
     "name": "stdout",
     "output_type": "stream",
     "text": [
      "This book was way over the top with its incessant name dropping and rich lifestyle descriptions.\n",
      "\n",
      "I've experienced first hand what Joan Didion went through.  It's horrible, life altering, and it stays with you forever. Watching my wife, a vibrant, creative person, suddenly die in her prime was a gut-wrenching experience. But Didion's writing did little to connect with me.  It read as a largely self indulgent description by a rich, well-connected writer who seemed as interested in detailing the trappings of a luxurious lifestyle as she was in trying to connect with the reader about her grief and loss.\n",
      "\n",
      "Is this an unfair, callous description of her book? Perhaps.  But, as some others have pointed out, this book just doesn't connect.\n"
     ]
    }
   ],
   "source": [
    "print(testing[\"reviewText\"][55])"
   ]
  },
  {
   "cell_type": "markdown",
   "metadata": {},
   "source": [
    "This method isn't perfect obiously, so for curiosity we can see examples where the estimations failed the most. For example 5 star reviews that are predicted to have only 1:"
   ]
  },
  {
   "cell_type": "code",
   "execution_count": 20,
   "metadata": {},
   "outputs": [
    {
     "data": {
      "text/html": [
       "<div>\n",
       "<style scoped>\n",
       "    .dataframe tbody tr th:only-of-type {\n",
       "        vertical-align: middle;\n",
       "    }\n",
       "\n",
       "    .dataframe tbody tr th {\n",
       "        vertical-align: top;\n",
       "    }\n",
       "\n",
       "    .dataframe thead th {\n",
       "        text-align: right;\n",
       "    }\n",
       "</style>\n",
       "<table border=\"1\" class=\"dataframe\">\n",
       "  <thead>\n",
       "    <tr style=\"text-align: right;\">\n",
       "      <th></th>\n",
       "      <th>index</th>\n",
       "      <th>overall</th>\n",
       "      <th>reviewerName</th>\n",
       "      <th>reviewText</th>\n",
       "      <th>summary</th>\n",
       "      <th>id</th>\n",
       "      <th>review_clean</th>\n",
       "      <th>predictions</th>\n",
       "    </tr>\n",
       "  </thead>\n",
       "  <tbody>\n",
       "    <tr>\n",
       "      <th>0</th>\n",
       "      <td>44359</td>\n",
       "      <td>5</td>\n",
       "      <td>countofnothing</td>\n",
       "      <td>If there is one thing I can say that I love ab...</td>\n",
       "      <td>Ending is Realistic</td>\n",
       "      <td>6033ab88f7ccad4a92f6191b</td>\n",
       "      <td>if one thing say love author gave series reali...</td>\n",
       "      <td>1</td>\n",
       "    </tr>\n",
       "    <tr>\n",
       "      <th>1</th>\n",
       "      <td>40337</td>\n",
       "      <td>5</td>\n",
       "      <td>Arnold G. Tijerina III</td>\n",
       "      <td>I don't write many reviews for books on Amazon...</td>\n",
       "      <td>Freaky Masterpiece</td>\n",
       "      <td>6033ab81f7ccad4a92f49d69</td>\n",
       "      <td>i write many review book amazon however felt n...</td>\n",
       "      <td>1</td>\n",
       "    </tr>\n",
       "    <tr>\n",
       "      <th>2</th>\n",
       "      <td>45850</td>\n",
       "      <td>5</td>\n",
       "      <td>Diane Mautner</td>\n",
       "      <td>Easier in  English, but trying it out in  Span...</td>\n",
       "      <td>Easier in English, but trying it out in Spanis...</td>\n",
       "      <td>6033ab9af7ccad4a92f9943a</td>\n",
       "      <td>easier english trying spanish too</td>\n",
       "      <td>1</td>\n",
       "    </tr>\n",
       "    <tr>\n",
       "      <th>3</th>\n",
       "      <td>43961</td>\n",
       "      <td>5</td>\n",
       "      <td>J. Bradford Smith</td>\n",
       "      <td>This version has a lot of phonetically spelled...</td>\n",
       "      <td>FANTASTIC STORY!!</td>\n",
       "      <td>6033ab74f7ccad4a92f1fd6d</td>\n",
       "      <td>this version ha lot phonetically spelled gaeli...</td>\n",
       "      <td>1</td>\n",
       "    </tr>\n",
       "    <tr>\n",
       "      <th>4</th>\n",
       "      <td>45321</td>\n",
       "      <td>5</td>\n",
       "      <td>Alcan</td>\n",
       "      <td>Hope this isn't the last one in this series!!!...</td>\n",
       "      <td>Four Stars</td>\n",
       "      <td>6033ab81f7ccad4a92f491cb</td>\n",
       "      <td>hope last one series book hard put wish end eq...</td>\n",
       "      <td>1</td>\n",
       "    </tr>\n",
       "  </tbody>\n",
       "</table>\n",
       "</div>"
      ],
      "text/plain": [
       "   index  overall            reviewerName  \\\n",
       "0  44359        5          countofnothing   \n",
       "1  40337        5  Arnold G. Tijerina III   \n",
       "2  45850        5           Diane Mautner   \n",
       "3  43961        5       J. Bradford Smith   \n",
       "4  45321        5                   Alcan   \n",
       "\n",
       "                                          reviewText  \\\n",
       "0  If there is one thing I can say that I love ab...   \n",
       "1  I don't write many reviews for books on Amazon...   \n",
       "2  Easier in  English, but trying it out in  Span...   \n",
       "3  This version has a lot of phonetically spelled...   \n",
       "4  Hope this isn't the last one in this series!!!...   \n",
       "\n",
       "                                             summary  \\\n",
       "0                                Ending is Realistic   \n",
       "1                                 Freaky Masterpiece   \n",
       "2  Easier in English, but trying it out in Spanis...   \n",
       "3                                  FANTASTIC STORY!!   \n",
       "4                                         Four Stars   \n",
       "\n",
       "                         id  \\\n",
       "0  6033ab88f7ccad4a92f6191b   \n",
       "1  6033ab81f7ccad4a92f49d69   \n",
       "2  6033ab9af7ccad4a92f9943a   \n",
       "3  6033ab74f7ccad4a92f1fd6d   \n",
       "4  6033ab81f7ccad4a92f491cb   \n",
       "\n",
       "                                        review_clean  predictions  \n",
       "0  if one thing say love author gave series reali...            1  \n",
       "1  i write many review book amazon however felt n...            1  \n",
       "2                  easier english trying spanish too            1  \n",
       "3  this version ha lot phonetically spelled gaeli...            1  \n",
       "4  hope last one series book hard put wish end eq...            1  "
      ]
     },
     "execution_count": 20,
     "metadata": {},
     "output_type": "execute_result"
    }
   ],
   "source": [
    "testing = res_test[(res_test[\"overall\"] == 5) & (res_test[\"predictions\"] == 1)  ]\n",
    "testing=testing.reset_index()\n",
    "testing.head()"
   ]
  },
  {
   "cell_type": "code",
   "execution_count": 18,
   "metadata": {},
   "outputs": [
    {
     "name": "stdout",
     "output_type": "stream",
     "text": [
      "This has to be my all-time favorite Dickens novel and I am talking about Our Mutual Friend.  It has a bit of everything in it - mystery, romance, suspense, humor.  A wonderful book which I highly recommend.\n",
      "\n",
      "I would also just like to say that I really don't care for how Amazon is lumping all the Dickens novels into one place.  This is supposed to be for reviews about Our Mutual Friend and you will find reviews on many different Dickens novels here including A Christmas Carol!  I think this is terrible.  The Amazon book reviews are what drew me in to being an Amazon customer in 2003 and I do not like what I am seeing now where they seem to be lumping all of an authors book reviews onto one site.  I hope people will notice this and mention the name of the book they are reviewing from now on because otherwise readers will think they are reading a review of a certain book and it could be the review of a number of different books which doesn't make any sense.  Shame on you Amazon!  I will continue to be a loyal customer because I love Amazon, but I am surprised by this.  I've seen this done with other author's books on Amazon book reviews, too. You're not helping anyone by doing this; only confusing customers.\n",
      "\n",
      "Anyway, please read Our Mutual Friend.  You will love this book and remember it your whole life!  It's that good.\n"
     ]
    }
   ],
   "source": [
    "print(testing[\"reviewText\"][9])"
   ]
  },
  {
   "cell_type": "markdown",
   "metadata": {},
   "source": [
    "And other example of 1 star reviews that are predicted to have 5 stars:"
   ]
  },
  {
   "cell_type": "code",
   "execution_count": 21,
   "metadata": {},
   "outputs": [
    {
     "data": {
      "text/html": [
       "<div>\n",
       "<style scoped>\n",
       "    .dataframe tbody tr th:only-of-type {\n",
       "        vertical-align: middle;\n",
       "    }\n",
       "\n",
       "    .dataframe tbody tr th {\n",
       "        vertical-align: top;\n",
       "    }\n",
       "\n",
       "    .dataframe thead th {\n",
       "        text-align: right;\n",
       "    }\n",
       "</style>\n",
       "<table border=\"1\" class=\"dataframe\">\n",
       "  <thead>\n",
       "    <tr style=\"text-align: right;\">\n",
       "      <th></th>\n",
       "      <th>index</th>\n",
       "      <th>overall</th>\n",
       "      <th>reviewerName</th>\n",
       "      <th>reviewText</th>\n",
       "      <th>summary</th>\n",
       "      <th>id</th>\n",
       "      <th>review_clean</th>\n",
       "      <th>predictions</th>\n",
       "    </tr>\n",
       "  </thead>\n",
       "  <tbody>\n",
       "    <tr>\n",
       "      <th>0</th>\n",
       "      <td>1822</td>\n",
       "      <td>1</td>\n",
       "      <td>Ogen</td>\n",
       "      <td>This story is neither credible nor well writte...</td>\n",
       "      <td>Bad fiction. Not a real biography.</td>\n",
       "      <td>6033ab9cf7ccad4a92fa03af</td>\n",
       "      <td>this story neither credible well written show ...</td>\n",
       "      <td>5</td>\n",
       "    </tr>\n",
       "    <tr>\n",
       "      <th>1</th>\n",
       "      <td>6720</td>\n",
       "      <td>1</td>\n",
       "      <td>J. Musman</td>\n",
       "      <td>When I buy a cook's book it's to learn about e...</td>\n",
       "      <td>It's a hangover</td>\n",
       "      <td>6033ab98f7ccad4a92f93939</td>\n",
       "      <td>when buy cook book learn exquisite cuisine foo...</td>\n",
       "      <td>5</td>\n",
       "    </tr>\n",
       "    <tr>\n",
       "      <th>2</th>\n",
       "      <td>2672</td>\n",
       "      <td>1</td>\n",
       "      <td>jonathan calvert</td>\n",
       "      <td>Wasn't what I expected. Not one of his best !!!!!</td>\n",
       "      <td>Not one of his best!!</td>\n",
       "      <td>6033ab8af7ccad4a92f676b5</td>\n",
       "      <td>wasn expected one best</td>\n",
       "      <td>5</td>\n",
       "    </tr>\n",
       "    <tr>\n",
       "      <th>3</th>\n",
       "      <td>2767</td>\n",
       "      <td>1</td>\n",
       "      <td>Mauricio Fontana Filho</td>\n",
       "      <td>If you are looking for the cheapest books, thi...</td>\n",
       "      <td>5 stars to the story, 1 to the mass market pap...</td>\n",
       "      <td>6033ab86f7ccad4a92f5adf8</td>\n",
       "      <td>if looking cheapest book pick reading it look ...</td>\n",
       "      <td>5</td>\n",
       "    </tr>\n",
       "    <tr>\n",
       "      <th>4</th>\n",
       "      <td>8543</td>\n",
       "      <td>1</td>\n",
       "      <td>M. Fajardo</td>\n",
       "      <td>Dr. Seuss's books are known for their rhyme an...</td>\n",
       "      <td>Teacher Review:  Not true to Dr. Seuss's liter...</td>\n",
       "      <td>6033ab7bf7ccad4a92f3593f</td>\n",
       "      <td>dr seuss book known rhyme and whimsical charac...</td>\n",
       "      <td>5</td>\n",
       "    </tr>\n",
       "  </tbody>\n",
       "</table>\n",
       "</div>"
      ],
      "text/plain": [
       "   index  overall            reviewerName  \\\n",
       "0   1822        1                    Ogen   \n",
       "1   6720        1               J. Musman   \n",
       "2   2672        1        jonathan calvert   \n",
       "3   2767        1  Mauricio Fontana Filho   \n",
       "4   8543        1              M. Fajardo   \n",
       "\n",
       "                                          reviewText  \\\n",
       "0  This story is neither credible nor well writte...   \n",
       "1  When I buy a cook's book it's to learn about e...   \n",
       "2  Wasn't what I expected. Not one of his best !!!!!   \n",
       "3  If you are looking for the cheapest books, thi...   \n",
       "4  Dr. Seuss's books are known for their rhyme an...   \n",
       "\n",
       "                                             summary  \\\n",
       "0                 Bad fiction. Not a real biography.   \n",
       "1                                    It's a hangover   \n",
       "2                              Not one of his best!!   \n",
       "3  5 stars to the story, 1 to the mass market pap...   \n",
       "4  Teacher Review:  Not true to Dr. Seuss's liter...   \n",
       "\n",
       "                         id  \\\n",
       "0  6033ab9cf7ccad4a92fa03af   \n",
       "1  6033ab98f7ccad4a92f93939   \n",
       "2  6033ab8af7ccad4a92f676b5   \n",
       "3  6033ab86f7ccad4a92f5adf8   \n",
       "4  6033ab7bf7ccad4a92f3593f   \n",
       "\n",
       "                                        review_clean  predictions  \n",
       "0  this story neither credible well written show ...            5  \n",
       "1  when buy cook book learn exquisite cuisine foo...            5  \n",
       "2                             wasn expected one best            5  \n",
       "3  if looking cheapest book pick reading it look ...            5  \n",
       "4  dr seuss book known rhyme and whimsical charac...            5  "
      ]
     },
     "execution_count": 21,
     "metadata": {},
     "output_type": "execute_result"
    }
   ],
   "source": [
    "testing = res_test[(res_test[\"overall\"] == 1) & (res_test[\"predictions\"] == 5)  ]\n",
    "testing=testing.reset_index()\n",
    "testing.head()"
   ]
  },
  {
   "cell_type": "code",
   "execution_count": 22,
   "metadata": {},
   "outputs": [
    {
     "name": "stdout",
     "output_type": "stream",
     "text": [
      "Love Jane Austin, but this was very tough to get through, even more challenging than 'Pursuasion'!\n"
     ]
    }
   ],
   "source": [
    "print(testing[\"reviewText\"][9])"
   ]
  },
  {
   "cell_type": "code",
   "execution_count": null,
   "metadata": {},
   "outputs": [],
   "source": []
  },
  {
   "cell_type": "code",
   "execution_count": null,
   "metadata": {},
   "outputs": [],
   "source": []
  }
 ],
 "metadata": {
  "kernelspec": {
   "display_name": "Python 3",
   "language": "python",
   "name": "python3"
  },
  "language_info": {
   "codemirror_mode": {
    "name": "ipython",
    "version": 3
   },
   "file_extension": ".py",
   "mimetype": "text/x-python",
   "name": "python",
   "nbconvert_exporter": "python",
   "pygments_lexer": "ipython3",
   "version": "3.8.3"
  }
 },
 "nbformat": 4,
 "nbformat_minor": 4
}
