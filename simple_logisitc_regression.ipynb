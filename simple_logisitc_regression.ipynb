{
 "cells": [
  {
   "cell_type": "markdown",
   "metadata": {},
   "source": [
    "# Predicting Amazon review ratings based only on the text using TF-IDF and Logistic Regression\n",
    " \n",
    "In this exercise I will use a simple Logistic Regression model to explore if we can predict the rating of a Book review in Amazon based exclusively on the text of the review.\n",
    " \n",
    "I will begin importing the libraries necessary to perform this exercise."
   ]
  },
  {
   "cell_type": "code",
   "execution_count": 1,
   "metadata": {},
   "outputs": [
    {
     "name": "stderr",
     "output_type": "stream",
     "text": [
      "[nltk_data] Downloading package stopwords to\n",
      "[nltk_data]     /home/ordovas/nltk_data...\n",
      "[nltk_data]   Package stopwords is already up-to-date!\n",
      "[nltk_data] Downloading package wordnet to /home/ordovas/nltk_data...\n",
      "[nltk_data]   Package wordnet is already up-to-date!\n",
      "[nltk_data] Downloading package punkt to /home/ordovas/nltk_data...\n",
      "[nltk_data]   Package punkt is already up-to-date!\n"
     ]
    }
   ],
   "source": [
    "import pandas as pd\n",
    "import numpy as np\n",
    "import matplotlib.pyplot as plt\n",
    "from pymongo import MongoClient\n",
    "\n",
    "import re\n",
    "\n",
    "import nltk\n",
    "from nltk.corpus import stopwords\n",
    "nltk.download(\"stopwords\")\n",
    "from nltk.stem import WordNetLemmatizer\n",
    "nltk.download('wordnet')\n",
    "nltk.download('punkt')\n",
    "\n",
    "from sklearn.feature_extraction.text import TfidfVectorizer\n",
    "from sklearn.model_selection import train_test_split\n",
    "from sklearn.linear_model import LogisticRegression\n",
    "from sklearn.metrics import confusion_matrix\n",
    "from sklearn.metrics import plot_confusion_matrix\n",
    "\n",
    "client = MongoClient()"
   ]
  },
  {
   "cell_type": "markdown",
   "metadata": {},
   "source": [
    "Now we load a fraction of the dataset and visualize the head of the dataset that we obtained."
   ]
  },
  {
   "cell_type": "code",
   "execution_count": 2,
   "metadata": {},
   "outputs": [],
   "source": [
    "db = client.get_database(\"amazon\")\n",
    "# Define an alias for the books dataset\n",
    "books =db.books\n",
    "# Obtain a random sample from the dataset, selecting only a few records \n",
    "# (we will use only overall and reviewTest, but I will load a few more just in case I\n",
    "# want to play with more info...)\n",
    "res = list(books.aggregate([\n",
    "    { \"$sample\": { \"size\": 75000 }}\n",
    "    ,{ \"$project\": {\"id\": \"$_id\", \"_id\": 0, \"overall\": 1, \"reviewText\": 1,\"summary\":1,\"reviewerName\":1}} \n",
    "]))\n",
    "# Converting to pandas DataFrame\n",
    "df=pd.DataFrame(res)"
   ]
  },
  {
   "cell_type": "code",
   "execution_count": 3,
   "metadata": {},
   "outputs": [
    {
     "data": {
      "text/html": [
       "<div>\n",
       "<style scoped>\n",
       "    .dataframe tbody tr th:only-of-type {\n",
       "        vertical-align: middle;\n",
       "    }\n",
       "\n",
       "    .dataframe tbody tr th {\n",
       "        vertical-align: top;\n",
       "    }\n",
       "\n",
       "    .dataframe thead th {\n",
       "        text-align: right;\n",
       "    }\n",
       "</style>\n",
       "<table border=\"1\" class=\"dataframe\">\n",
       "  <thead>\n",
       "    <tr style=\"text-align: right;\">\n",
       "      <th></th>\n",
       "      <th>overall</th>\n",
       "      <th>reviewerName</th>\n",
       "      <th>reviewText</th>\n",
       "      <th>summary</th>\n",
       "      <th>id</th>\n",
       "    </tr>\n",
       "  </thead>\n",
       "  <tbody>\n",
       "    <tr>\n",
       "      <th>0</th>\n",
       "      <td>2</td>\n",
       "      <td>Lauren Page</td>\n",
       "      <td>This book was just horrid. I found myself just...</td>\n",
       "      <td>Nothing like the other books. Just bad.</td>\n",
       "      <td>6033ab76f7ccad4a92f27666</td>\n",
       "    </tr>\n",
       "    <tr>\n",
       "      <th>1</th>\n",
       "      <td>2</td>\n",
       "      <td>Taka</td>\n",
       "      <td>In the first twenty or thirty pages, I was ple...</td>\n",
       "      <td>OVERrated</td>\n",
       "      <td>6033ab85f7ccad4a92f55229</td>\n",
       "    </tr>\n",
       "    <tr>\n",
       "      <th>2</th>\n",
       "      <td>5</td>\n",
       "      <td>Samuel J.</td>\n",
       "      <td>Obviously the story is a classic for a reason,...</td>\n",
       "      <td>Very Nice</td>\n",
       "      <td>6033ab79f7ccad4a92f30a94</td>\n",
       "    </tr>\n",
       "    <tr>\n",
       "      <th>3</th>\n",
       "      <td>5</td>\n",
       "      <td>Mary M. Anderson</td>\n",
       "      <td>I wish I had seen this book when I was first b...</td>\n",
       "      <td>Best Book Ever</td>\n",
       "      <td>6033ab7df7ccad4a92f3c7df</td>\n",
       "    </tr>\n",
       "    <tr>\n",
       "      <th>4</th>\n",
       "      <td>5</td>\n",
       "      <td>DiElizabeth</td>\n",
       "      <td>This is a must read book , especially before w...</td>\n",
       "      <td>Magical adventure</td>\n",
       "      <td>6033ab79f7ccad4a92f307e5</td>\n",
       "    </tr>\n",
       "  </tbody>\n",
       "</table>\n",
       "</div>"
      ],
      "text/plain": [
       "   overall      reviewerName  \\\n",
       "0        2       Lauren Page   \n",
       "1        2              Taka   \n",
       "2        5         Samuel J.   \n",
       "3        5  Mary M. Anderson   \n",
       "4        5       DiElizabeth   \n",
       "\n",
       "                                          reviewText  \\\n",
       "0  This book was just horrid. I found myself just...   \n",
       "1  In the first twenty or thirty pages, I was ple...   \n",
       "2  Obviously the story is a classic for a reason,...   \n",
       "3  I wish I had seen this book when I was first b...   \n",
       "4  This is a must read book , especially before w...   \n",
       "\n",
       "                                   summary                        id  \n",
       "0  Nothing like the other books. Just bad.  6033ab76f7ccad4a92f27666  \n",
       "1                                OVERrated  6033ab85f7ccad4a92f55229  \n",
       "2                                Very Nice  6033ab79f7ccad4a92f30a94  \n",
       "3                           Best Book Ever  6033ab7df7ccad4a92f3c7df  \n",
       "4                        Magical adventure  6033ab79f7ccad4a92f307e5  "
      ]
     },
     "execution_count": 3,
     "metadata": {},
     "output_type": "execute_result"
    }
   ],
   "source": [
    "df.head()"
   ]
  },
  {
   "cell_type": "markdown",
   "metadata": {},
   "source": [
    "I wil now drop the rows with NaN values in the `reviewText` column."
   ]
  },
  {
   "cell_type": "code",
   "execution_count": 4,
   "metadata": {},
   "outputs": [
    {
     "name": "stdout",
     "output_type": "stream",
     "text": [
      "<class 'pandas.core.frame.DataFrame'>\n",
      "RangeIndex: 75000 entries, 0 to 74999\n",
      "Data columns (total 5 columns):\n",
      " #   Column        Non-Null Count  Dtype \n",
      "---  ------        --------------  ----- \n",
      " 0   overall       75000 non-null  int64 \n",
      " 1   reviewerName  75000 non-null  object\n",
      " 2   reviewText    74989 non-null  object\n",
      " 3   summary       74989 non-null  object\n",
      " 4   id            75000 non-null  object\n",
      "dtypes: int64(1), object(4)\n",
      "memory usage: 2.9+ MB\n"
     ]
    }
   ],
   "source": [
    "df.info()"
   ]
  },
  {
   "cell_type": "code",
   "execution_count": 5,
   "metadata": {},
   "outputs": [],
   "source": [
    "df=df.dropna(subset=['reviewText'])"
   ]
  },
  {
   "cell_type": "markdown",
   "metadata": {},
   "source": [
    "Let's check that everything is fine..."
   ]
  },
  {
   "cell_type": "code",
   "execution_count": 6,
   "metadata": {},
   "outputs": [
    {
     "name": "stdout",
     "output_type": "stream",
     "text": [
      "<class 'pandas.core.frame.DataFrame'>\n",
      "Int64Index: 74989 entries, 0 to 74999\n",
      "Data columns (total 5 columns):\n",
      " #   Column        Non-Null Count  Dtype \n",
      "---  ------        --------------  ----- \n",
      " 0   overall       74989 non-null  int64 \n",
      " 1   reviewerName  74989 non-null  object\n",
      " 2   reviewText    74989 non-null  object\n",
      " 3   summary       74978 non-null  object\n",
      " 4   id            74989 non-null  object\n",
      "dtypes: int64(1), object(4)\n",
      "memory usage: 3.4+ MB\n"
     ]
    }
   ],
   "source": [
    "df.info()"
   ]
  },
  {
   "cell_type": "markdown",
   "metadata": {},
   "source": [
    "OK, so now I will examine the `overall` column, that is the target feature.\n",
    " \n",
    "There are far more reviews with high ratings than with low scores, so there is no balance. To solve this, later on I will weight the clases instead of selecting now the exact number of reviews for each rating."
   ]
  },
  {
   "cell_type": "code",
   "execution_count": 7,
   "metadata": {},
   "outputs": [
    {
     "data": {
      "text/plain": [
       "5    47257\n",
       "4    15151\n",
       "3     6715\n",
       "2     3152\n",
       "1     2714\n",
       "Name: overall, dtype: int64"
      ]
     },
     "execution_count": 7,
     "metadata": {},
     "output_type": "execute_result"
    }
   ],
   "source": [
    "df[\"overall\"].value_counts()"
   ]
  },
  {
   "cell_type": "markdown",
   "metadata": {},
   "source": [
    "## Preprocessing: Cleaning text and TF-IDF vectorization\n",
    " \n",
    " \n",
    "To begin with I will clean the review text ignoring stop words and lemmatizing all the words."
   ]
  },
  {
   "cell_type": "code",
   "execution_count": 10,
   "metadata": {},
   "outputs": [],
   "source": [
    "# Function to lemmatize the text of the review\n",
    "def lemmatizer_text(text):\n",
    "    # Load Lemmatizer\n",
    "    lemmatizer=WordNetLemmatizer()\n",
    "    # Obtain a list with each word\n",
    "    words = nltk.word_tokenize(text)\n",
    "    # Returns an string joining the lemmatized words\n",
    "    return ' '.join([lemmatizer.lemmatize(w) for w in words])\n",
    "\n",
    "\n",
    "def cleaning_review(texts):\n",
    "    #Remove numbers, punctuation and lowercase everything\n",
    "    res=re.sub(\"[^A-Za-z]+\", \" \", texts.lower()) \n",
    "    #Lemmanize the text of the review\n",
    "    res=lemmatizer_text(res)\n",
    "    #Remove words with less than 4 letters\n",
    "    res=re.sub(r'\\b\\w{1,3}\\b', \"\", res) \n",
    "    #Remove rest of stop words\n",
    "    for stopword in stopwords.words('english'): \n",
    "        sw=stopword.replace(\"'\",\"\")\n",
    "        res=res.replace(f\" {sw} \",\" \")\n",
    "    return res\n"
   ]
  },
  {
   "cell_type": "markdown",
   "metadata": {},
   "source": [
    "Now I will create a feature with the \"cleaned\" text named `review_clean`"
   ]
  },
  {
   "cell_type": "code",
   "execution_count": 11,
   "metadata": {},
   "outputs": [],
   "source": [
    "df[\"review_clean\"]=df[\"reviewText\"]\n",
    "df[\"review_clean\"]=df[\"review_clean\"].apply(cleaning_review)\n",
    "df=df.reset_index()"
   ]
  },
  {
   "cell_type": "markdown",
   "metadata": {},
   "source": [
    "And then we can now create the TF-IDF vectors for each review using `TfidfVectorizer` from  `sklearn`. We ignore words that don't appear in at least 5 reviews.\n",
    "\n",
    "But first, we need to split the dataset into train and test samples. I will choose 85% of the sample to train and 15% to test. The TF-IDF vectorizer needs to be trained first on the train dataset and after that applied to the test dataset. This is done in order to prevent data leakage, that means that information outside of the train dataset is used during the trainin phase. The TF-IDF vectorizer is applied to the test dataset *after* it is trained with the train dataset."
   ]
  },
  {
   "cell_type": "code",
   "execution_count": 12,
   "metadata": {},
   "outputs": [],
   "source": [
    "Xraw_train, Xraw_test, y_train, y_test = train_test_split(df[\"review_clean\"], df[\"overall\"], test_size=0.15, random_state=42)\n",
    "\n",
    "v = TfidfVectorizer(min_df=5)\n",
    "tf_idf_train = v.fit_transform(Xraw_train).toarray()\n",
    "tf_idf_test = v.transform(Xraw_test).toarray()\n",
    "\n",
    "X_train=pd.DataFrame(tf_idf_train, columns=v.get_feature_names())\n",
    "X_test=pd.DataFrame(tf_idf_test, columns=v.get_feature_names())"
   ]
  },
  {
   "cell_type": "markdown",
   "metadata": {},
   "source": [
    "Just for curiosity, let's check how many features/words the TF-IDF vectors have..."
   ]
  },
  {
   "cell_type": "code",
   "execution_count": 13,
   "metadata": {},
   "outputs": [
    {
     "data": {
      "text/plain": [
       "20476"
      ]
     },
     "execution_count": 13,
     "metadata": {},
     "output_type": "execute_result"
    }
   ],
   "source": [
    "len(v.get_feature_names())"
   ]
  },
  {
   "cell_type": "markdown",
   "metadata": {},
   "source": [
    "And let's check the size of the train and test datasets."
   ]
  },
  {
   "cell_type": "code",
   "execution_count": 14,
   "metadata": {},
   "outputs": [
    {
     "data": {
      "text/plain": [
       "(63740, 11249)"
      ]
     },
     "execution_count": 14,
     "metadata": {},
     "output_type": "execute_result"
    }
   ],
   "source": [
    "len(y_train),len(y_test)"
   ]
  },
  {
   "cell_type": "markdown",
   "metadata": {},
   "source": [
    "## Logistic Regression: Predicting the scores based on the TF-IDF vectors\n",
    "\n",
    "Now it's time to use the Logistic Regression model to predict the scores of the reviews. The TD-IFD vectors are the features used to predict the target, that is the `overall` column that stores the numeric ratings.\n",
    " \n",
    "We will activate `class_weight=\"balanced\"`, as the classes (scores) are not balanced, so if we do not weigh the classes the fit will be biased towards high ratings (most populated classes).\n",
    " \n",
    "This is just a very simple approach, without fine tuning anything. This is just an exercise for learning purposes."
   ]
  },
  {
   "cell_type": "code",
   "execution_count": 15,
   "metadata": {},
   "outputs": [
    {
     "name": "stderr",
     "output_type": "stream",
     "text": [
      "/home/ordovas/anaconda3/envs/ironhack/lib/python3.8/site-packages/sklearn/linear_model/_logistic.py:762: ConvergenceWarning: lbfgs failed to converge (status=1):\n",
      "STOP: TOTAL NO. of ITERATIONS REACHED LIMIT.\n",
      "\n",
      "Increase the number of iterations (max_iter) or scale the data as shown in:\n",
      "    https://scikit-learn.org/stable/modules/preprocessing.html\n",
      "Please also refer to the documentation for alternative solver options:\n",
      "    https://scikit-learn.org/stable/modules/linear_model.html#logistic-regression\n",
      "  n_iter_i = _check_optimize_result(\n"
     ]
    }
   ],
   "source": [
    "clf = LogisticRegression(random_state=0,class_weight=\"balanced\").fit(X_train, y_train)"
   ]
  },
  {
   "cell_type": "markdown",
   "metadata": {},
   "source": [
    "That's it? Well, now we need to check the performance of this model...\n",
    "\n",
    "Let's check the score of the classification model for the train and test samples"
   ]
  },
  {
   "cell_type": "code",
   "execution_count": 16,
   "metadata": {},
   "outputs": [
    {
     "name": "stdout",
     "output_type": "stream",
     "text": [
      "Train sample classification score: 0.68\n",
      "Test sample classification score: 0.57\n"
     ]
    }
   ],
   "source": [
    "sc_train=clf.score(X_train, y_train)\n",
    "sc_test=clf.score(X_test, y_test)\n",
    "print(f\"Train sample classification score: {round(sc_train,2)}\")\n",
    "print(f\"Test sample classification score: {round(sc_test,2)}\")"
   ]
  },
  {
   "cell_type": "markdown",
   "metadata": {},
   "source": [
    "This seems just OK, but let's check an histogram to see the accuracy of the predictions by plotting the true score minus the predicted score."
   ]
  },
  {
   "cell_type": "code",
   "execution_count": 17,
   "metadata": {},
   "outputs": [
    {
     "data": {
      "image/png": "[encoded data removed]",
      "text/plain": [
       "<Figure size 432x288 with 1 Axes>"
      ]
     },
     "metadata": {
      "needs_background": "light"
     },
     "output_type": "display_data"
    }
   ],
   "source": [
    "counts, bins = np.histogram(y_train-clf.predict(X_train),bins=np.arange(-4,6))\n",
    "plt.plot(bins[:-1],counts*100/sum(counts),label=\"Train data\")\n",
    "plt.grid()\n",
    "counts, bins = np.histogram(y_test-clf.predict(X_test),bins=np.arange(-4,6))\n",
    "plt.plot(bins[:-1],counts*100/sum(counts),label=\"Test data\")\n",
    "plt.xlabel(\"Real Rating - Predicted Rating\")\n",
    "plt.ylabel(\"Percentage\")\n",
    "plt.legend();"
   ]
  },
  {
   "cell_type": "markdown",
   "metadata": {},
   "source": [
    "Well, this simple model seems not to be very wrong! Let's quantify this with the confusion matrices as well."
   ]
  },
  {
   "cell_type": "code",
   "execution_count": 18,
   "metadata": {},
   "outputs": [
    {
     "data": {
      "text/plain": [
       "array([[ 2082,   109,    45,    23,    53],\n",
       "       [  139,  2306,   143,    56,    55],\n",
       "       [  331,   555,  3738,   626,   430],\n",
       "       [  395,   596,  1708,  7495,  2690],\n",
       "       [ 1250,  1123,  2456,  7509, 27827]])"
      ]
     },
     "execution_count": 18,
     "metadata": {},
     "output_type": "execute_result"
    }
   ],
   "source": [
    "confusion_matrix(y_train,clf.predict(X_train))"
   ]
  },
  {
   "cell_type": "code",
   "execution_count": 19,
   "metadata": {},
   "outputs": [
    {
     "data": {
      "text/plain": [
       "array([[ 195,  114,   40,   18,   35],\n",
       "       [ 114,  180,   96,   36,   27],\n",
       "       [ 101,  198,  412,  220,  104],\n",
       "       [  88,  138,  434,  957,  650],\n",
       "       [ 253,  223,  444, 1449, 4723]])"
      ]
     },
     "execution_count": 19,
     "metadata": {},
     "output_type": "execute_result"
    }
   ],
   "source": [
    "confusion_matrix(y_test,clf.predict(X_test))"
   ]
  },
  {
   "cell_type": "markdown",
   "metadata": {},
   "source": [
    "And normalized to the true scores."
   ]
  },
  {
   "cell_type": "code",
   "execution_count": 20,
   "metadata": {},
   "outputs": [
    {
     "name": "stdout",
     "output_type": "stream",
     "text": [
      "Train subsample:\n"
     ]
    },
    {
     "data": {
      "image/png": "[encoded data removed]",
      "text/plain": [
       "<Figure size 432x288 with 2 Axes>"
      ]
     },
     "metadata": {
      "needs_background": "light"
     },
     "output_type": "display_data"
    },
    {
     "name": "stdout",
     "output_type": "stream",
     "text": [
      "Test subsample:\n"
     ]
    },
    {
     "data": {
      "image/png": "[encoded data removed]",
      "text/plain": [
       "<Figure size 432x288 with 2 Axes>"
      ]
     },
     "metadata": {
      "needs_background": "light"
     },
     "output_type": "display_data"
    }
   ],
   "source": [
    "print(\"Train subsample:\")\n",
    "plot_confusion_matrix(clf, X_train, y_train,cmap=\"viridis\",normalize=\"true\") \n",
    "plt.show();\n",
    "print(\"Test subsample:\")\n",
    "plot_confusion_matrix(clf, X_test, y_test,cmap=\"viridis\",normalize=\"true\")\n",
    "plt.show();"
   ]
  },
  {
   "cell_type": "markdown",
   "metadata": {},
   "source": [
    "The diagonal indicates that the Logistic Model predicts reasonably well the score of the review for this simple approach."
   ]
  },
  {
   "cell_type": "markdown",
   "metadata": {},
   "source": [
    "## Undersanding the Logistic Regression: How it is pedicted\n",
    "\n",
    "I will create a DataFrame with the coefficients of each score to understand how the features (words) contributes to each class."
   ]
  },
  {
   "cell_type": "code",
   "execution_count": 21,
   "metadata": {},
   "outputs": [
    {
     "data": {
      "text/html": [
       "<div>\n",
       "<style scoped>\n",
       "    .dataframe tbody tr th:only-of-type {\n",
       "        vertical-align: middle;\n",
       "    }\n",
       "\n",
       "    .dataframe tbody tr th {\n",
       "        vertical-align: top;\n",
       "    }\n",
       "\n",
       "    .dataframe thead th {\n",
       "        text-align: right;\n",
       "    }\n",
       "</style>\n",
       "<table border=\"1\" class=\"dataframe\">\n",
       "  <thead>\n",
       "    <tr style=\"text-align: right;\">\n",
       "      <th></th>\n",
       "      <th>1</th>\n",
       "      <th>2</th>\n",
       "      <th>3</th>\n",
       "      <th>4</th>\n",
       "      <th>5</th>\n",
       "    </tr>\n",
       "  </thead>\n",
       "  <tbody>\n",
       "    <tr>\n",
       "      <th>aaron</th>\n",
       "      <td>-0.061693</td>\n",
       "      <td>0.192707</td>\n",
       "      <td>-0.142920</td>\n",
       "      <td>-0.162202</td>\n",
       "      <td>0.174108</td>\n",
       "    </tr>\n",
       "    <tr>\n",
       "      <th>aback</th>\n",
       "      <td>-0.181668</td>\n",
       "      <td>0.242306</td>\n",
       "      <td>-0.086103</td>\n",
       "      <td>-0.003963</td>\n",
       "      <td>0.029428</td>\n",
       "    </tr>\n",
       "    <tr>\n",
       "      <th>abandon</th>\n",
       "      <td>0.897491</td>\n",
       "      <td>-0.205578</td>\n",
       "      <td>-0.376557</td>\n",
       "      <td>-0.203174</td>\n",
       "      <td>-0.112182</td>\n",
       "    </tr>\n",
       "    <tr>\n",
       "      <th>abandoned</th>\n",
       "      <td>0.836370</td>\n",
       "      <td>-0.211472</td>\n",
       "      <td>-0.313179</td>\n",
       "      <td>0.016732</td>\n",
       "      <td>-0.328450</td>\n",
       "    </tr>\n",
       "    <tr>\n",
       "      <th>abandoning</th>\n",
       "      <td>0.149999</td>\n",
       "      <td>-0.252986</td>\n",
       "      <td>-0.019347</td>\n",
       "      <td>0.093836</td>\n",
       "      <td>0.028497</td>\n",
       "    </tr>\n",
       "    <tr>\n",
       "      <th>abandonment</th>\n",
       "      <td>0.057166</td>\n",
       "      <td>0.039397</td>\n",
       "      <td>0.150065</td>\n",
       "      <td>-0.095506</td>\n",
       "      <td>-0.151121</td>\n",
       "    </tr>\n",
       "    <tr>\n",
       "      <th>abarat</th>\n",
       "      <td>-0.578782</td>\n",
       "      <td>0.478916</td>\n",
       "      <td>-0.028714</td>\n",
       "      <td>-0.121703</td>\n",
       "      <td>0.250284</td>\n",
       "    </tr>\n",
       "    <tr>\n",
       "      <th>abbey</th>\n",
       "      <td>-0.394625</td>\n",
       "      <td>0.721646</td>\n",
       "      <td>-0.037053</td>\n",
       "      <td>-0.662660</td>\n",
       "      <td>0.372692</td>\n",
       "    </tr>\n",
       "    <tr>\n",
       "      <th>abbot</th>\n",
       "      <td>-0.078685</td>\n",
       "      <td>0.149829</td>\n",
       "      <td>-0.064281</td>\n",
       "      <td>0.049720</td>\n",
       "      <td>-0.056583</td>\n",
       "    </tr>\n",
       "    <tr>\n",
       "      <th>abbott</th>\n",
       "      <td>-0.260464</td>\n",
       "      <td>0.379576</td>\n",
       "      <td>0.055833</td>\n",
       "      <td>0.048523</td>\n",
       "      <td>-0.223469</td>\n",
       "    </tr>\n",
       "    <tr>\n",
       "      <th>abbreviated</th>\n",
       "      <td>-0.543059</td>\n",
       "      <td>1.686415</td>\n",
       "      <td>-0.289327</td>\n",
       "      <td>-0.558401</td>\n",
       "      <td>-0.295627</td>\n",
       "    </tr>\n",
       "    <tr>\n",
       "      <th>abbreviation</th>\n",
       "      <td>-0.024601</td>\n",
       "      <td>-0.061625</td>\n",
       "      <td>0.027105</td>\n",
       "      <td>0.001615</td>\n",
       "      <td>0.057506</td>\n",
       "    </tr>\n",
       "    <tr>\n",
       "      <th>abby</th>\n",
       "      <td>-0.110741</td>\n",
       "      <td>-0.171615</td>\n",
       "      <td>-0.112133</td>\n",
       "      <td>0.539571</td>\n",
       "      <td>-0.145083</td>\n",
       "    </tr>\n",
       "    <tr>\n",
       "      <th>abduct</th>\n",
       "      <td>0.094952</td>\n",
       "      <td>-0.081569</td>\n",
       "      <td>0.006955</td>\n",
       "      <td>0.018338</td>\n",
       "      <td>-0.038676</td>\n",
       "    </tr>\n",
       "    <tr>\n",
       "      <th>abducted</th>\n",
       "      <td>-0.151360</td>\n",
       "      <td>-0.229559</td>\n",
       "      <td>0.324450</td>\n",
       "      <td>0.035106</td>\n",
       "      <td>0.021364</td>\n",
       "    </tr>\n",
       "    <tr>\n",
       "      <th>abduction</th>\n",
       "      <td>-0.130072</td>\n",
       "      <td>0.588694</td>\n",
       "      <td>-0.349617</td>\n",
       "      <td>0.089947</td>\n",
       "      <td>-0.198951</td>\n",
       "    </tr>\n",
       "    <tr>\n",
       "      <th>abel</th>\n",
       "      <td>0.436250</td>\n",
       "      <td>-0.254200</td>\n",
       "      <td>0.120044</td>\n",
       "      <td>-0.188493</td>\n",
       "      <td>-0.113601</td>\n",
       "    </tr>\n",
       "    <tr>\n",
       "      <th>abercrombie</th>\n",
       "      <td>-0.299208</td>\n",
       "      <td>-0.222743</td>\n",
       "      <td>-0.037001</td>\n",
       "      <td>0.263565</td>\n",
       "      <td>0.295387</td>\n",
       "    </tr>\n",
       "    <tr>\n",
       "      <th>aberdeen</th>\n",
       "      <td>0.365583</td>\n",
       "      <td>-0.634535</td>\n",
       "      <td>0.080342</td>\n",
       "      <td>0.448670</td>\n",
       "      <td>-0.260061</td>\n",
       "    </tr>\n",
       "    <tr>\n",
       "      <th>aberration</th>\n",
       "      <td>0.169974</td>\n",
       "      <td>0.533285</td>\n",
       "      <td>-0.186495</td>\n",
       "      <td>-0.278019</td>\n",
       "      <td>-0.238745</td>\n",
       "    </tr>\n",
       "  </tbody>\n",
       "</table>\n",
       "</div>"
      ],
      "text/plain": [
       "                     1         2         3         4         5\n",
       "aaron        -0.061693  0.192707 -0.142920 -0.162202  0.174108\n",
       "aback        -0.181668  0.242306 -0.086103 -0.003963  0.029428\n",
       "abandon       0.897491 -0.205578 -0.376557 -0.203174 -0.112182\n",
       "abandoned     0.836370 -0.211472 -0.313179  0.016732 -0.328450\n",
       "abandoning    0.149999 -0.252986 -0.019347  0.093836  0.028497\n",
       "abandonment   0.057166  0.039397  0.150065 -0.095506 -0.151121\n",
       "abarat       -0.578782  0.478916 -0.028714 -0.121703  0.250284\n",
       "abbey        -0.394625  0.721646 -0.037053 -0.662660  0.372692\n",
       "abbot        -0.078685  0.149829 -0.064281  0.049720 -0.056583\n",
       "abbott       -0.260464  0.379576  0.055833  0.048523 -0.223469\n",
       "abbreviated  -0.543059  1.686415 -0.289327 -0.558401 -0.295627\n",
       "abbreviation -0.024601 -0.061625  0.027105  0.001615  0.057506\n",
       "abby         -0.110741 -0.171615 -0.112133  0.539571 -0.145083\n",
       "abduct        0.094952 -0.081569  0.006955  0.018338 -0.038676\n",
       "abducted     -0.151360 -0.229559  0.324450  0.035106  0.021364\n",
       "abduction    -0.130072  0.588694 -0.349617  0.089947 -0.198951\n",
       "abel          0.436250 -0.254200  0.120044 -0.188493 -0.113601\n",
       "abercrombie  -0.299208 -0.222743 -0.037001  0.263565  0.295387\n",
       "aberdeen      0.365583 -0.634535  0.080342  0.448670 -0.260061\n",
       "aberration    0.169974  0.533285 -0.186495 -0.278019 -0.238745"
      ]
     },
     "execution_count": 21,
     "metadata": {},
     "output_type": "execute_result"
    }
   ],
   "source": [
    "model=pd.DataFrame(clf.coef_,columns=X_train.columns)\n",
    "model=model.T\n",
    "model.columns=[\"1\",\"2\",\"3\",\"4\",\"5\"]\n",
    "model.head(20)"
   ]
  },
  {
   "cell_type": "markdown",
   "metadata": {},
   "source": [
    "For the highest score, the words that are directly correlated and contributes the most are words as \"excellent\", \"great\", \"love\", \"fantastic\", \"amazing\"..."
   ]
  },
  {
   "cell_type": "code",
   "execution_count": 22,
   "metadata": {},
   "outputs": [
    {
     "data": {
      "text/plain": [
       "excellent      4.601775\n",
       "wonderful      4.093400\n",
       "amazing        3.805142\n",
       "highly         3.804939\n",
       "love           3.625317\n",
       "loved          3.539603\n",
       "perfect        3.433680\n",
       "fantastic      3.384947\n",
       "beautiful      3.282861\n",
       "beautifully    3.177139\n",
       "awesome        3.147184\n",
       "great          3.030050\n",
       "today          3.019786\n",
       "provoking      2.910257\n",
       "terrific       2.890560\n",
       "thank          2.855471\n",
       "wait           2.746846\n",
       "masterpiece    2.656303\n",
       "outstanding    2.606295\n",
       "powerful       2.586116\n",
       "Name: 5, dtype: float64"
      ]
     },
     "execution_count": 22,
     "metadata": {},
     "output_type": "execute_result"
    }
   ],
   "source": [
    "model[\"5\"].sort_values(ascending=False).head(20)"
   ]
  },
  {
   "cell_type": "markdown",
   "metadata": {},
   "source": [
    "So, for the lowest score, it is not strange that the words that are directly correlated and contribute the most are words such as \"terrible\",\"trash\" or \"boring\"."
   ]
  },
  {
   "cell_type": "code",
   "execution_count": 23,
   "metadata": {},
   "outputs": [
    {
     "data": {
      "text/plain": [
       "waste             6.413316\n",
       "wasted            5.712731\n",
       "worst             5.666858\n",
       "disappointment    4.118679\n",
       "terrible          4.072798\n",
       "boring            4.052279\n",
       "poorly            3.826763\n",
       "hated             3.715275\n",
       "stupid            3.712801\n",
       "nonsense          3.654662\n",
       "trash             3.597680\n",
       "amazon            3.431366\n",
       "zero              3.413424\n",
       "garbage           3.410193\n",
       "horrible          3.402571\n",
       "crap              3.393276\n",
       "junk              3.380922\n",
       "rubbish           3.298719\n",
       "porn              3.290351\n",
       "apparently        3.265722\n",
       "Name: 1, dtype: float64"
      ]
     },
     "execution_count": 23,
     "metadata": {},
     "output_type": "execute_result"
    }
   ],
   "source": [
    "model[\"1\"].sort_values(ascending=False).head(20)"
   ]
  },
  {
   "cell_type": "markdown",
   "metadata": {},
   "source": [
    "With respect to the intermediate scores, the words that define these reviews are related to texts that show good and bad aspects of the product, so words like \"however\" or \"unfortunately\" are weighted high, as well as \"okay\",\"somewhat\" and \"alright\"."
   ]
  },
  {
   "cell_type": "code",
   "execution_count": 24,
   "metadata": {
    "scrolled": true
   },
   "outputs": [
    {
     "data": {
      "text/plain": [
       "however         3.674379\n",
       "okay            3.387344\n",
       "frustrating     2.719719\n",
       "overall         2.685825\n",
       "three           2.355088\n",
       "turner          2.252566\n",
       "decent          2.237369\n",
       "seemed          2.171566\n",
       "blown           2.124443\n",
       "felt            2.119106\n",
       "alright         2.041549\n",
       "still           2.032812\n",
       "setting         1.976933\n",
       "particularly    1.973048\n",
       "average         1.972463\n",
       "unusual         1.950792\n",
       "fairly          1.939594\n",
       "lacking         1.922384\n",
       "pleasant        1.914850\n",
       "prefer          1.909206\n",
       "Name: 3, dtype: float64"
      ]
     },
     "execution_count": 24,
     "metadata": {},
     "output_type": "execute_result"
    }
   ],
   "source": [
    "model[\"3\"].sort_values(ascending=False).head(20)"
   ]
  },
  {
   "cell_type": "markdown",
   "metadata": {},
   "source": [
    "On the other side, words with the lowest value of the coefficients show other information: features that are least likely to appear on a review. For instance, for the best reviewed books, we will not find words as \"boring\" or \"disappointing\"."
   ]
  },
  {
   "cell_type": "code",
   "execution_count": 25,
   "metadata": {},
   "outputs": [
    {
     "data": {
      "text/plain": [
       "disappointing    -5.261526\n",
       "boring           -5.004400\n",
       "unfortunately    -4.079230\n",
       "however          -3.951741\n",
       "tedious          -3.859695\n",
       "instead          -3.620947\n",
       "disappointed     -3.578610\n",
       "waste            -3.477536\n",
       "disappointment   -3.290387\n",
       "okay             -3.273860\n",
       "slow             -3.200287\n",
       "seemed           -3.158649\n",
       "predictable      -3.127049\n",
       "poorly           -3.116196\n",
       "depressing       -3.054896\n",
       "annoying         -2.966359\n",
       "premise          -2.946118\n",
       "confusing        -2.853311\n",
       "would            -2.812168\n",
       "difficult        -2.782072\n",
       "Name: 5, dtype: float64"
      ]
     },
     "execution_count": 25,
     "metadata": {},
     "output_type": "execute_result"
    }
   ],
   "source": [
    "model[\"5\"].sort_values(ascending=True).head(20)"
   ]
  },
  {
   "cell_type": "markdown",
   "metadata": {},
   "source": [
    "For the products with lowest score, we will not find \"perfect\", \"good\", \"enjoyed\" or \"great\"."
   ]
  },
  {
   "cell_type": "code",
   "execution_count": 26,
   "metadata": {},
   "outputs": [
    {
     "data": {
      "text/plain": [
       "easy           -4.638756\n",
       "beautiful      -3.589769\n",
       "particularly   -3.404560\n",
       "enjoyed        -3.359470\n",
       "excellent      -3.342778\n",
       "turner         -3.303818\n",
       "perspective    -3.113625\n",
       "today          -3.100802\n",
       "fascinating    -3.099424\n",
       "still          -2.954108\n",
       "especially     -2.874138\n",
       "expect         -2.832547\n",
       "though         -2.802692\n",
       "perfect        -2.787033\n",
       "awesome        -2.723490\n",
       "next           -2.723467\n",
       "second         -2.653393\n",
       "unusual        -2.644315\n",
       "love           -2.643522\n",
       "easier         -2.522630\n",
       "Name: 1, dtype: float64"
      ]
     },
     "execution_count": 26,
     "metadata": {},
     "output_type": "execute_result"
    }
   ],
   "source": [
    "model[\"1\"].sort_values(ascending=True).head(20)"
   ]
  },
  {
   "cell_type": "markdown",
   "metadata": {},
   "source": [
    "Lastly, for scores as 3, we will not find words that indicate extreme (good or bad) reviews. "
   ]
  },
  {
   "cell_type": "code",
   "execution_count": 27,
   "metadata": {},
   "outputs": [
    {
     "data": {
      "text/plain": [
       "wasted       -2.384733\n",
       "recommend    -2.159904\n",
       "power        -2.057191\n",
       "right        -2.018770\n",
       "describe     -2.014200\n",
       "barely       -2.010569\n",
       "wait         -1.998578\n",
       "thank        -1.941785\n",
       "daily        -1.924913\n",
       "shame        -1.917508\n",
       "save         -1.889566\n",
       "painful      -1.881169\n",
       "scientific   -1.848593\n",
       "drivel       -1.843792\n",
       "study        -1.828461\n",
       "loved        -1.824597\n",
       "extremely    -1.824438\n",
       "grader       -1.786883\n",
       "pull         -1.780412\n",
       "pointless    -1.745263\n",
       "Name: 3, dtype: float64"
      ]
     },
     "execution_count": 27,
     "metadata": {},
     "output_type": "execute_result"
    }
   ],
   "source": [
    "model[\"3\"].sort_values(ascending=True).head(20)"
   ]
  },
  {
   "cell_type": "markdown",
   "metadata": {},
   "source": [
    "## Caveats\n",
    "\n",
    "This is a very simple approach to understand this exercise, so we can improve it a lot. We can reduce the dimensionality of the features, test different algorithms and tune the ML parameters. But in this notebook I show this simple solution to learn how it works."
   ]
  },
  {
   "cell_type": "code",
   "execution_count": null,
   "metadata": {},
   "outputs": [],
   "source": []
  }
 ],
 "metadata": {
  "kernelspec": {
   "display_name": "Python 3",
   "language": "python",
   "name": "python3"
  },
  "language_info": {
   "codemirror_mode": {
    "name": "ipython",
    "version": 3
   },
   "file_extension": ".py",
   "mimetype": "text/x-python",
   "name": "python",
   "nbconvert_exporter": "python",
   "pygments_lexer": "ipython3",
   "version": "3.8.3"
  }
 },
 "nbformat": 4,
 "nbformat_minor": 4
}
