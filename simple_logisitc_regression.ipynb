{
 "cells": [
  {
   "cell_type": "markdown",
   "metadata": {},
   "source": [
    "# Predicting Amazon review score based only on the text\n",
    " \n",
    "In this exercise I will use a Logistic regression model to explore if we can predict the score of a Book review in Amazon based exclusively on the text of the review.\n",
    " \n",
    "I will begin importing the libraries necessary to perform this exercise."
   ]
  },
  {
   "cell_type": "code",
   "execution_count": 1,
   "metadata": {},
   "outputs": [
    {
     "name": "stderr",
     "output_type": "stream",
     "text": [
      "[nltk_data] Downloading package stopwords to\n",
      "[nltk_data]     /home/ordovas/nltk_data...\n",
      "[nltk_data]   Package stopwords is already up-to-date!\n"
     ]
    }
   ],
   "source": [
    "import pandas as pd\n",
    "import numpy as np\n",
    "import matplotlib.pyplot as plt\n",
    "from pymongo import MongoClient\n",
    "\n",
    "import re\n",
    "\n",
    "import nltk\n",
    "from nltk.corpus import stopwords\n",
    "nltk.download(\"stopwords\")\n",
    "\n",
    "from sklearn.feature_extraction.text import TfidfVectorizer\n",
    "from sklearn.model_selection import train_test_split\n",
    "from sklearn.linear_model import LogisticRegression\n",
    "from sklearn.metrics import confusion_matrix\n",
    "from sklearn.metrics import plot_confusion_matrix\n",
    "\n",
    "client = MongoClient()"
   ]
  },
  {
   "cell_type": "markdown",
   "metadata": {},
   "source": [
    "Now we load a fraction of the dataset and visualize the head of the dataset that we obtained."
   ]
  },
  {
   "cell_type": "code",
   "execution_count": 2,
   "metadata": {},
   "outputs": [],
   "source": [
    "db = client.get_database(\"amazon\")\n",
    "# Define an alias for the books dataset\n",
    "books =db.books\n",
    "# Obtain a random sample from the dataset, selecting only a few records \n",
    "# (we will use only overall and reviewTest, but I will load a few more just in case I\n",
    "# want to play with more info...)\n",
    "res = list(books.aggregate([\n",
    "    { \"$sample\": { \"size\": 60000 }}\n",
    "    ,{ \"$project\": {\"id\": \"$_id\", \"_id\": 0, \"overall\": 1, \"reviewText\": 1,\"summary\":1,\"reviewerName\":1}} \n",
    "]))\n",
    "# Converting to pandas DataFrame\n",
    "df=pd.DataFrame(res)"
   ]
  },
  {
   "cell_type": "code",
   "execution_count": 3,
   "metadata": {},
   "outputs": [
    {
     "data": {
      "text/html": [
       "<div>\n",
       "<style scoped>\n",
       "    .dataframe tbody tr th:only-of-type {\n",
       "        vertical-align: middle;\n",
       "    }\n",
       "\n",
       "    .dataframe tbody tr th {\n",
       "        vertical-align: top;\n",
       "    }\n",
       "\n",
       "    .dataframe thead th {\n",
       "        text-align: right;\n",
       "    }\n",
       "</style>\n",
       "<table border=\"1\" class=\"dataframe\">\n",
       "  <thead>\n",
       "    <tr style=\"text-align: right;\">\n",
       "      <th></th>\n",
       "      <th>overall</th>\n",
       "      <th>reviewerName</th>\n",
       "      <th>reviewText</th>\n",
       "      <th>summary</th>\n",
       "      <th>id</th>\n",
       "    </tr>\n",
       "  </thead>\n",
       "  <tbody>\n",
       "    <tr>\n",
       "      <th>0</th>\n",
       "      <td>3</td>\n",
       "      <td>BMac</td>\n",
       "      <td>I read the series a long long time ago and rem...</td>\n",
       "      <td>Don't Feel That it Holds Up Well</td>\n",
       "      <td>6033ab71f7ccad4a92f17f5d</td>\n",
       "    </tr>\n",
       "    <tr>\n",
       "      <th>1</th>\n",
       "      <td>5</td>\n",
       "      <td>J. Schonbok</td>\n",
       "      <td>I don't know how I missed this in my youth.  V...</td>\n",
       "      <td>Great YA book</td>\n",
       "      <td>6033ab95f7ccad4a92f8b088</td>\n",
       "    </tr>\n",
       "    <tr>\n",
       "      <th>2</th>\n",
       "      <td>4</td>\n",
       "      <td>B. Merkel</td>\n",
       "      <td>Arrived promptly and as described</td>\n",
       "      <td>Four Stars</td>\n",
       "      <td>6033ab84f7ccad4a92f53ea5</td>\n",
       "    </tr>\n",
       "    <tr>\n",
       "      <th>3</th>\n",
       "      <td>5</td>\n",
       "      <td>Rick K.</td>\n",
       "      <td>It's hard to pinpoint which is more impressive...</td>\n",
       "      <td>A moving exploration of family and relationships</td>\n",
       "      <td>6033ab80f7ccad4a92f470ce</td>\n",
       "    </tr>\n",
       "    <tr>\n",
       "      <th>4</th>\n",
       "      <td>3</td>\n",
       "      <td>Christopher Lord</td>\n",
       "      <td>This is a perfectly adequate memoir about some...</td>\n",
       "      <td>Tarnished by Hype</td>\n",
       "      <td>6033ab92f7ccad4a92f81562</td>\n",
       "    </tr>\n",
       "  </tbody>\n",
       "</table>\n",
       "</div>"
      ],
      "text/plain": [
       "   overall      reviewerName  \\\n",
       "0        3              BMac   \n",
       "1        5       J. Schonbok   \n",
       "2        4         B. Merkel   \n",
       "3        5           Rick K.   \n",
       "4        3  Christopher Lord   \n",
       "\n",
       "                                          reviewText  \\\n",
       "0  I read the series a long long time ago and rem...   \n",
       "1  I don't know how I missed this in my youth.  V...   \n",
       "2                  Arrived promptly and as described   \n",
       "3  It's hard to pinpoint which is more impressive...   \n",
       "4  This is a perfectly adequate memoir about some...   \n",
       "\n",
       "                                            summary                        id  \n",
       "0                  Don't Feel That it Holds Up Well  6033ab71f7ccad4a92f17f5d  \n",
       "1                                     Great YA book  6033ab95f7ccad4a92f8b088  \n",
       "2                                        Four Stars  6033ab84f7ccad4a92f53ea5  \n",
       "3  A moving exploration of family and relationships  6033ab80f7ccad4a92f470ce  \n",
       "4                                 Tarnished by Hype  6033ab92f7ccad4a92f81562  "
      ]
     },
     "execution_count": 3,
     "metadata": {},
     "output_type": "execute_result"
    }
   ],
   "source": [
    "df.head()"
   ]
  },
  {
   "cell_type": "markdown",
   "metadata": {},
   "source": [
    "I wil now drop the rows with NaN values in the `reviewText` column."
   ]
  },
  {
   "cell_type": "code",
   "execution_count": 4,
   "metadata": {},
   "outputs": [
    {
     "name": "stdout",
     "output_type": "stream",
     "text": [
      "<class 'pandas.core.frame.DataFrame'>\n",
      "RangeIndex: 60000 entries, 0 to 59999\n",
      "Data columns (total 5 columns):\n",
      " #   Column        Non-Null Count  Dtype \n",
      "---  ------        --------------  ----- \n",
      " 0   overall       60000 non-null  int64 \n",
      " 1   reviewerName  59997 non-null  object\n",
      " 2   reviewText    59991 non-null  object\n",
      " 3   summary       59994 non-null  object\n",
      " 4   id            60000 non-null  object\n",
      "dtypes: int64(1), object(4)\n",
      "memory usage: 2.3+ MB\n"
     ]
    }
   ],
   "source": [
    "df.info()"
   ]
  },
  {
   "cell_type": "code",
   "execution_count": 5,
   "metadata": {},
   "outputs": [],
   "source": [
    "df=df.dropna(subset=['reviewText'])"
   ]
  },
  {
   "cell_type": "markdown",
   "metadata": {},
   "source": [
    "Let's check that everything is fine..."
   ]
  },
  {
   "cell_type": "code",
   "execution_count": 6,
   "metadata": {},
   "outputs": [
    {
     "name": "stdout",
     "output_type": "stream",
     "text": [
      "<class 'pandas.core.frame.DataFrame'>\n",
      "Int64Index: 59991 entries, 0 to 59999\n",
      "Data columns (total 5 columns):\n",
      " #   Column        Non-Null Count  Dtype \n",
      "---  ------        --------------  ----- \n",
      " 0   overall       59991 non-null  int64 \n",
      " 1   reviewerName  59988 non-null  object\n",
      " 2   reviewText    59991 non-null  object\n",
      " 3   summary       59985 non-null  object\n",
      " 4   id            59991 non-null  object\n",
      "dtypes: int64(1), object(4)\n",
      "memory usage: 2.7+ MB\n"
     ]
    }
   ],
   "source": [
    "df.info()"
   ]
  },
  {
   "cell_type": "markdown",
   "metadata": {},
   "source": [
    "OK, so now I will examine the `overall` column, that is the target feature.\n",
    " \n",
    "There are far more reviews with high scores than with low scores, so there is no balance. To solve this, later on I will weight the clases instead of selecting now the exact number of reviews for each score."
   ]
  },
  {
   "cell_type": "code",
   "execution_count": 7,
   "metadata": {},
   "outputs": [
    {
     "data": {
      "text/plain": [
       "5    37712\n",
       "4    12252\n",
       "3     5441\n",
       "2     2523\n",
       "1     2063\n",
       "Name: overall, dtype: int64"
      ]
     },
     "execution_count": 7,
     "metadata": {},
     "output_type": "execute_result"
    }
   ],
   "source": [
    "df[\"overall\"].value_counts()"
   ]
  },
  {
   "cell_type": "markdown",
   "metadata": {},
   "source": [
    "## Preprocessing: TF-IDF\n",
    " \n",
    "I will create TF-IFD vectors for each review. TF-IDF measures the frequency of each word inside a review and compares it with the number of documents where this word appears. \n",
    " \n",
    "To begin with I will clean the review text ignoring stop words and words with less than 4 letters, as they will likely not contain much information."
   ]
  },
  {
   "cell_type": "code",
   "execution_count": 8,
   "metadata": {},
   "outputs": [],
   "source": [
    "def cleaning_review(texts):\n",
    "    #Remove numbers, punctuation and lowercase everything\n",
    "    res=re.sub(\"[^A-Za-z]+\", \" \", texts.lower()) \n",
    "    #Remove words with less than 4 letters\n",
    "    res=re.sub(r'\\b\\w{1,3}\\b', \"\", res) \n",
    "    #Remove rest of stop words\n",
    "    for stopword in stopwords.words('english'): \n",
    "        sw=stopword.replace(\"'\",\"\")\n",
    "        res=res.replace(f\" {sw} \",\" \")\n",
    "    return res\n",
    "\n"
   ]
  },
  {
   "cell_type": "markdown",
   "metadata": {},
   "source": [
    "Now I will create a feature with the \"cleaned\" text named `review_clean`"
   ]
  },
  {
   "cell_type": "code",
   "execution_count": 9,
   "metadata": {},
   "outputs": [],
   "source": [
    "df[\"review_clean\"]=df[\"reviewText\"]\n",
    "df[\"review_clean\"]=df[\"review_clean\"].apply(cleaning_review)\n",
    "df=df.reset_index()"
   ]
  },
  {
   "cell_type": "markdown",
   "metadata": {},
   "source": [
    "And then we can now create the TF-IDF vectors for each review using `TfidfVectorizer` from  `sklearn`. We ignore words that don't appear in at least 5 reviews."
   ]
  },
  {
   "cell_type": "code",
   "execution_count": 10,
   "metadata": {},
   "outputs": [],
   "source": [
    "v = TfidfVectorizer(min_df=5)\n",
    "x = v.fit_transform(df['review_clean']).toarray()\n",
    "df_tfidf = pd.DataFrame(x, columns=v.get_feature_names())"
   ]
  },
  {
   "cell_type": "markdown",
   "metadata": {},
   "source": [
    "Just for curiosity, let's check how many features/words the TF-IDF vectors have..."
   ]
  },
  {
   "cell_type": "code",
   "execution_count": 11,
   "metadata": {},
   "outputs": [
    {
     "data": {
      "text/plain": [
       "22348"
      ]
     },
     "execution_count": 11,
     "metadata": {},
     "output_type": "execute_result"
    }
   ],
   "source": [
    "len(v.get_feature_names())"
   ]
  },
  {
   "cell_type": "markdown",
   "metadata": {},
   "source": [
    "## Logistic Regression: Predicting the scores based on the TF-IDF vectors\n",
    " \n",
    "First of all, we need to split the dataset into train and test samples. I will choose 85% of the sample to train and 15% to test.\n",
    " \n",
    "The TD-IFD vectors are the features used to predict the target, that is the `overall` column that stores the numeric scores."
   ]
  },
  {
   "cell_type": "code",
   "execution_count": 12,
   "metadata": {},
   "outputs": [],
   "source": [
    "X_train, X_test, y_train, y_test = train_test_split(df_tfidf, df[\"overall\"], test_size=0.15, random_state=42)"
   ]
  },
  {
   "cell_type": "code",
   "execution_count": 13,
   "metadata": {},
   "outputs": [
    {
     "data": {
      "text/plain": [
       "(50992, 8999)"
      ]
     },
     "execution_count": 13,
     "metadata": {},
     "output_type": "execute_result"
    }
   ],
   "source": [
    "len(y_train),len(y_test)"
   ]
  },
  {
   "cell_type": "markdown",
   "metadata": {},
   "source": [
    "Now it's time to use the Logistic Regression model to predict the scores of the reviews.\n",
    " \n",
    "We will activate `class_weight=\"balanced\"`, as the classes (scores) are not balanced, so if we do not weigh the classes the fit will be biased towards high scores (most populated classes).\n",
    " \n",
    "This is just a very simple approach, without fine tuning anything and without checking overfitting. This is just an exercise for learning purposes."
   ]
  },
  {
   "cell_type": "code",
   "execution_count": 14,
   "metadata": {},
   "outputs": [
    {
     "name": "stderr",
     "output_type": "stream",
     "text": [
      "/home/ordovas/anaconda3/envs/ironhack/lib/python3.8/site-packages/sklearn/linear_model/_logistic.py:762: ConvergenceWarning: lbfgs failed to converge (status=1):\n",
      "STOP: TOTAL NO. of ITERATIONS REACHED LIMIT.\n",
      "\n",
      "Increase the number of iterations (max_iter) or scale the data as shown in:\n",
      "    https://scikit-learn.org/stable/modules/preprocessing.html\n",
      "Please also refer to the documentation for alternative solver options:\n",
      "    https://scikit-learn.org/stable/modules/linear_model.html#logistic-regression\n",
      "  n_iter_i = _check_optimize_result(\n"
     ]
    }
   ],
   "source": [
    "clf = LogisticRegression(random_state=0,class_weight=\"balanced\").fit(X_train, y_train)"
   ]
  },
  {
   "cell_type": "markdown",
   "metadata": {},
   "source": [
    "That's it? Well, now we need to check the performance of this model...\n",
    "\n",
    "Let's check the score of the classification model for the train and test samples"
   ]
  },
  {
   "cell_type": "code",
   "execution_count": 15,
   "metadata": {},
   "outputs": [
    {
     "name": "stdout",
     "output_type": "stream",
     "text": [
      "Train sample classification score: 0.7\n",
      "Test sample classification score: 0.57\n"
     ]
    }
   ],
   "source": [
    "sc_train=clf.score(X_train, y_train)\n",
    "sc_test=clf.score(X_test, y_test)\n",
    "print(f\"Train sample classification score: {round(sc_train,2)}\")\n",
    "print(f\"Test sample classification score: {round(sc_test,2)}\")"
   ]
  },
  {
   "cell_type": "markdown",
   "metadata": {},
   "source": [
    "This seems just OK, but let's check an histogram to see the accuracy of the predictions by plotting the true score minus the predicted score."
   ]
  },
  {
   "cell_type": "code",
   "execution_count": 16,
   "metadata": {},
   "outputs": [
    {
     "data": {
      "image/png": "[encoded data removed]",
      "text/plain": [
       "<Figure size 432x288 with 1 Axes>"
      ]
     },
     "metadata": {
      "needs_background": "light"
     },
     "output_type": "display_data"
    }
   ],
   "source": [
    "counts, bins = np.histogram(y_train-clf.predict(X_train),bins=np.arange(-4,6))\n",
    "plt.plot(bins[:-1],counts*100/sum(counts),label=\"Train data\")\n",
    "plt.grid()\n",
    "counts, bins = np.histogram(y_test-clf.predict(X_test),bins=np.arange(-4,6))\n",
    "plt.plot(bins[:-1],counts*100/sum(counts),label=\"Test data\")\n",
    "plt.xlabel(\"Real Score - Predicted Score\")\n",
    "plt.ylabel(\"Percentage\")\n",
    "plt.legend();"
   ]
  },
  {
   "cell_type": "markdown",
   "metadata": {},
   "source": [
    "Well, this simple model seems not to be very wrong! Let's quantify this with the confusion matrices as well."
   ]
  },
  {
   "cell_type": "code",
   "execution_count": 17,
   "metadata": {},
   "outputs": [
    {
     "data": {
      "text/plain": [
       "array([[ 1635,    41,    23,    13,    24],\n",
       "       [   85,  1909,    80,    27,    36],\n",
       "       [  215,   385,  3208,   467,   335],\n",
       "       [  295,   466,  1334,  6248,  2097],\n",
       "       [  897,   847,  1841,  6035, 22449]])"
      ]
     },
     "execution_count": 17,
     "metadata": {},
     "output_type": "execute_result"
    }
   ],
   "source": [
    "confusion_matrix(y_train,clf.predict(X_train))"
   ]
  },
  {
   "cell_type": "code",
   "execution_count": 18,
   "metadata": {},
   "outputs": [
    {
     "data": {
      "text/plain": [
       "array([[ 168,   69,   45,   20,   25],\n",
       "       [  90,  126,  109,   30,   31],\n",
       "       [  70,  161,  332,  186,   82],\n",
       "       [  69,  104,  347,  760,  532],\n",
       "       [ 175,  172,  349, 1184, 3763]])"
      ]
     },
     "execution_count": 18,
     "metadata": {},
     "output_type": "execute_result"
    }
   ],
   "source": [
    "confusion_matrix(y_test,clf.predict(X_test))"
   ]
  },
  {
   "cell_type": "markdown",
   "metadata": {},
   "source": [
    "And normalized to the true scores."
   ]
  },
  {
   "cell_type": "code",
   "execution_count": 19,
   "metadata": {},
   "outputs": [
    {
     "name": "stdout",
     "output_type": "stream",
     "text": [
      "Train subsample:\n"
     ]
    },
    {
     "data": {
      "image/png": "[encoded data removed]",
      "text/plain": [
       "<Figure size 432x288 with 2 Axes>"
      ]
     },
     "metadata": {
      "needs_background": "light"
     },
     "output_type": "display_data"
    },
    {
     "name": "stdout",
     "output_type": "stream",
     "text": [
      "Test subsample:\n"
     ]
    },
    {
     "data": {
      "image/png": "[encoded data removed]",
      "text/plain": [
       "<Figure size 432x288 with 2 Axes>"
      ]
     },
     "metadata": {
      "needs_background": "light"
     },
     "output_type": "display_data"
    }
   ],
   "source": [
    "print(\"Train subsample:\")\n",
    "plot_confusion_matrix(clf, X_train, y_train,cmap=\"viridis\",normalize=\"true\") \n",
    "plt.show();\n",
    "print(\"Test subsample:\")\n",
    "plot_confusion_matrix(clf, X_test, y_test,cmap=\"viridis\",normalize=\"true\")\n",
    "plt.show();"
   ]
  },
  {
   "cell_type": "markdown",
   "metadata": {},
   "source": [
    "The diagonal indicates that the Logistic Model predicts reasonably well the score of the review for this simple approach."
   ]
  },
  {
   "cell_type": "markdown",
   "metadata": {},
   "source": [
    "## Undersanding the Logistic Regression: How it is pedicted\n",
    "\n",
    "I will create a DataFrame with the coefficients of each score to understand how the features (words) contributes to each class."
   ]
  },
  {
   "cell_type": "code",
   "execution_count": 20,
   "metadata": {},
   "outputs": [
    {
     "data": {
      "text/html": [
       "<div>\n",
       "<style scoped>\n",
       "    .dataframe tbody tr th:only-of-type {\n",
       "        vertical-align: middle;\n",
       "    }\n",
       "\n",
       "    .dataframe tbody tr th {\n",
       "        vertical-align: top;\n",
       "    }\n",
       "\n",
       "    .dataframe thead th {\n",
       "        text-align: right;\n",
       "    }\n",
       "</style>\n",
       "<table border=\"1\" class=\"dataframe\">\n",
       "  <thead>\n",
       "    <tr style=\"text-align: right;\">\n",
       "      <th></th>\n",
       "      <th>1</th>\n",
       "      <th>2</th>\n",
       "      <th>3</th>\n",
       "      <th>4</th>\n",
       "      <th>5</th>\n",
       "    </tr>\n",
       "  </thead>\n",
       "  <tbody>\n",
       "    <tr>\n",
       "      <th>aaron</th>\n",
       "      <td>0.143835</td>\n",
       "      <td>0.116072</td>\n",
       "      <td>-0.134834</td>\n",
       "      <td>-0.190633</td>\n",
       "      <td>0.065560</td>\n",
       "    </tr>\n",
       "    <tr>\n",
       "      <th>aback</th>\n",
       "      <td>-0.100436</td>\n",
       "      <td>-0.179772</td>\n",
       "      <td>0.334148</td>\n",
       "      <td>-0.079878</td>\n",
       "      <td>0.025938</td>\n",
       "    </tr>\n",
       "    <tr>\n",
       "      <th>abandon</th>\n",
       "      <td>-0.190054</td>\n",
       "      <td>0.407521</td>\n",
       "      <td>-0.355912</td>\n",
       "      <td>0.040815</td>\n",
       "      <td>0.097630</td>\n",
       "    </tr>\n",
       "    <tr>\n",
       "      <th>abandoned</th>\n",
       "      <td>0.449588</td>\n",
       "      <td>1.293238</td>\n",
       "      <td>-0.825934</td>\n",
       "      <td>-0.545824</td>\n",
       "      <td>-0.371069</td>\n",
       "    </tr>\n",
       "    <tr>\n",
       "      <th>abandoning</th>\n",
       "      <td>0.987977</td>\n",
       "      <td>-0.510773</td>\n",
       "      <td>-0.290151</td>\n",
       "      <td>-0.241187</td>\n",
       "      <td>0.054134</td>\n",
       "    </tr>\n",
       "    <tr>\n",
       "      <th>abandonment</th>\n",
       "      <td>-0.224157</td>\n",
       "      <td>-0.042891</td>\n",
       "      <td>0.146707</td>\n",
       "      <td>0.030791</td>\n",
       "      <td>0.089550</td>\n",
       "    </tr>\n",
       "    <tr>\n",
       "      <th>abandons</th>\n",
       "      <td>0.169398</td>\n",
       "      <td>0.178445</td>\n",
       "      <td>-0.006686</td>\n",
       "      <td>-0.241509</td>\n",
       "      <td>-0.099648</td>\n",
       "    </tr>\n",
       "    <tr>\n",
       "      <th>abarat</th>\n",
       "      <td>0.022617</td>\n",
       "      <td>-0.141684</td>\n",
       "      <td>0.052952</td>\n",
       "      <td>-0.212523</td>\n",
       "      <td>0.278638</td>\n",
       "    </tr>\n",
       "    <tr>\n",
       "      <th>abba</th>\n",
       "      <td>-0.009111</td>\n",
       "      <td>-0.003449</td>\n",
       "      <td>-0.004060</td>\n",
       "      <td>-0.006977</td>\n",
       "      <td>0.023597</td>\n",
       "    </tr>\n",
       "    <tr>\n",
       "      <th>abbey</th>\n",
       "      <td>-0.533187</td>\n",
       "      <td>1.025832</td>\n",
       "      <td>-0.169082</td>\n",
       "      <td>-0.398923</td>\n",
       "      <td>0.075359</td>\n",
       "    </tr>\n",
       "    <tr>\n",
       "      <th>abbot</th>\n",
       "      <td>-0.101114</td>\n",
       "      <td>-0.128056</td>\n",
       "      <td>-0.010209</td>\n",
       "      <td>0.302037</td>\n",
       "      <td>-0.062659</td>\n",
       "    </tr>\n",
       "    <tr>\n",
       "      <th>abbreviated</th>\n",
       "      <td>-0.112645</td>\n",
       "      <td>-0.109492</td>\n",
       "      <td>-0.027082</td>\n",
       "      <td>0.295467</td>\n",
       "      <td>-0.046249</td>\n",
       "    </tr>\n",
       "    <tr>\n",
       "      <th>abbreviations</th>\n",
       "      <td>-0.013119</td>\n",
       "      <td>-0.016230</td>\n",
       "      <td>-0.041942</td>\n",
       "      <td>-0.041753</td>\n",
       "      <td>0.113043</td>\n",
       "    </tr>\n",
       "    <tr>\n",
       "      <th>abby</th>\n",
       "      <td>-0.028296</td>\n",
       "      <td>-0.036970</td>\n",
       "      <td>-0.038000</td>\n",
       "      <td>-0.045795</td>\n",
       "      <td>0.149060</td>\n",
       "    </tr>\n",
       "    <tr>\n",
       "      <th>abdominal</th>\n",
       "      <td>-0.023110</td>\n",
       "      <td>-0.019164</td>\n",
       "      <td>-0.020956</td>\n",
       "      <td>0.000514</td>\n",
       "      <td>0.062716</td>\n",
       "    </tr>\n",
       "    <tr>\n",
       "      <th>abducted</th>\n",
       "      <td>0.300590</td>\n",
       "      <td>-0.236374</td>\n",
       "      <td>0.311996</td>\n",
       "      <td>-0.318528</td>\n",
       "      <td>-0.057684</td>\n",
       "    </tr>\n",
       "    <tr>\n",
       "      <th>abduction</th>\n",
       "      <td>-0.047917</td>\n",
       "      <td>-0.091094</td>\n",
       "      <td>-0.063745</td>\n",
       "      <td>0.111982</td>\n",
       "      <td>0.090775</td>\n",
       "    </tr>\n",
       "    <tr>\n",
       "      <th>abel</th>\n",
       "      <td>-0.159163</td>\n",
       "      <td>0.062659</td>\n",
       "      <td>0.346649</td>\n",
       "      <td>-0.277724</td>\n",
       "      <td>0.027579</td>\n",
       "    </tr>\n",
       "    <tr>\n",
       "      <th>abercrombie</th>\n",
       "      <td>-0.415149</td>\n",
       "      <td>-0.065447</td>\n",
       "      <td>-0.321804</td>\n",
       "      <td>0.726092</td>\n",
       "      <td>0.076307</td>\n",
       "    </tr>\n",
       "    <tr>\n",
       "      <th>aberdeen</th>\n",
       "      <td>-0.101961</td>\n",
       "      <td>-0.135744</td>\n",
       "      <td>-0.118404</td>\n",
       "      <td>0.400888</td>\n",
       "      <td>-0.044778</td>\n",
       "    </tr>\n",
       "  </tbody>\n",
       "</table>\n",
       "</div>"
      ],
      "text/plain": [
       "                      1         2         3         4         5\n",
       "aaron          0.143835  0.116072 -0.134834 -0.190633  0.065560\n",
       "aback         -0.100436 -0.179772  0.334148 -0.079878  0.025938\n",
       "abandon       -0.190054  0.407521 -0.355912  0.040815  0.097630\n",
       "abandoned      0.449588  1.293238 -0.825934 -0.545824 -0.371069\n",
       "abandoning     0.987977 -0.510773 -0.290151 -0.241187  0.054134\n",
       "abandonment   -0.224157 -0.042891  0.146707  0.030791  0.089550\n",
       "abandons       0.169398  0.178445 -0.006686 -0.241509 -0.099648\n",
       "abarat         0.022617 -0.141684  0.052952 -0.212523  0.278638\n",
       "abba          -0.009111 -0.003449 -0.004060 -0.006977  0.023597\n",
       "abbey         -0.533187  1.025832 -0.169082 -0.398923  0.075359\n",
       "abbot         -0.101114 -0.128056 -0.010209  0.302037 -0.062659\n",
       "abbreviated   -0.112645 -0.109492 -0.027082  0.295467 -0.046249\n",
       "abbreviations -0.013119 -0.016230 -0.041942 -0.041753  0.113043\n",
       "abby          -0.028296 -0.036970 -0.038000 -0.045795  0.149060\n",
       "abdominal     -0.023110 -0.019164 -0.020956  0.000514  0.062716\n",
       "abducted       0.300590 -0.236374  0.311996 -0.318528 -0.057684\n",
       "abduction     -0.047917 -0.091094 -0.063745  0.111982  0.090775\n",
       "abel          -0.159163  0.062659  0.346649 -0.277724  0.027579\n",
       "abercrombie   -0.415149 -0.065447 -0.321804  0.726092  0.076307\n",
       "aberdeen      -0.101961 -0.135744 -0.118404  0.400888 -0.044778"
      ]
     },
     "execution_count": 20,
     "metadata": {},
     "output_type": "execute_result"
    }
   ],
   "source": [
    "model=pd.DataFrame(clf.coef_,columns=X_train.columns)\n",
    "model=model.T\n",
    "model.columns=[\"1\",\"2\",\"3\",\"4\",\"5\"]\n",
    "model.head(20)"
   ]
  },
  {
   "cell_type": "markdown",
   "metadata": {},
   "source": [
    "For the highest score, the words that are directly correlated and contributes the most are words as \"excellent\", \"great\", \"love\", \"fantastic\", \"amazing\"..."
   ]
  },
  {
   "cell_type": "code",
   "execution_count": 21,
   "metadata": {},
   "outputs": [
    {
     "data": {
      "text/plain": [
       "excellent      4.104869\n",
       "highly         4.019691\n",
       "loved          3.772872\n",
       "fantastic      3.624823\n",
       "perfect        3.607589\n",
       "great          3.590490\n",
       "amazing        3.545597\n",
       "love           3.460117\n",
       "wait           3.146633\n",
       "awesome        2.815119\n",
       "wonderful      2.810521\n",
       "loves          2.751754\n",
       "must           2.605154\n",
       "beautiful      2.573566\n",
       "incredible     2.548318\n",
       "beautifully    2.471592\n",
       "brilliant      2.456229\n",
       "always         2.351880\n",
       "powerful       2.285517\n",
       "wonderfully    2.283643\n",
       "Name: 5, dtype: float64"
      ]
     },
     "execution_count": 21,
     "metadata": {},
     "output_type": "execute_result"
    }
   ],
   "source": [
    "model[\"5\"].sort_values(ascending=False).head(20)"
   ]
  },
  {
   "cell_type": "markdown",
   "metadata": {},
   "source": [
    "So, for the lowest score, it is not strange that the words that are directly correlated and contribute the most are words such as \"terrible\",\"trash\" or \"boring\"."
   ]
  },
  {
   "cell_type": "code",
   "execution_count": 22,
   "metadata": {},
   "outputs": [
    {
     "data": {
      "text/plain": [
       "waste            6.193684\n",
       "boring           4.869914\n",
       "worst            4.856688\n",
       "awful            4.750948\n",
       "money            4.636627\n",
       "ridiculous       4.418359\n",
       "terrible         4.292857\n",
       "poorly           4.005158\n",
       "stupid           3.753875\n",
       "ruined           3.742148\n",
       "worse            3.633837\n",
       "disappointing    3.628819\n",
       "hated            3.611084\n",
       "horrible         3.448737\n",
       "garbage          3.366998\n",
       "zero             3.210676\n",
       "painful          3.068765\n",
       "trash            3.053153\n",
       "unreadable       3.038674\n",
       "downhill         2.984787\n",
       "Name: 1, dtype: float64"
      ]
     },
     "execution_count": 22,
     "metadata": {},
     "output_type": "execute_result"
    }
   ],
   "source": [
    "model[\"1\"].sort_values(ascending=False).head(20)"
   ]
  },
  {
   "cell_type": "markdown",
   "metadata": {},
   "source": [
    "With respect to the intermediate scores, the words that define these reviews are related to texts that show good and bad aspects of the product, so words like \"however\" or \"unfortunately\" are weighted high, as well as \"okay\",\"somewhat\" and \"alright\"."
   ]
  },
  {
   "cell_type": "code",
   "execution_count": 23,
   "metadata": {
    "scrolled": true
   },
   "outputs": [
    {
     "data": {
      "text/plain": [
       "however          3.259233\n",
       "somewhat         2.732114\n",
       "still            2.620335\n",
       "okay             2.588442\n",
       "stars            2.346963\n",
       "ultimately       2.310518\n",
       "felt             2.304861\n",
       "alright          2.302371\n",
       "unfortunately    2.294892\n",
       "expecting        2.225591\n",
       "overall          2.214540\n",
       "parts            2.075353\n",
       "frames           2.047367\n",
       "said             1.970954\n",
       "pleasant         1.940670\n",
       "places           1.934693\n",
       "sunday           1.910769\n",
       "lacking          1.909325\n",
       "trouble          1.879527\n",
       "situations       1.871509\n",
       "Name: 3, dtype: float64"
      ]
     },
     "execution_count": 23,
     "metadata": {},
     "output_type": "execute_result"
    }
   ],
   "source": [
    "model[\"3\"].sort_values(ascending=False).head(20)"
   ]
  },
  {
   "cell_type": "markdown",
   "metadata": {},
   "source": [
    "On the other side, words with the lowest value of the coefficients show other information: features that are least likely to appear on a review. For instance, for the best reviewed books, we will not find words as \"boring\" or \"disappointing\"."
   ]
  },
  {
   "cell_type": "code",
   "execution_count": 24,
   "metadata": {},
   "outputs": [
    {
     "data": {
      "text/plain": [
       "boring          -4.533496\n",
       "disappointing   -4.429370\n",
       "instead         -3.888740\n",
       "disappointed    -3.615691\n",
       "unfortunately   -3.579774\n",
       "okay            -3.523025\n",
       "however         -3.402271\n",
       "tedious         -3.270153\n",
       "worst           -3.208014\n",
       "maybe           -3.188041\n",
       "seemed          -3.029942\n",
       "slow            -2.998665\n",
       "waste           -2.964775\n",
       "seems           -2.940699\n",
       "predictable     -2.829754\n",
       "nothing         -2.794211\n",
       "depressing      -2.766110\n",
       "rather          -2.540052\n",
       "pages           -2.525732\n",
       "awful           -2.507709\n",
       "Name: 5, dtype: float64"
      ]
     },
     "execution_count": 24,
     "metadata": {},
     "output_type": "execute_result"
    }
   ],
   "source": [
    "model[\"5\"].sort_values(ascending=True).head(20)"
   ]
  },
  {
   "cell_type": "markdown",
   "metadata": {},
   "source": [
    "For the products with lowest score, we will not find \"perfect\", \"good\", \"enjoyed\" or \"great\"."
   ]
  },
  {
   "cell_type": "code",
   "execution_count": 25,
   "metadata": {},
   "outputs": [
    {
     "data": {
      "text/plain": [
       "stars        -4.195903\n",
       "makes        -4.173993\n",
       "feeling      -3.619717\n",
       "overall      -3.354982\n",
       "good         -3.314340\n",
       "still        -3.247468\n",
       "society      -3.208570\n",
       "sometimes    -3.176106\n",
       "glad         -2.944090\n",
       "perfect      -2.934790\n",
       "today        -2.933464\n",
       "best         -2.909652\n",
       "enjoyed      -2.899989\n",
       "turner       -2.893513\n",
       "great        -2.834244\n",
       "parts        -2.747630\n",
       "definitely   -2.699242\n",
       "weeks        -2.694500\n",
       "wait         -2.610092\n",
       "important    -2.604519\n",
       "Name: 1, dtype: float64"
      ]
     },
     "execution_count": 25,
     "metadata": {},
     "output_type": "execute_result"
    }
   ],
   "source": [
    "model[\"1\"].sort_values(ascending=True).head(20)"
   ]
  },
  {
   "cell_type": "markdown",
   "metadata": {},
   "source": [
    "Lastly, for scores as 3, we will not find words that indicate extreme (good or bad) reviews. So features like \"wonderful\" and \"waste\" have low weights."
   ]
  },
  {
   "cell_type": "code",
   "execution_count": 26,
   "metadata": {},
   "outputs": [
    {
     "data": {
      "text/plain": [
       "anyone       -2.847533\n",
       "waste        -2.616589\n",
       "wonderful    -2.571549\n",
       "totally      -2.453926\n",
       "thoroughly   -2.392370\n",
       "highly       -2.185900\n",
       "page         -2.134594\n",
       "awesome      -2.055848\n",
       "seriously    -2.042596\n",
       "truly        -2.029379\n",
       "dogs         -1.934977\n",
       "amazing      -1.900212\n",
       "ruined       -1.857440\n",
       "what         -1.796636\n",
       "even         -1.792192\n",
       "daniel       -1.780729\n",
       "perfect      -1.739641\n",
       "wait         -1.723293\n",
       "absolute     -1.718998\n",
       "zero         -1.716197\n",
       "Name: 3, dtype: float64"
      ]
     },
     "execution_count": 26,
     "metadata": {},
     "output_type": "execute_result"
    }
   ],
   "source": [
    "model[\"3\"].sort_values(ascending=True).head(20)"
   ]
  },
  {
   "cell_type": "markdown",
   "metadata": {},
   "source": [
    "## Caveats\n",
    "\n",
    "This is a very simple approach to understand this exercise, so we can improve it a lot. We can reduce the dimensionality of the features using PCA, test different algorithms and tune the ML parameters. But in this notebook I show this simple solution to learn how it works."
   ]
  },
  {
   "cell_type": "code",
   "execution_count": null,
   "metadata": {},
   "outputs": [],
   "source": []
  }
 ],
 "metadata": {
  "kernelspec": {
   "display_name": "Python 3",
   "language": "python",
   "name": "python3"
  },
  "language_info": {
   "codemirror_mode": {
    "name": "ipython",
    "version": 3
   },
   "file_extension": ".py",
   "mimetype": "text/x-python",
   "name": "python",
   "nbconvert_exporter": "python",
   "pygments_lexer": "ipython3",
   "version": "3.8.3"
  }
 },
 "nbformat": 4,
 "nbformat_minor": 4
}
