{
 "cells": [
  {
   "cell_type": "markdown",
   "metadata": {},
   "source": [
    "# Predicting Amazon review score based only on the text\n",
    " \n",
    "In this exercise I will use a Logistic regression model to explore if we can predict the rating of a Book review in Amazon based exclusively on the text of the review.\n",
    " \n",
    "I will begin importing the libraries necessary to perform this exercise."
   ]
  },
  {
   "cell_type": "code",
   "execution_count": 1,
   "metadata": {},
   "outputs": [
    {
     "name": "stderr",
     "output_type": "stream",
     "text": [
      "[nltk_data] Downloading package stopwords to\n",
      "[nltk_data]     /home/ordovas/nltk_data...\n",
      "[nltk_data]   Package stopwords is already up-to-date!\n"
     ]
    }
   ],
   "source": [
    "import pandas as pd\n",
    "import numpy as np\n",
    "import matplotlib.pyplot as plt\n",
    "from pymongo import MongoClient\n",
    "\n",
    "import re\n",
    "\n",
    "import nltk\n",
    "from nltk.corpus import stopwords\n",
    "nltk.download(\"stopwords\")\n",
    "\n",
    "from sklearn.feature_extraction.text import TfidfVectorizer\n",
    "from sklearn.model_selection import train_test_split\n",
    "from sklearn.linear_model import LogisticRegression\n",
    "from sklearn.metrics import confusion_matrix\n",
    "from sklearn.metrics import plot_confusion_matrix\n",
    "\n",
    "client = MongoClient()"
   ]
  },
  {
   "cell_type": "markdown",
   "metadata": {},
   "source": [
    "Now we load a fraction of the dataset and visualize the head of the dataset that we obtained."
   ]
  },
  {
   "cell_type": "code",
   "execution_count": 2,
   "metadata": {},
   "outputs": [],
   "source": [
    "db = client.get_database(\"amazon\")\n",
    "# Define an alias for the books dataset\n",
    "books =db.books\n",
    "# Obtain a random sample from the dataset, selecting only a few records \n",
    "# (we will use only overall and reviewTest, but I will load a few more just in case I\n",
    "# want to play with more info...)\n",
    "res = list(books.aggregate([\n",
    "    { \"$sample\": { \"size\": 60000 }}\n",
    "    ,{ \"$project\": {\"id\": \"$_id\", \"_id\": 0, \"overall\": 1, \"reviewText\": 1,\"summary\":1,\"reviewerName\":1}} \n",
    "]))\n",
    "# Converting to pandas DataFrame\n",
    "df=pd.DataFrame(res)"
   ]
  },
  {
   "cell_type": "code",
   "execution_count": 3,
   "metadata": {},
   "outputs": [
    {
     "data": {
      "text/html": [
       "<div>\n",
       "<style scoped>\n",
       "    .dataframe tbody tr th:only-of-type {\n",
       "        vertical-align: middle;\n",
       "    }\n",
       "\n",
       "    .dataframe tbody tr th {\n",
       "        vertical-align: top;\n",
       "    }\n",
       "\n",
       "    .dataframe thead th {\n",
       "        text-align: right;\n",
       "    }\n",
       "</style>\n",
       "<table border=\"1\" class=\"dataframe\">\n",
       "  <thead>\n",
       "    <tr style=\"text-align: right;\">\n",
       "      <th></th>\n",
       "      <th>overall</th>\n",
       "      <th>reviewerName</th>\n",
       "      <th>reviewText</th>\n",
       "      <th>summary</th>\n",
       "      <th>id</th>\n",
       "    </tr>\n",
       "  </thead>\n",
       "  <tbody>\n",
       "    <tr>\n",
       "      <th>0</th>\n",
       "      <td>5</td>\n",
       "      <td>DragonKing</td>\n",
       "      <td>Lord of the Rings is by far one of the best se...</td>\n",
       "      <td>Lord of the Rings...need I say more?</td>\n",
       "      <td>6033ab79f7ccad4a92f2fdb6</td>\n",
       "    </tr>\n",
       "    <tr>\n",
       "      <th>1</th>\n",
       "      <td>5</td>\n",
       "      <td>Joseph De Maio</td>\n",
       "      <td>Despite the some time \"sing-song\" translation,...</td>\n",
       "      <td>Compelling translatio9n</td>\n",
       "      <td>6033ab9af7ccad4a92f9a1d2</td>\n",
       "    </tr>\n",
       "    <tr>\n",
       "      <th>2</th>\n",
       "      <td>5</td>\n",
       "      <td>Joanna M</td>\n",
       "      <td>I'm not usually a big fan of war stories that ...</td>\n",
       "      <td>Fabulously timeless!</td>\n",
       "      <td>6033ab96f7ccad4a92f8d499</td>\n",
       "    </tr>\n",
       "    <tr>\n",
       "      <th>3</th>\n",
       "      <td>5</td>\n",
       "      <td>Barbara Kornbluth</td>\n",
       "      <td>Once again Gabriel Allen shines as the hero of...</td>\n",
       "      <td>Another hit for Daniel Silvia</td>\n",
       "      <td>6033ab92f7ccad4a92f80923</td>\n",
       "    </tr>\n",
       "    <tr>\n",
       "      <th>4</th>\n",
       "      <td>5</td>\n",
       "      <td>Ed Deisley</td>\n",
       "      <td>a great book describing a very brutal war that...</td>\n",
       "      <td>a long way gone</td>\n",
       "      <td>6033ab7ef7ccad4a92f40697</td>\n",
       "    </tr>\n",
       "  </tbody>\n",
       "</table>\n",
       "</div>"
      ],
      "text/plain": [
       "   overall       reviewerName  \\\n",
       "0        5         DragonKing   \n",
       "1        5     Joseph De Maio   \n",
       "2        5           Joanna M   \n",
       "3        5  Barbara Kornbluth   \n",
       "4        5         Ed Deisley   \n",
       "\n",
       "                                          reviewText  \\\n",
       "0  Lord of the Rings is by far one of the best se...   \n",
       "1  Despite the some time \"sing-song\" translation,...   \n",
       "2  I'm not usually a big fan of war stories that ...   \n",
       "3  Once again Gabriel Allen shines as the hero of...   \n",
       "4  a great book describing a very brutal war that...   \n",
       "\n",
       "                                summary                        id  \n",
       "0  Lord of the Rings...need I say more?  6033ab79f7ccad4a92f2fdb6  \n",
       "1               Compelling translatio9n  6033ab9af7ccad4a92f9a1d2  \n",
       "2                  Fabulously timeless!  6033ab96f7ccad4a92f8d499  \n",
       "3         Another hit for Daniel Silvia  6033ab92f7ccad4a92f80923  \n",
       "4                       a long way gone  6033ab7ef7ccad4a92f40697  "
      ]
     },
     "execution_count": 3,
     "metadata": {},
     "output_type": "execute_result"
    }
   ],
   "source": [
    "df.head()"
   ]
  },
  {
   "cell_type": "markdown",
   "metadata": {},
   "source": [
    "I wil now drop the rows with NaN values in the `reviewText` column."
   ]
  },
  {
   "cell_type": "code",
   "execution_count": 4,
   "metadata": {},
   "outputs": [
    {
     "name": "stdout",
     "output_type": "stream",
     "text": [
      "<class 'pandas.core.frame.DataFrame'>\n",
      "RangeIndex: 60000 entries, 0 to 59999\n",
      "Data columns (total 5 columns):\n",
      " #   Column        Non-Null Count  Dtype \n",
      "---  ------        --------------  ----- \n",
      " 0   overall       60000 non-null  int64 \n",
      " 1   reviewerName  59996 non-null  object\n",
      " 2   reviewText    59992 non-null  object\n",
      " 3   summary       59991 non-null  object\n",
      " 4   id            60000 non-null  object\n",
      "dtypes: int64(1), object(4)\n",
      "memory usage: 2.3+ MB\n"
     ]
    }
   ],
   "source": [
    "df.info()"
   ]
  },
  {
   "cell_type": "code",
   "execution_count": 5,
   "metadata": {},
   "outputs": [],
   "source": [
    "df=df.dropna(subset=['reviewText'])"
   ]
  },
  {
   "cell_type": "markdown",
   "metadata": {},
   "source": [
    "Let's check that everything is fine..."
   ]
  },
  {
   "cell_type": "code",
   "execution_count": 6,
   "metadata": {},
   "outputs": [
    {
     "name": "stdout",
     "output_type": "stream",
     "text": [
      "<class 'pandas.core.frame.DataFrame'>\n",
      "Int64Index: 59992 entries, 0 to 59999\n",
      "Data columns (total 5 columns):\n",
      " #   Column        Non-Null Count  Dtype \n",
      "---  ------        --------------  ----- \n",
      " 0   overall       59992 non-null  int64 \n",
      " 1   reviewerName  59988 non-null  object\n",
      " 2   reviewText    59992 non-null  object\n",
      " 3   summary       59983 non-null  object\n",
      " 4   id            59992 non-null  object\n",
      "dtypes: int64(1), object(4)\n",
      "memory usage: 2.7+ MB\n"
     ]
    }
   ],
   "source": [
    "df.info()"
   ]
  },
  {
   "cell_type": "markdown",
   "metadata": {},
   "source": [
    "OK, so now I will examine the `overall` column, that is the target feature.\n",
    " \n",
    "There are far more reviews with high ratings than with low scores, so there is no balance. To solve this, later on I will weight the clases instead of selecting now the exact number of reviews for each rating."
   ]
  },
  {
   "cell_type": "code",
   "execution_count": 7,
   "metadata": {},
   "outputs": [
    {
     "data": {
      "text/plain": [
       "5    37852\n",
       "4    12129\n",
       "3     5443\n",
       "2     2524\n",
       "1     2044\n",
       "Name: overall, dtype: int64"
      ]
     },
     "execution_count": 7,
     "metadata": {},
     "output_type": "execute_result"
    }
   ],
   "source": [
    "df[\"overall\"].value_counts()"
   ]
  },
  {
   "cell_type": "markdown",
   "metadata": {},
   "source": [
    "## Preprocessing: TF-IDF\n",
    " \n",
    "I will create TF-IFD vectors for each review. TF-IDF measures the frequency of each word inside a review and compares it with the number of documents where this word appears. \n",
    " \n",
    "To begin with I will clean the review text ignoring stop words and words with less than 4 letters, as they will likely not contain much information."
   ]
  },
  {
   "cell_type": "code",
   "execution_count": 8,
   "metadata": {},
   "outputs": [],
   "source": [
    "def cleaning_review(texts):\n",
    "    #Remove numbers, punctuation and lowercase everything\n",
    "    res=re.sub(\"[^A-Za-z]+\", \" \", texts.lower()) \n",
    "    #Remove words with less than 4 letters\n",
    "    res=re.sub(r'\\b\\w{1,3}\\b', \"\", res) \n",
    "    #Remove rest of stop words\n",
    "    for stopword in stopwords.words('english'): \n",
    "        sw=stopword.replace(\"'\",\"\")\n",
    "        res=res.replace(f\" {sw} \",\" \")\n",
    "    return res\n",
    "\n"
   ]
  },
  {
   "cell_type": "markdown",
   "metadata": {},
   "source": [
    "Now I will create a feature with the \"cleaned\" text named `review_clean`"
   ]
  },
  {
   "cell_type": "code",
   "execution_count": 9,
   "metadata": {},
   "outputs": [],
   "source": [
    "df[\"review_clean\"]=df[\"reviewText\"]\n",
    "df[\"review_clean\"]=df[\"review_clean\"].apply(cleaning_review)\n",
    "df=df.reset_index()"
   ]
  },
  {
   "cell_type": "markdown",
   "metadata": {},
   "source": [
    "And then we can now create the TF-IDF vectors for each review using `TfidfVectorizer` from  `sklearn`. We ignore words that don't appear in at least 5 reviews."
   ]
  },
  {
   "cell_type": "code",
   "execution_count": 10,
   "metadata": {},
   "outputs": [],
   "source": [
    "v = TfidfVectorizer(min_df=5)\n",
    "x = v.fit_transform(df['review_clean']).toarray()\n",
    "df_tfidf = pd.DataFrame(x, columns=v.get_feature_names())"
   ]
  },
  {
   "cell_type": "markdown",
   "metadata": {},
   "source": [
    "Just for curiosity, let's check how many features/words the TF-IDF vectors have..."
   ]
  },
  {
   "cell_type": "code",
   "execution_count": 11,
   "metadata": {},
   "outputs": [
    {
     "data": {
      "text/plain": [
       "22576"
      ]
     },
     "execution_count": 11,
     "metadata": {},
     "output_type": "execute_result"
    }
   ],
   "source": [
    "len(v.get_feature_names())"
   ]
  },
  {
   "cell_type": "markdown",
   "metadata": {},
   "source": [
    "## Logistic Regression: Predicting the scores based on the TF-IDF vectors\n",
    " \n",
    "First of all, we need to split the dataset into train and test samples. I will choose 85% of the sample to train and 15% to test.\n",
    " \n",
    "The TD-IFD vectors are the features used to predict the target, that is the `overall` column that stores the numeric ratings."
   ]
  },
  {
   "cell_type": "code",
   "execution_count": 12,
   "metadata": {},
   "outputs": [],
   "source": [
    "X_train, X_test, y_train, y_test = train_test_split(df_tfidf, df[\"overall\"], test_size=0.15, random_state=42)"
   ]
  },
  {
   "cell_type": "code",
   "execution_count": 13,
   "metadata": {},
   "outputs": [
    {
     "data": {
      "text/plain": [
       "(50993, 8999)"
      ]
     },
     "execution_count": 13,
     "metadata": {},
     "output_type": "execute_result"
    }
   ],
   "source": [
    "len(y_train),len(y_test)"
   ]
  },
  {
   "cell_type": "markdown",
   "metadata": {},
   "source": [
    "Now it's time to use the Logistic Regression model to predict the scores of the reviews.\n",
    " \n",
    "We will activate `class_weight=\"balanced\"`, as the classes (scores) are not balanced, so if we do not weigh the classes the fit will be biased towards high ratings (most populated classes).\n",
    " \n",
    "This is just a very simple approach, without fine tuning anything. This is just an exercise for learning purposes."
   ]
  },
  {
   "cell_type": "code",
   "execution_count": 14,
   "metadata": {},
   "outputs": [
    {
     "name": "stderr",
     "output_type": "stream",
     "text": [
      "/home/ordovas/anaconda3/envs/ironhack/lib/python3.8/site-packages/sklearn/linear_model/_logistic.py:762: ConvergenceWarning: lbfgs failed to converge (status=1):\n",
      "STOP: TOTAL NO. of ITERATIONS REACHED LIMIT.\n",
      "\n",
      "Increase the number of iterations (max_iter) or scale the data as shown in:\n",
      "    https://scikit-learn.org/stable/modules/preprocessing.html\n",
      "Please also refer to the documentation for alternative solver options:\n",
      "    https://scikit-learn.org/stable/modules/linear_model.html#logistic-regression\n",
      "  n_iter_i = _check_optimize_result(\n"
     ]
    }
   ],
   "source": [
    "clf = LogisticRegression(random_state=0,class_weight=\"balanced\").fit(X_train, y_train)"
   ]
  },
  {
   "cell_type": "markdown",
   "metadata": {},
   "source": [
    "That's it? Well, now we need to check the performance of this model...\n",
    "\n",
    "Let's check the score of the classification model for the train and test samples"
   ]
  },
  {
   "cell_type": "code",
   "execution_count": 15,
   "metadata": {},
   "outputs": [
    {
     "name": "stdout",
     "output_type": "stream",
     "text": [
      "Train sample classification score: 0.7\n",
      "Test sample classification score: 0.57\n"
     ]
    }
   ],
   "source": [
    "sc_train=clf.score(X_train, y_train)\n",
    "sc_test=clf.score(X_test, y_test)\n",
    "print(f\"Train sample classification score: {round(sc_train,2)}\")\n",
    "print(f\"Test sample classification score: {round(sc_test,2)}\")"
   ]
  },
  {
   "cell_type": "markdown",
   "metadata": {},
   "source": [
    "This seems just OK, but let's check an histogram to see the accuracy of the predictions by plotting the true score minus the predicted score."
   ]
  },
  {
   "cell_type": "code",
   "execution_count": 16,
   "metadata": {},
   "outputs": [
    {
     "data": {
      "image/png": "[encoded data removed]",
      "text/plain": [
       "<Figure size 432x288 with 1 Axes>"
      ]
     },
     "metadata": {
      "needs_background": "light"
     },
     "output_type": "display_data"
    }
   ],
   "source": [
    "counts, bins = np.histogram(y_train-clf.predict(X_train),bins=np.arange(-4,6))\n",
    "plt.plot(bins[:-1],counts*100/sum(counts),label=\"Train data\")\n",
    "plt.grid()\n",
    "counts, bins = np.histogram(y_test-clf.predict(X_test),bins=np.arange(-4,6))\n",
    "plt.plot(bins[:-1],counts*100/sum(counts),label=\"Test data\")\n",
    "plt.xlabel(\"Real Rating - Predicted Rating\")\n",
    "plt.ylabel(\"Percentage\")\n",
    "plt.legend();"
   ]
  },
  {
   "cell_type": "markdown",
   "metadata": {},
   "source": [
    "Well, this simple model seems not to be very wrong! Let's quantify this with the confusion matrices as well."
   ]
  },
  {
   "cell_type": "code",
   "execution_count": 17,
   "metadata": {},
   "outputs": [
    {
     "data": {
      "text/plain": [
       "array([[ 1598,    44,    22,    12,    35],\n",
       "       [   95,  1883,   100,    30,    41],\n",
       "       [  220,   379,  3250,   458,   317],\n",
       "       [  329,   426,  1299,  6217,  2050],\n",
       "       [  879,   824,  1819,  6081, 22585]])"
      ]
     },
     "execution_count": 17,
     "metadata": {},
     "output_type": "execute_result"
    }
   ],
   "source": [
    "confusion_matrix(y_train,clf.predict(X_train))"
   ]
  },
  {
   "cell_type": "code",
   "execution_count": 18,
   "metadata": {},
   "outputs": [
    {
     "data": {
      "text/plain": [
       "array([[ 146,   94,   48,   17,   28],\n",
       "       [  89,  133,  100,   26,   27],\n",
       "       [  77,  148,  307,  205,   82],\n",
       "       [  58,  106,  354,  769,  521],\n",
       "       [ 198,  165,  350, 1217, 3734]])"
      ]
     },
     "execution_count": 18,
     "metadata": {},
     "output_type": "execute_result"
    }
   ],
   "source": [
    "confusion_matrix(y_test,clf.predict(X_test))"
   ]
  },
  {
   "cell_type": "markdown",
   "metadata": {},
   "source": [
    "And normalized to the true scores."
   ]
  },
  {
   "cell_type": "code",
   "execution_count": 19,
   "metadata": {},
   "outputs": [
    {
     "name": "stdout",
     "output_type": "stream",
     "text": [
      "Train subsample:\n"
     ]
    },
    {
     "data": {
      "image/png": "[encoded data removed]",
      "text/plain": [
       "<Figure size 432x288 with 2 Axes>"
      ]
     },
     "metadata": {
      "needs_background": "light"
     },
     "output_type": "display_data"
    },
    {
     "name": "stdout",
     "output_type": "stream",
     "text": [
      "Test subsample:\n"
     ]
    },
    {
     "data": {
      "image/png": "[encoded data removed]",
      "text/plain": [
       "<Figure size 432x288 with 2 Axes>"
      ]
     },
     "metadata": {
      "needs_background": "light"
     },
     "output_type": "display_data"
    }
   ],
   "source": [
    "print(\"Train subsample:\")\n",
    "plot_confusion_matrix(clf, X_train, y_train,cmap=\"viridis\",normalize=\"true\") \n",
    "plt.show();\n",
    "print(\"Test subsample:\")\n",
    "plot_confusion_matrix(clf, X_test, y_test,cmap=\"viridis\",normalize=\"true\")\n",
    "plt.show();"
   ]
  },
  {
   "cell_type": "markdown",
   "metadata": {},
   "source": [
    "The diagonal indicates that the Logistic Model predicts reasonably well the score of the review for this simple approach."
   ]
  },
  {
   "cell_type": "markdown",
   "metadata": {},
   "source": [
    "## Undersanding the Logistic Regression: How it is pedicted\n",
    "\n",
    "I will create a DataFrame with the coefficients of each score to understand how the features (words) contributes to each class."
   ]
  },
  {
   "cell_type": "code",
   "execution_count": 20,
   "metadata": {},
   "outputs": [
    {
     "data": {
      "text/html": [
       "<div>\n",
       "<style scoped>\n",
       "    .dataframe tbody tr th:only-of-type {\n",
       "        vertical-align: middle;\n",
       "    }\n",
       "\n",
       "    .dataframe tbody tr th {\n",
       "        vertical-align: top;\n",
       "    }\n",
       "\n",
       "    .dataframe thead th {\n",
       "        text-align: right;\n",
       "    }\n",
       "</style>\n",
       "<table border=\"1\" class=\"dataframe\">\n",
       "  <thead>\n",
       "    <tr style=\"text-align: right;\">\n",
       "      <th></th>\n",
       "      <th>1</th>\n",
       "      <th>2</th>\n",
       "      <th>3</th>\n",
       "      <th>4</th>\n",
       "      <th>5</th>\n",
       "    </tr>\n",
       "  </thead>\n",
       "  <tbody>\n",
       "    <tr>\n",
       "      <th>aaron</th>\n",
       "      <td>0.093975</td>\n",
       "      <td>-0.157393</td>\n",
       "      <td>-0.182587</td>\n",
       "      <td>0.017450</td>\n",
       "      <td>0.228556</td>\n",
       "    </tr>\n",
       "    <tr>\n",
       "      <th>aback</th>\n",
       "      <td>0.086389</td>\n",
       "      <td>-0.247802</td>\n",
       "      <td>0.191209</td>\n",
       "      <td>-0.040057</td>\n",
       "      <td>0.010260</td>\n",
       "    </tr>\n",
       "    <tr>\n",
       "      <th>abandon</th>\n",
       "      <td>0.703385</td>\n",
       "      <td>0.041428</td>\n",
       "      <td>-0.335539</td>\n",
       "      <td>-0.282611</td>\n",
       "      <td>-0.126663</td>\n",
       "    </tr>\n",
       "    <tr>\n",
       "      <th>abandoned</th>\n",
       "      <td>2.699434</td>\n",
       "      <td>0.302078</td>\n",
       "      <td>-1.243608</td>\n",
       "      <td>-0.761792</td>\n",
       "      <td>-0.996111</td>\n",
       "    </tr>\n",
       "    <tr>\n",
       "      <th>abandoning</th>\n",
       "      <td>0.006603</td>\n",
       "      <td>-0.513907</td>\n",
       "      <td>0.424125</td>\n",
       "      <td>0.143396</td>\n",
       "      <td>-0.060217</td>\n",
       "    </tr>\n",
       "    <tr>\n",
       "      <th>abandonment</th>\n",
       "      <td>-0.221831</td>\n",
       "      <td>0.423298</td>\n",
       "      <td>-0.027310</td>\n",
       "      <td>-0.167869</td>\n",
       "      <td>-0.006289</td>\n",
       "    </tr>\n",
       "    <tr>\n",
       "      <th>abandons</th>\n",
       "      <td>-0.180794</td>\n",
       "      <td>0.362356</td>\n",
       "      <td>-0.183145</td>\n",
       "      <td>0.019487</td>\n",
       "      <td>-0.017904</td>\n",
       "    </tr>\n",
       "    <tr>\n",
       "      <th>abarat</th>\n",
       "      <td>-0.034610</td>\n",
       "      <td>-0.063897</td>\n",
       "      <td>-0.109407</td>\n",
       "      <td>-0.193140</td>\n",
       "      <td>0.401053</td>\n",
       "    </tr>\n",
       "    <tr>\n",
       "      <th>abbey</th>\n",
       "      <td>-0.742931</td>\n",
       "      <td>0.091508</td>\n",
       "      <td>-0.102994</td>\n",
       "      <td>0.381441</td>\n",
       "      <td>0.372975</td>\n",
       "    </tr>\n",
       "    <tr>\n",
       "      <th>abbot</th>\n",
       "      <td>-0.016100</td>\n",
       "      <td>-0.020736</td>\n",
       "      <td>0.013422</td>\n",
       "      <td>0.025232</td>\n",
       "      <td>-0.001818</td>\n",
       "    </tr>\n",
       "    <tr>\n",
       "      <th>abbott</th>\n",
       "      <td>-0.014241</td>\n",
       "      <td>-0.015915</td>\n",
       "      <td>-0.035013</td>\n",
       "      <td>-0.012981</td>\n",
       "      <td>0.078150</td>\n",
       "    </tr>\n",
       "    <tr>\n",
       "      <th>abbreviated</th>\n",
       "      <td>-0.921292</td>\n",
       "      <td>1.656820</td>\n",
       "      <td>0.138080</td>\n",
       "      <td>-0.399615</td>\n",
       "      <td>-0.473993</td>\n",
       "    </tr>\n",
       "    <tr>\n",
       "      <th>abbreviations</th>\n",
       "      <td>0.834645</td>\n",
       "      <td>-0.378508</td>\n",
       "      <td>-0.352489</td>\n",
       "      <td>-0.115908</td>\n",
       "      <td>0.012260</td>\n",
       "    </tr>\n",
       "    <tr>\n",
       "      <th>abby</th>\n",
       "      <td>0.079128</td>\n",
       "      <td>-0.279873</td>\n",
       "      <td>0.174845</td>\n",
       "      <td>0.025304</td>\n",
       "      <td>0.000597</td>\n",
       "    </tr>\n",
       "    <tr>\n",
       "      <th>abducted</th>\n",
       "      <td>-0.084909</td>\n",
       "      <td>-0.147626</td>\n",
       "      <td>0.180663</td>\n",
       "      <td>0.007069</td>\n",
       "      <td>0.044803</td>\n",
       "    </tr>\n",
       "    <tr>\n",
       "      <th>abduction</th>\n",
       "      <td>-0.114966</td>\n",
       "      <td>-0.173152</td>\n",
       "      <td>-0.132872</td>\n",
       "      <td>0.610161</td>\n",
       "      <td>-0.189171</td>\n",
       "    </tr>\n",
       "    <tr>\n",
       "      <th>abel</th>\n",
       "      <td>-0.031268</td>\n",
       "      <td>-0.036942</td>\n",
       "      <td>-0.000986</td>\n",
       "      <td>-0.044611</td>\n",
       "      <td>0.113807</td>\n",
       "    </tr>\n",
       "    <tr>\n",
       "      <th>abercrombie</th>\n",
       "      <td>-0.392449</td>\n",
       "      <td>-0.112859</td>\n",
       "      <td>0.063122</td>\n",
       "      <td>0.347807</td>\n",
       "      <td>0.094380</td>\n",
       "    </tr>\n",
       "    <tr>\n",
       "      <th>abercrombies</th>\n",
       "      <td>-0.040658</td>\n",
       "      <td>0.112120</td>\n",
       "      <td>-0.167327</td>\n",
       "      <td>0.075688</td>\n",
       "      <td>0.020176</td>\n",
       "    </tr>\n",
       "    <tr>\n",
       "      <th>aberdeen</th>\n",
       "      <td>-0.079854</td>\n",
       "      <td>-0.117824</td>\n",
       "      <td>-0.175722</td>\n",
       "      <td>0.499036</td>\n",
       "      <td>-0.125636</td>\n",
       "    </tr>\n",
       "  </tbody>\n",
       "</table>\n",
       "</div>"
      ],
      "text/plain": [
       "                      1         2         3         4         5\n",
       "aaron          0.093975 -0.157393 -0.182587  0.017450  0.228556\n",
       "aback          0.086389 -0.247802  0.191209 -0.040057  0.010260\n",
       "abandon        0.703385  0.041428 -0.335539 -0.282611 -0.126663\n",
       "abandoned      2.699434  0.302078 -1.243608 -0.761792 -0.996111\n",
       "abandoning     0.006603 -0.513907  0.424125  0.143396 -0.060217\n",
       "abandonment   -0.221831  0.423298 -0.027310 -0.167869 -0.006289\n",
       "abandons      -0.180794  0.362356 -0.183145  0.019487 -0.017904\n",
       "abarat        -0.034610 -0.063897 -0.109407 -0.193140  0.401053\n",
       "abbey         -0.742931  0.091508 -0.102994  0.381441  0.372975\n",
       "abbot         -0.016100 -0.020736  0.013422  0.025232 -0.001818\n",
       "abbott        -0.014241 -0.015915 -0.035013 -0.012981  0.078150\n",
       "abbreviated   -0.921292  1.656820  0.138080 -0.399615 -0.473993\n",
       "abbreviations  0.834645 -0.378508 -0.352489 -0.115908  0.012260\n",
       "abby           0.079128 -0.279873  0.174845  0.025304  0.000597\n",
       "abducted      -0.084909 -0.147626  0.180663  0.007069  0.044803\n",
       "abduction     -0.114966 -0.173152 -0.132872  0.610161 -0.189171\n",
       "abel          -0.031268 -0.036942 -0.000986 -0.044611  0.113807\n",
       "abercrombie   -0.392449 -0.112859  0.063122  0.347807  0.094380\n",
       "abercrombies  -0.040658  0.112120 -0.167327  0.075688  0.020176\n",
       "aberdeen      -0.079854 -0.117824 -0.175722  0.499036 -0.125636"
      ]
     },
     "execution_count": 20,
     "metadata": {},
     "output_type": "execute_result"
    }
   ],
   "source": [
    "model=pd.DataFrame(clf.coef_,columns=X_train.columns)\n",
    "model=model.T\n",
    "model.columns=[\"1\",\"2\",\"3\",\"4\",\"5\"]\n",
    "model.head(20)"
   ]
  },
  {
   "cell_type": "markdown",
   "metadata": {},
   "source": [
    "For the highest score, the words that are directly correlated and contributes the most are words as \"excellent\", \"great\", \"love\", \"fantastic\", \"amazing\"..."
   ]
  },
  {
   "cell_type": "code",
   "execution_count": 21,
   "metadata": {},
   "outputs": [
    {
     "data": {
      "text/plain": [
       "highly         4.918118\n",
       "love           4.399495\n",
       "excellent      4.202910\n",
       "amazing        4.013397\n",
       "awesome        3.951146\n",
       "wonderful      3.757234\n",
       "great          3.560739\n",
       "loved          3.421101\n",
       "brilliant      3.186792\n",
       "beautiful      3.104279\n",
       "must           2.929138\n",
       "beautifully    2.785699\n",
       "fascinating    2.770337\n",
       "wait           2.715119\n",
       "outstanding    2.700465\n",
       "perfect        2.697543\n",
       "thank          2.666832\n",
       "every          2.541793\n",
       "heart          2.535497\n",
       "fantastic      2.479047\n",
       "Name: 5, dtype: float64"
      ]
     },
     "execution_count": 21,
     "metadata": {},
     "output_type": "execute_result"
    }
   ],
   "source": [
    "model[\"5\"].sort_values(ascending=False).head(20)"
   ]
  },
  {
   "cell_type": "markdown",
   "metadata": {},
   "source": [
    "So, for the lowest score, it is not strange that the words that are directly correlated and contribute the most are words such as \"terrible\",\"trash\" or \"boring\"."
   ]
  },
  {
   "cell_type": "code",
   "execution_count": 22,
   "metadata": {},
   "outputs": [
    {
     "data": {
      "text/plain": [
       "waste             4.978862\n",
       "ridiculous        4.933624\n",
       "wasted            4.650113\n",
       "awful             4.451190\n",
       "terrible          4.094857\n",
       "horrible          4.079578\n",
       "nothing           3.809138\n",
       "boring            3.771562\n",
       "even              3.705494\n",
       "poorly            3.700529\n",
       "worst             3.650589\n",
       "money             3.628326\n",
       "insult            3.359781\n",
       "return            3.294963\n",
       "total             3.227977\n",
       "shame             3.123497\n",
       "refund            3.055491\n",
       "disappointment    3.055173\n",
       "threw             2.984481\n",
       "pointless         2.946969\n",
       "Name: 1, dtype: float64"
      ]
     },
     "execution_count": 22,
     "metadata": {},
     "output_type": "execute_result"
    }
   ],
   "source": [
    "model[\"1\"].sort_values(ascending=False).head(20)"
   ]
  },
  {
   "cell_type": "markdown",
   "metadata": {},
   "source": [
    "With respect to the intermediate scores, the words that define these reviews are related to texts that show good and bad aspects of the product, so words like \"however\" or \"unfortunately\" are weighted high, as well as \"okay\",\"somewhat\" and \"alright\"."
   ]
  },
  {
   "cell_type": "code",
   "execution_count": 23,
   "metadata": {
    "scrolled": true
   },
   "outputs": [
    {
     "data": {
      "text/plain": [
       "somewhat       3.269993\n",
       "okay           3.253331\n",
       "however        3.216834\n",
       "nearly         2.579338\n",
       "redundant      2.516015\n",
       "seemed         2.476585\n",
       "felt           2.351873\n",
       "kind           2.232602\n",
       "lacking        2.152502\n",
       "seem           2.146773\n",
       "seems          2.141167\n",
       "standards      2.127873\n",
       "winded         2.079762\n",
       "predictable    2.079297\n",
       "otherwise      2.042952\n",
       "still          2.016736\n",
       "frustrating    2.015253\n",
       "average        2.009681\n",
       "probably       1.997802\n",
       "decent         1.955579\n",
       "Name: 3, dtype: float64"
      ]
     },
     "execution_count": 23,
     "metadata": {},
     "output_type": "execute_result"
    }
   ],
   "source": [
    "model[\"3\"].sort_values(ascending=False).head(20)"
   ]
  },
  {
   "cell_type": "markdown",
   "metadata": {},
   "source": [
    "On the other side, words with the lowest value of the coefficients show other information: features that are least likely to appear on a review. For instance, for the best reviewed books, we will not find words as \"boring\" or \"disappointing\"."
   ]
  },
  {
   "cell_type": "code",
   "execution_count": 24,
   "metadata": {},
   "outputs": [
    {
     "data": {
      "text/plain": [
       "disappointing    -4.805162\n",
       "boring           -4.378354\n",
       "however          -4.072026\n",
       "unfortunately    -3.628616\n",
       "seemed           -3.625804\n",
       "tedious          -3.608061\n",
       "depressing       -3.164825\n",
       "maybe            -3.035972\n",
       "slow             -3.029751\n",
       "predictable      -3.007770\n",
       "waste            -2.923021\n",
       "poorly           -2.872349\n",
       "okay             -2.781870\n",
       "overall          -2.720824\n",
       "confusing        -2.709747\n",
       "seems            -2.670150\n",
       "disappointed     -2.586436\n",
       "instead          -2.580794\n",
       "pages            -2.576863\n",
       "disappointment   -2.543278\n",
       "Name: 5, dtype: float64"
      ]
     },
     "execution_count": 24,
     "metadata": {},
     "output_type": "execute_result"
    }
   ],
   "source": [
    "model[\"5\"].sort_values(ascending=True).head(20)"
   ]
  },
  {
   "cell_type": "markdown",
   "metadata": {},
   "source": [
    "For the products with lowest score, we will not find \"perfect\", \"good\", \"enjoyed\" or \"great\"."
   ]
  },
  {
   "cell_type": "code",
   "execution_count": 25,
   "metadata": {},
   "outputs": [
    {
     "data": {
      "text/plain": [
       "quite          -3.905971\n",
       "enjoyed        -3.850519\n",
       "well           -3.722120\n",
       "stars          -3.686517\n",
       "excellent      -3.514462\n",
       "somewhat       -3.344930\n",
       "parts          -3.175326\n",
       "fascinating    -3.022825\n",
       "perfect        -2.947780\n",
       "good           -2.781631\n",
       "cornwell       -2.718804\n",
       "entertaining   -2.701676\n",
       "along          -2.648339\n",
       "place          -2.640852\n",
       "beautifully    -2.549073\n",
       "today          -2.494982\n",
       "interesting    -2.421327\n",
       "love           -2.377703\n",
       "added          -2.373985\n",
       "twists         -2.352865\n",
       "Name: 1, dtype: float64"
      ]
     },
     "execution_count": 25,
     "metadata": {},
     "output_type": "execute_result"
    }
   ],
   "source": [
    "model[\"1\"].sort_values(ascending=True).head(20)"
   ]
  },
  {
   "cell_type": "markdown",
   "metadata": {},
   "source": [
    "Lastly, for scores as 3, we will not find words that indicate extreme (good or bad) reviews. So features like \"wonderful\" and \"waste\" have low weights."
   ]
  },
  {
   "cell_type": "code",
   "execution_count": 26,
   "metadata": {},
   "outputs": [
    {
     "data": {
      "text/plain": [
       "highly        -2.340424\n",
       "thank         -2.097822\n",
       "even          -2.050194\n",
       "wasted        -1.990242\n",
       "what          -1.970482\n",
       "total         -1.953865\n",
       "tells         -1.948192\n",
       "absolutely    -1.924702\n",
       "write         -1.861234\n",
       "amazing       -1.854440\n",
       "gives         -1.793044\n",
       "mistake       -1.769808\n",
       "loved         -1.752494\n",
       "none          -1.738159\n",
       "return        -1.732910\n",
       "want          -1.723394\n",
       "ever          -1.718109\n",
       "respect       -1.709372\n",
       "intelligent   -1.681735\n",
       "generally     -1.680190\n",
       "Name: 3, dtype: float64"
      ]
     },
     "execution_count": 26,
     "metadata": {},
     "output_type": "execute_result"
    }
   ],
   "source": [
    "model[\"3\"].sort_values(ascending=True).head(20)"
   ]
  },
  {
   "cell_type": "markdown",
   "metadata": {},
   "source": [
    "## Caveats\n",
    "\n",
    "This is a very simple approach to understand this exercise, so we can improve it a lot. We can reduce the dimensionality of the features, test different algorithms and tune the ML parameters. But in this notebook I show this simple solution to learn how it works."
   ]
  },
  {
   "cell_type": "code",
   "execution_count": null,
   "metadata": {},
   "outputs": [],
   "source": []
  }
 ],
 "metadata": {
  "kernelspec": {
   "display_name": "Python 3",
   "language": "python",
   "name": "python3"
  },
  "language_info": {
   "codemirror_mode": {
    "name": "ipython",
    "version": 3
   },
   "file_extension": ".py",
   "mimetype": "text/x-python",
   "name": "python",
   "nbconvert_exporter": "python",
   "pygments_lexer": "ipython3",
   "version": "3.8.3"
  }
 },
 "nbformat": 4,
 "nbformat_minor": 4
}
