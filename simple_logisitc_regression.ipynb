{
 "cells": [
  {
   "cell_type": "markdown",
   "metadata": {},
   "source": [
    "# Predicting Amazon review score based only on the text\n",
    "\n",
    "In this exercise I will use a Logistic regression model to explore if we can predict te score of a Book review in Amazon based exclusively on the text of the review.\n",
    "\n",
    "I will begin importing the libraries necessary to perform this exercise."
   ]
  },
  {
   "cell_type": "code",
   "execution_count": 44,
   "metadata": {},
   "outputs": [
    {
     "name": "stderr",
     "output_type": "stream",
     "text": [
      "[nltk_data] Downloading package stopwords to\n",
      "[nltk_data]     /home/ordovas/nltk_data...\n",
      "[nltk_data]   Package stopwords is already up-to-date!\n"
     ]
    }
   ],
   "source": [
    "import pandas as pd\n",
    "import numpy as np\n",
    "import matplotlib.pyplot as plt\n",
    "from pymongo import MongoClient\n",
    "\n",
    "import re\n",
    "\n",
    "import nltk\n",
    "from nltk.corpus import stopwords\n",
    "nltk.download(\"stopwords\")\n",
    "\n",
    "from sklearn.feature_extraction.text import TfidfVectorizer\n",
    "from sklearn.model_selection import train_test_split\n",
    "from sklearn.linear_model import LogisticRegression\n",
    "from sklearn.metrics import confusion_matrix\n",
    "from sklearn.metrics import plot_confusion_matrix\n",
    "\n",
    "client = MongoClient()"
   ]
  },
  {
   "cell_type": "markdown",
   "metadata": {},
   "source": [
    "Now we load a fraction of the dataset and visualize the head of the dataset that we obtained."
   ]
  },
  {
   "cell_type": "code",
   "execution_count": 45,
   "metadata": {},
   "outputs": [],
   "source": [
    "db = client.get_database(\"amazon\")\n",
    "# Define an alias for the books dataset\n",
    "books =db.books\n",
    "# Obtain a random sample from the dataset, selecting only a few records \n",
    "# (we will use only overall and reviewTest, but I will load a few more just in case I\n",
    "# want to play with more info...)\n",
    "res = list(books.aggregate([\n",
    "    { \"$sample\": { \"size\": 60000 }}\n",
    "    ,{ \"$project\": {\"id\": \"$_id\", \"_id\": 0, \"overall\": 1, \"reviewText\": 1,\"summary\":1,\"reviewerName\":1}} \n",
    "]))\n",
    "# Converting to pandas DataFrame\n",
    "df=pd.DataFrame(res)"
   ]
  },
  {
   "cell_type": "code",
   "execution_count": 46,
   "metadata": {},
   "outputs": [
    {
     "data": {
      "text/html": [
       "<div>\n",
       "<style scoped>\n",
       "    .dataframe tbody tr th:only-of-type {\n",
       "        vertical-align: middle;\n",
       "    }\n",
       "\n",
       "    .dataframe tbody tr th {\n",
       "        vertical-align: top;\n",
       "    }\n",
       "\n",
       "    .dataframe thead th {\n",
       "        text-align: right;\n",
       "    }\n",
       "</style>\n",
       "<table border=\"1\" class=\"dataframe\">\n",
       "  <thead>\n",
       "    <tr style=\"text-align: right;\">\n",
       "      <th></th>\n",
       "      <th>overall</th>\n",
       "      <th>reviewerName</th>\n",
       "      <th>reviewText</th>\n",
       "      <th>summary</th>\n",
       "      <th>id</th>\n",
       "    </tr>\n",
       "  </thead>\n",
       "  <tbody>\n",
       "    <tr>\n",
       "      <th>0</th>\n",
       "      <td>5</td>\n",
       "      <td>High Speed</td>\n",
       "      <td>And marvel at the author's writing prowess</td>\n",
       "      <td>Makes you think and laugh</td>\n",
       "      <td>6033ab82f7ccad4a92f4c673</td>\n",
       "    </tr>\n",
       "    <tr>\n",
       "      <th>1</th>\n",
       "      <td>5</td>\n",
       "      <td>P. McDonald</td>\n",
       "      <td>very very good book</td>\n",
       "      <td>Five Stars</td>\n",
       "      <td>6033ab8af7ccad4a92f684bd</td>\n",
       "    </tr>\n",
       "    <tr>\n",
       "      <th>2</th>\n",
       "      <td>4</td>\n",
       "      <td>James Randall</td>\n",
       "      <td>it was good, but The Given Day was better.  Th...</td>\n",
       "      <td>live by night</td>\n",
       "      <td>6033ab97f7ccad4a92f90e4e</td>\n",
       "    </tr>\n",
       "    <tr>\n",
       "      <th>3</th>\n",
       "      <td>5</td>\n",
       "      <td>Ike E</td>\n",
       "      <td>It is a well constructed tale literally wise. ...</td>\n",
       "      <td>I did not find them complicated but very refre...</td>\n",
       "      <td>6033ab83f7ccad4a92f4e924</td>\n",
       "    </tr>\n",
       "    <tr>\n",
       "      <th>4</th>\n",
       "      <td>4</td>\n",
       "      <td>Lindsay</td>\n",
       "      <td>I really liked the way this book made me feel ...</td>\n",
       "      <td>Wonderful</td>\n",
       "      <td>6033ab80f7ccad4a92f46a3f</td>\n",
       "    </tr>\n",
       "  </tbody>\n",
       "</table>\n",
       "</div>"
      ],
      "text/plain": [
       "   overall   reviewerName                                         reviewText  \\\n",
       "0        5     High Speed         And marvel at the author's writing prowess   \n",
       "1        5    P. McDonald                                very very good book   \n",
       "2        4  James Randall  it was good, but The Given Day was better.  Th...   \n",
       "3        5          Ike E  It is a well constructed tale literally wise. ...   \n",
       "4        4        Lindsay  I really liked the way this book made me feel ...   \n",
       "\n",
       "                                             summary                        id  \n",
       "0                          Makes you think and laugh  6033ab82f7ccad4a92f4c673  \n",
       "1                                         Five Stars  6033ab8af7ccad4a92f684bd  \n",
       "2                                      live by night  6033ab97f7ccad4a92f90e4e  \n",
       "3  I did not find them complicated but very refre...  6033ab83f7ccad4a92f4e924  \n",
       "4                                          Wonderful  6033ab80f7ccad4a92f46a3f  "
      ]
     },
     "execution_count": 46,
     "metadata": {},
     "output_type": "execute_result"
    }
   ],
   "source": [
    "df.head()"
   ]
  },
  {
   "cell_type": "markdown",
   "metadata": {},
   "source": [
    "I wil now drop the NaN values for the `reviewText` column."
   ]
  },
  {
   "cell_type": "code",
   "execution_count": 47,
   "metadata": {},
   "outputs": [
    {
     "name": "stdout",
     "output_type": "stream",
     "text": [
      "<class 'pandas.core.frame.DataFrame'>\n",
      "RangeIndex: 60000 entries, 0 to 59999\n",
      "Data columns (total 5 columns):\n",
      " #   Column        Non-Null Count  Dtype \n",
      "---  ------        --------------  ----- \n",
      " 0   overall       60000 non-null  int64 \n",
      " 1   reviewerName  59999 non-null  object\n",
      " 2   reviewText    59994 non-null  object\n",
      " 3   summary       59994 non-null  object\n",
      " 4   id            60000 non-null  object\n",
      "dtypes: int64(1), object(4)\n",
      "memory usage: 2.3+ MB\n"
     ]
    }
   ],
   "source": [
    "df.info()"
   ]
  },
  {
   "cell_type": "code",
   "execution_count": 48,
   "metadata": {},
   "outputs": [],
   "source": [
    "df=df.dropna(subset=['reviewText'])"
   ]
  },
  {
   "cell_type": "markdown",
   "metadata": {},
   "source": [
    "Let's check that everything is fine..."
   ]
  },
  {
   "cell_type": "code",
   "execution_count": 49,
   "metadata": {},
   "outputs": [
    {
     "name": "stdout",
     "output_type": "stream",
     "text": [
      "<class 'pandas.core.frame.DataFrame'>\n",
      "Int64Index: 59994 entries, 0 to 59999\n",
      "Data columns (total 5 columns):\n",
      " #   Column        Non-Null Count  Dtype \n",
      "---  ------        --------------  ----- \n",
      " 0   overall       59994 non-null  int64 \n",
      " 1   reviewerName  59993 non-null  object\n",
      " 2   reviewText    59994 non-null  object\n",
      " 3   summary       59988 non-null  object\n",
      " 4   id            59994 non-null  object\n",
      "dtypes: int64(1), object(4)\n",
      "memory usage: 2.7+ MB\n"
     ]
    }
   ],
   "source": [
    "df.info()"
   ]
  },
  {
   "cell_type": "markdown",
   "metadata": {},
   "source": [
    "OK, so now I will examine the `overall` column, that is the target feature.\n",
    "\n",
    "There are far more reviews with high score than with low score, so there is no balance. To solve this, later on I will weight the clases instead of select now the exact number of reviews for each score."
   ]
  },
  {
   "cell_type": "code",
   "execution_count": 50,
   "metadata": {},
   "outputs": [
    {
     "data": {
      "text/plain": [
       "5    37735\n",
       "4    12202\n",
       "3     5553\n",
       "2     2401\n",
       "1     2103\n",
       "Name: overall, dtype: int64"
      ]
     },
     "execution_count": 50,
     "metadata": {},
     "output_type": "execute_result"
    }
   ],
   "source": [
    "df[\"overall\"].value_counts()"
   ]
  },
  {
   "cell_type": "markdown",
   "metadata": {},
   "source": [
    "## Preprocessing: TF-IDF\n",
    "\n",
    "I will create TF-IFD vectors for each review. TF-IDF meassures the frequency of each word inside a review and compares it with the number of documents where this word appears. \n",
    "\n",
    "To begin with I will clean the review text ignoring stop words and words with less than 4 letters, as they will likely not contain much information."
   ]
  },
  {
   "cell_type": "code",
   "execution_count": 51,
   "metadata": {},
   "outputs": [],
   "source": [
    "def cleaning_review(texts):\n",
    "    #Remove numbers, punctuation and lowercase everything\n",
    "    res=re.sub(\"[^A-Za-z]+\", \" \", texts.lower()) \n",
    "    #Remove words with less than 4 letters\n",
    "    res=re.sub(r'\\b\\w{1,3}\\b', \"\", res) \n",
    "    #Remove rest of stop words\n",
    "    for stopword in stopwords.words('english'): \n",
    "        sw=stopword.replace(\"'\",\"\")\n",
    "        res=res.replace(f\" {sw} \",\" \")\n",
    "    return res\n",
    "\n"
   ]
  },
  {
   "cell_type": "markdown",
   "metadata": {},
   "source": [
    "Now I will create a feature with the \"cleaned\" text named `review_clean`"
   ]
  },
  {
   "cell_type": "code",
   "execution_count": 52,
   "metadata": {},
   "outputs": [],
   "source": [
    "df[\"review_clean\"]=df[\"reviewText\"]\n",
    "df[\"review_clean\"]=df[\"review_clean\"].apply(cleaning_review)\n",
    "df=df.reset_index()"
   ]
  },
  {
   "cell_type": "markdown",
   "metadata": {},
   "source": [
    "And then we can now create the TF-IDF vectors for each review using `TfidfVectorizer` from  `sklearn`."
   ]
  },
  {
   "cell_type": "code",
   "execution_count": 53,
   "metadata": {},
   "outputs": [],
   "source": [
    "v = TfidfVectorizer(min_df=5)\n",
    "x = v.fit_transform(df['review_clean']).toarray()\n",
    "df_tfidf = pd.DataFrame(x, columns=v.get_feature_names())"
   ]
  },
  {
   "cell_type": "markdown",
   "metadata": {},
   "source": [
    "Just for curiosity, let's check how many features/words the TF-IDF vectors have..."
   ]
  },
  {
   "cell_type": "code",
   "execution_count": 54,
   "metadata": {},
   "outputs": [
    {
     "data": {
      "text/plain": [
       "22616"
      ]
     },
     "execution_count": 54,
     "metadata": {},
     "output_type": "execute_result"
    }
   ],
   "source": [
    "len(v.get_feature_names())"
   ]
  },
  {
   "cell_type": "markdown",
   "metadata": {},
   "source": [
    "## Logistic Regression: Predicting the calification based on the TF-IDF vectors\n",
    "\n",
    "First of all, we need to split the dataset into train and test samples. I will choose 85% of the sample to train and 15% to test.\n",
    "\n",
    "The TD-IFD vectors are the features used to predict the target, that is the `overall` column that stores the calification."
   ]
  },
  {
   "cell_type": "code",
   "execution_count": 58,
   "metadata": {},
   "outputs": [],
   "source": [
    "X_train, X_test, y_train, y_test = train_test_split(df_tfidf, df[\"overall\"], test_size=0.15, random_state=42)"
   ]
  },
  {
   "cell_type": "code",
   "execution_count": 59,
   "metadata": {},
   "outputs": [
    {
     "data": {
      "text/plain": [
       "(50994, 9000)"
      ]
     },
     "execution_count": 59,
     "metadata": {},
     "output_type": "execute_result"
    }
   ],
   "source": [
    "len(y_train),len(y_test)"
   ]
  },
  {
   "cell_type": "markdown",
   "metadata": {},
   "source": [
    "Now it's time to use the Logistic Regression model to predict the scores of the reviews.\n",
    "\n",
    "We will activate `class_weight=\"balanced\"`, as the classes (scores) are not balanced, so if we do not weight the classes the fit will be biased towards high scores (most populated classes).\n",
    "\n",
    "This is just a very simple approach, without fine tuning anything and without checking overfitting. This is just an exercise for learning pruposes."
   ]
  },
  {
   "cell_type": "code",
   "execution_count": 60,
   "metadata": {},
   "outputs": [
    {
     "name": "stderr",
     "output_type": "stream",
     "text": [
      "/home/ordovas/anaconda3/envs/ironhack/lib/python3.8/site-packages/sklearn/linear_model/_logistic.py:762: ConvergenceWarning: lbfgs failed to converge (status=1):\n",
      "STOP: TOTAL NO. of ITERATIONS REACHED LIMIT.\n",
      "\n",
      "Increase the number of iterations (max_iter) or scale the data as shown in:\n",
      "    https://scikit-learn.org/stable/modules/preprocessing.html\n",
      "Please also refer to the documentation for alternative solver options:\n",
      "    https://scikit-learn.org/stable/modules/linear_model.html#logistic-regression\n",
      "  n_iter_i = _check_optimize_result(\n"
     ]
    }
   ],
   "source": [
    "clf = LogisticRegression(random_state=0,class_weight=\"balanced\").fit(X_train, y_train)"
   ]
  },
  {
   "cell_type": "markdown",
   "metadata": {},
   "source": [
    "That's it? Well, now we need to check the performance of this model...\n",
    "\n",
    "Let's check the score of the classification model for tha train and test samples"
   ]
  },
  {
   "cell_type": "code",
   "execution_count": 63,
   "metadata": {},
   "outputs": [
    {
     "name": "stdout",
     "output_type": "stream",
     "text": [
      "Train sample classification score: 0.7\n",
      "Test sample classification score: 0.57\n"
     ]
    }
   ],
   "source": [
    "sc_train=clf.score(X_train, y_train)\n",
    "sc_test=clf.score(X_test, y_test)\n",
    "print(f\"Train sample classification score: {round(sc_train,2)}\")\n",
    "print(f\"Test sample classification score: {round(sc_test,2)}\")"
   ]
  },
  {
   "cell_type": "markdown",
   "metadata": {},
   "source": [
    "This seems just OK, but let's check an histogram to see the accuracy of the predictions by ploting the true score minus the predicted score."
   ]
  },
  {
   "cell_type": "code",
   "execution_count": 64,
   "metadata": {},
   "outputs": [
    {
     "data": {
      "image/png": "[encoded data removed]",
      "text/plain": [
       "<Figure size 432x288 with 1 Axes>"
      ]
     },
     "metadata": {
      "needs_background": "light"
     },
     "output_type": "display_data"
    }
   ],
   "source": [
    "counts, bins = np.histogram(y_train-clf.predict(X_train),bins=np.arange(-4,5))\n",
    "plt.plot(bins[:-1],counts*100/sum(counts),label=\"Train data\")\n",
    "plt.grid()\n",
    "counts, bins = np.histogram(y_test-clf.predict(X_test),bins=np.arange(-4,5))\n",
    "plt.plot(bins[:-1],counts*100/sum(counts),label=\"Test data\")\n",
    "plt.legend();"
   ]
  },
  {
   "cell_type": "markdown",
   "metadata": {},
   "source": [
    "Well, this simple model seems not to be very wrong! Let's quantify this with the confusion matrices as well."
   ]
  },
  {
   "cell_type": "code",
   "execution_count": 21,
   "metadata": {},
   "outputs": [
    {
     "data": {
      "text/plain": [
       "array([[ 1668,    58,    22,    15,    31],\n",
       "       [   78,  1878,    70,    36,    36],\n",
       "       [  207,   328,  3259,   440,   354],\n",
       "       [  291,   438,  1332,  6239,  2113],\n",
       "       [  873,   788,  1787,  5803, 22836]])"
      ]
     },
     "execution_count": 21,
     "metadata": {},
     "output_type": "execute_result"
    }
   ],
   "source": [
    "confusion_matrix(y_train,clf.predict(X_train))"
   ]
  },
  {
   "cell_type": "code",
   "execution_count": 22,
   "metadata": {},
   "outputs": [
    {
     "data": {
      "text/plain": [
       "array([[ 167,   76,   38,   26,   23],\n",
       "       [  80,  112,   71,   27,   27],\n",
       "       [  75,  134,  262,  180,  101],\n",
       "       [  66,   90,  318,  775,  560],\n",
       "       [ 171,  160,  322, 1183, 3953]])"
      ]
     },
     "execution_count": 22,
     "metadata": {},
     "output_type": "execute_result"
    }
   ],
   "source": [
    "confusion_matrix(y_test,clf.predict(X_test))"
   ]
  },
  {
   "cell_type": "markdown",
   "metadata": {},
   "source": [
    "And normalized to the true scores."
   ]
  },
  {
   "cell_type": "code",
   "execution_count": 66,
   "metadata": {},
   "outputs": [
    {
     "name": "stdout",
     "output_type": "stream",
     "text": [
      "Train subsample:\n"
     ]
    },
    {
     "data": {
      "image/png": "[encoded data removed]",
      "text/plain": [
       "<Figure size 432x288 with 2 Axes>"
      ]
     },
     "metadata": {
      "needs_background": "light"
     },
     "output_type": "display_data"
    },
    {
     "name": "stdout",
     "output_type": "stream",
     "text": [
      "Test subsample:\n"
     ]
    },
    {
     "data": {
      "image/png": "[encoded data removed]",
      "text/plain": [
       "<Figure size 432x288 with 2 Axes>"
      ]
     },
     "metadata": {
      "needs_background": "light"
     },
     "output_type": "display_data"
    }
   ],
   "source": [
    "print(\"Train subsample:\")\n",
    "plot_confusion_matrix(clf, X_train, y_train,cmap=\"viridis\",normalize=\"true\") \n",
    "plt.show();\n",
    "print(\"Test subsample:\")\n",
    "plot_confusion_matrix(clf, X_test, y_test,cmap=\"viridis\",normalize=\"true\")\n",
    "plt.show();"
   ]
  },
  {
   "cell_type": "markdown",
   "metadata": {},
   "source": [
    "The diagonal indicates that the Logistic Model predicts reasonably well the score of the review for this simple approach."
   ]
  },
  {
   "cell_type": "markdown",
   "metadata": {},
   "source": [
    "## Undersanding the Logistic Regression: How it is pedicted\n",
    "\n",
    "I will create a DataFrame with the coefficients of each score to understand how the features (words) contributes to each class."
   ]
  },
  {
   "cell_type": "code",
   "execution_count": 69,
   "metadata": {},
   "outputs": [
    {
     "data": {
      "text/html": [
       "<div>\n",
       "<style scoped>\n",
       "    .dataframe tbody tr th:only-of-type {\n",
       "        vertical-align: middle;\n",
       "    }\n",
       "\n",
       "    .dataframe tbody tr th {\n",
       "        vertical-align: top;\n",
       "    }\n",
       "\n",
       "    .dataframe thead th {\n",
       "        text-align: right;\n",
       "    }\n",
       "</style>\n",
       "<table border=\"1\" class=\"dataframe\">\n",
       "  <thead>\n",
       "    <tr style=\"text-align: right;\">\n",
       "      <th></th>\n",
       "      <th>1</th>\n",
       "      <th>2</th>\n",
       "      <th>3</th>\n",
       "      <th>4</th>\n",
       "      <th>5</th>\n",
       "    </tr>\n",
       "  </thead>\n",
       "  <tbody>\n",
       "    <tr>\n",
       "      <th>aaron</th>\n",
       "      <td>-0.049567</td>\n",
       "      <td>-0.071994</td>\n",
       "      <td>0.039721</td>\n",
       "      <td>0.072350</td>\n",
       "      <td>0.009489</td>\n",
       "    </tr>\n",
       "    <tr>\n",
       "      <th>aback</th>\n",
       "      <td>-0.134650</td>\n",
       "      <td>0.137580</td>\n",
       "      <td>0.000253</td>\n",
       "      <td>0.049157</td>\n",
       "      <td>-0.052339</td>\n",
       "    </tr>\n",
       "    <tr>\n",
       "      <th>abandon</th>\n",
       "      <td>0.266166</td>\n",
       "      <td>-0.017877</td>\n",
       "      <td>0.030972</td>\n",
       "      <td>-0.208538</td>\n",
       "      <td>-0.070723</td>\n",
       "    </tr>\n",
       "    <tr>\n",
       "      <th>abandoned</th>\n",
       "      <td>0.251853</td>\n",
       "      <td>1.101523</td>\n",
       "      <td>-0.638317</td>\n",
       "      <td>-0.258630</td>\n",
       "      <td>-0.456429</td>\n",
       "    </tr>\n",
       "    <tr>\n",
       "      <th>abandoning</th>\n",
       "      <td>-0.245807</td>\n",
       "      <td>1.026284</td>\n",
       "      <td>-0.284890</td>\n",
       "      <td>-0.251009</td>\n",
       "      <td>-0.244578</td>\n",
       "    </tr>\n",
       "    <tr>\n",
       "      <th>abandonment</th>\n",
       "      <td>0.280877</td>\n",
       "      <td>-0.227939</td>\n",
       "      <td>0.109888</td>\n",
       "      <td>-0.143861</td>\n",
       "      <td>-0.018964</td>\n",
       "    </tr>\n",
       "    <tr>\n",
       "      <th>abandons</th>\n",
       "      <td>-0.257906</td>\n",
       "      <td>0.718769</td>\n",
       "      <td>-0.278523</td>\n",
       "      <td>-0.067920</td>\n",
       "      <td>-0.114419</td>\n",
       "    </tr>\n",
       "    <tr>\n",
       "      <th>abarat</th>\n",
       "      <td>0.130806</td>\n",
       "      <td>0.001331</td>\n",
       "      <td>0.004394</td>\n",
       "      <td>-0.330335</td>\n",
       "      <td>0.193804</td>\n",
       "    </tr>\n",
       "    <tr>\n",
       "      <th>abbey</th>\n",
       "      <td>-0.483536</td>\n",
       "      <td>-0.092659</td>\n",
       "      <td>0.468448</td>\n",
       "      <td>-0.141229</td>\n",
       "      <td>0.248976</td>\n",
       "    </tr>\n",
       "    <tr>\n",
       "      <th>abbott</th>\n",
       "      <td>-0.110253</td>\n",
       "      <td>-0.076059</td>\n",
       "      <td>0.385736</td>\n",
       "      <td>-0.149860</td>\n",
       "      <td>-0.049564</td>\n",
       "    </tr>\n",
       "    <tr>\n",
       "      <th>abbreviated</th>\n",
       "      <td>-0.151011</td>\n",
       "      <td>-0.162018</td>\n",
       "      <td>-0.080081</td>\n",
       "      <td>0.394748</td>\n",
       "      <td>-0.001638</td>\n",
       "    </tr>\n",
       "    <tr>\n",
       "      <th>abbreviations</th>\n",
       "      <td>0.908731</td>\n",
       "      <td>-0.490104</td>\n",
       "      <td>-0.399196</td>\n",
       "      <td>0.003853</td>\n",
       "      <td>-0.023284</td>\n",
       "    </tr>\n",
       "    <tr>\n",
       "      <th>abby</th>\n",
       "      <td>-0.211539</td>\n",
       "      <td>0.258142</td>\n",
       "      <td>-0.368666</td>\n",
       "      <td>0.334306</td>\n",
       "      <td>-0.012242</td>\n",
       "    </tr>\n",
       "    <tr>\n",
       "      <th>abdominal</th>\n",
       "      <td>0.288153</td>\n",
       "      <td>-0.115162</td>\n",
       "      <td>-0.097303</td>\n",
       "      <td>-0.039264</td>\n",
       "      <td>-0.036424</td>\n",
       "    </tr>\n",
       "    <tr>\n",
       "      <th>abducted</th>\n",
       "      <td>0.337359</td>\n",
       "      <td>-0.138171</td>\n",
       "      <td>-0.170948</td>\n",
       "      <td>0.089980</td>\n",
       "      <td>-0.118220</td>\n",
       "    </tr>\n",
       "    <tr>\n",
       "      <th>abduction</th>\n",
       "      <td>-0.059492</td>\n",
       "      <td>-0.062364</td>\n",
       "      <td>-0.027724</td>\n",
       "      <td>0.125903</td>\n",
       "      <td>0.023677</td>\n",
       "    </tr>\n",
       "    <tr>\n",
       "      <th>abel</th>\n",
       "      <td>-0.030339</td>\n",
       "      <td>-0.044902</td>\n",
       "      <td>-0.084775</td>\n",
       "      <td>-0.043698</td>\n",
       "      <td>0.203714</td>\n",
       "    </tr>\n",
       "    <tr>\n",
       "      <th>abercrombie</th>\n",
       "      <td>-0.274243</td>\n",
       "      <td>-0.267820</td>\n",
       "      <td>0.144213</td>\n",
       "      <td>-0.234246</td>\n",
       "      <td>0.632096</td>\n",
       "    </tr>\n",
       "    <tr>\n",
       "      <th>aberdeen</th>\n",
       "      <td>-0.104842</td>\n",
       "      <td>-0.098843</td>\n",
       "      <td>-0.198818</td>\n",
       "      <td>0.466861</td>\n",
       "      <td>-0.064357</td>\n",
       "    </tr>\n",
       "    <tr>\n",
       "      <th>aberration</th>\n",
       "      <td>0.449260</td>\n",
       "      <td>0.390993</td>\n",
       "      <td>-0.246534</td>\n",
       "      <td>-0.305171</td>\n",
       "      <td>-0.288548</td>\n",
       "    </tr>\n",
       "  </tbody>\n",
       "</table>\n",
       "</div>"
      ],
      "text/plain": [
       "                      1         2         3         4         5\n",
       "aaron         -0.049567 -0.071994  0.039721  0.072350  0.009489\n",
       "aback         -0.134650  0.137580  0.000253  0.049157 -0.052339\n",
       "abandon        0.266166 -0.017877  0.030972 -0.208538 -0.070723\n",
       "abandoned      0.251853  1.101523 -0.638317 -0.258630 -0.456429\n",
       "abandoning    -0.245807  1.026284 -0.284890 -0.251009 -0.244578\n",
       "abandonment    0.280877 -0.227939  0.109888 -0.143861 -0.018964\n",
       "abandons      -0.257906  0.718769 -0.278523 -0.067920 -0.114419\n",
       "abarat         0.130806  0.001331  0.004394 -0.330335  0.193804\n",
       "abbey         -0.483536 -0.092659  0.468448 -0.141229  0.248976\n",
       "abbott        -0.110253 -0.076059  0.385736 -0.149860 -0.049564\n",
       "abbreviated   -0.151011 -0.162018 -0.080081  0.394748 -0.001638\n",
       "abbreviations  0.908731 -0.490104 -0.399196  0.003853 -0.023284\n",
       "abby          -0.211539  0.258142 -0.368666  0.334306 -0.012242\n",
       "abdominal      0.288153 -0.115162 -0.097303 -0.039264 -0.036424\n",
       "abducted       0.337359 -0.138171 -0.170948  0.089980 -0.118220\n",
       "abduction     -0.059492 -0.062364 -0.027724  0.125903  0.023677\n",
       "abel          -0.030339 -0.044902 -0.084775 -0.043698  0.203714\n",
       "abercrombie   -0.274243 -0.267820  0.144213 -0.234246  0.632096\n",
       "aberdeen      -0.104842 -0.098843 -0.198818  0.466861 -0.064357\n",
       "aberration     0.449260  0.390993 -0.246534 -0.305171 -0.288548"
      ]
     },
     "execution_count": 69,
     "metadata": {},
     "output_type": "execute_result"
    }
   ],
   "source": [
    "model=pd.DataFrame(clf.coef_,columns=X_train.columns)\n",
    "model=model.T\n",
    "model.columns=[\"1\",\"2\",\"3\",\"4\",\"5\"]\n",
    "model.head(20)"
   ]
  },
  {
   "cell_type": "markdown",
   "metadata": {},
   "source": [
    "For the highest score, the words that are directly correlated and contributes the most are words as \"excelent\", \"great\", \"love\", \"fantastic\", \"amazing\"..."
   ]
  },
  {
   "cell_type": "code",
   "execution_count": 26,
   "metadata": {},
   "outputs": [
    {
     "data": {
      "text/plain": [
       "highly         4.484097\n",
       "excellent      4.045599\n",
       "great          3.890946\n",
       "wonderful      3.780433\n",
       "amazing        3.629508\n",
       "love           3.490875\n",
       "perfect        3.456370\n",
       "fantastic      3.309573\n",
       "loved          3.117156\n",
       "awesome        3.047435\n",
       "beautiful      2.958332\n",
       "brilliant      2.842893\n",
       "thank          2.798243\n",
       "beautifully    2.702918\n",
       "loves          2.561907\n",
       "wait           2.557949\n",
       "incredible     2.415949\n",
       "keeps          2.332581\n",
       "wonderfully    2.314362\n",
       "masterpiece    2.294892\n",
       "Name: 5, dtype: float64"
      ]
     },
     "execution_count": 26,
     "metadata": {},
     "output_type": "execute_result"
    }
   ],
   "source": [
    "model[\"5\"].sort_values(ascending=False).head(20)"
   ]
  },
  {
   "cell_type": "markdown",
   "metadata": {},
   "source": [
    "So, for the lowest score, it is not strange that the words that are directly correlated and contributes the most are words as \"terrible\",\"trash\" or \"awful\"."
   ]
  },
  {
   "cell_type": "code",
   "execution_count": 27,
   "metadata": {},
   "outputs": [
    {
     "data": {
      "text/plain": [
       "waste         6.505779\n",
       "worst         4.742713\n",
       "terrible      4.582867\n",
       "awful         4.055568\n",
       "trash         3.779797\n",
       "money         3.661456\n",
       "boring        3.632212\n",
       "horrible      3.625463\n",
       "even          3.512811\n",
       "wasted        3.429691\n",
       "bother        3.323911\n",
       "garbage       3.320470\n",
       "rubbish       3.314021\n",
       "stupid        3.304465\n",
       "ridiculous    3.282121\n",
       "terribly      3.251973\n",
       "refund        3.171680\n",
       "poorly        3.124993\n",
       "lame          3.123927\n",
       "returned      3.079353\n",
       "Name: 1, dtype: float64"
      ]
     },
     "execution_count": 27,
     "metadata": {},
     "output_type": "execute_result"
    }
   ],
   "source": [
    "model[\"1\"].sort_values(ascending=False).head(20)"
   ]
  },
  {
   "cell_type": "markdown",
   "metadata": {},
   "source": [
    "With respect to the intermediate scores, the words that define these reviews are related to texts that show good and bad aspects of the porduct, so words like \"however\",\"though\",\"unfortunately\" are weighted high, as well as \"okay\",\"average\" and \"mediocre\""
   ]
  },
  {
   "cell_type": "code",
   "execution_count": 28,
   "metadata": {
    "scrolled": true
   },
   "outputs": [
    {
     "data": {
      "text/plain": [
       "okay             3.527615\n",
       "however          2.963216\n",
       "mediocre         2.787796\n",
       "seemed           2.475055\n",
       "still            2.421945\n",
       "somewhat         2.419723\n",
       "lacking          2.240698\n",
       "alright          2.233896\n",
       "felt             2.220561\n",
       "though           2.219002\n",
       "average          2.123789\n",
       "unfortunately    2.099501\n",
       "result           2.076707\n",
       "kinda            2.048846\n",
       "similar          2.046262\n",
       "standards        2.033071\n",
       "kind             2.029766\n",
       "tends            1.941339\n",
       "teens            1.919732\n",
       "decent           1.919678\n",
       "Name: 3, dtype: float64"
      ]
     },
     "execution_count": 28,
     "metadata": {},
     "output_type": "execute_result"
    }
   ],
   "source": [
    "model[\"3\"].sort_values(ascending=False).head(20)"
   ]
  },
  {
   "cell_type": "code",
   "execution_count": null,
   "metadata": {},
   "outputs": [],
   "source": []
  },
  {
   "cell_type": "markdown",
   "metadata": {},
   "source": [
    "On the other side, words with the lowest value of the coeficients show other information: features that are least likely to appear on a review. For instance, for the best reviewed books, we will not find words as \"boring\" or \"disappointment\"."
   ]
  },
  {
   "cell_type": "code",
   "execution_count": 29,
   "metadata": {},
   "outputs": [
    {
     "data": {
      "text/plain": [
       "disappointing    -4.194741\n",
       "boring           -4.172399\n",
       "instead          -3.525276\n",
       "however          -3.418187\n",
       "unfortunately    -3.312846\n",
       "worst            -3.255500\n",
       "slow             -3.237849\n",
       "tedious          -3.198042\n",
       "depressing       -3.123319\n",
       "waste            -3.081229\n",
       "seemed           -3.050590\n",
       "okay             -2.819607\n",
       "predictable      -2.785566\n",
       "problem          -2.763692\n",
       "disappointment   -2.718056\n",
       "seems            -2.687579\n",
       "ridiculous       -2.682807\n",
       "maybe            -2.554073\n",
       "annoying         -2.521151\n",
       "nothing          -2.495095\n",
       "Name: 5, dtype: float64"
      ]
     },
     "execution_count": 29,
     "metadata": {},
     "output_type": "execute_result"
    }
   ],
   "source": [
    "model[\"5\"].sort_values(ascending=True).head(20)"
   ]
  },
  {
   "cell_type": "markdown",
   "metadata": {},
   "source": [
    "For the products with lowest score, we will not find \"excelent\", \"amazing\", \"interesting\" or \"great\"."
   ]
  },
  {
   "cell_type": "code",
   "execution_count": 30,
   "metadata": {},
   "outputs": [
    {
     "data": {
      "text/plain": [
       "excellent     -3.965991\n",
       "great         -3.885040\n",
       "well          -3.488946\n",
       "stars         -3.384476\n",
       "best          -3.384062\n",
       "though        -3.343120\n",
       "fascinating   -3.322394\n",
       "enjoyed       -3.147007\n",
       "usual         -3.103360\n",
       "perfect       -3.100816\n",
       "easy          -3.060450\n",
       "turner        -2.951096\n",
       "fairly        -2.826704\n",
       "almost        -2.684947\n",
       "eyes          -2.654855\n",
       "rachel        -2.654685\n",
       "amazing       -2.620896\n",
       "interesting   -2.578624\n",
       "love          -2.555968\n",
       "highly        -2.534511\n",
       "Name: 1, dtype: float64"
      ]
     },
     "execution_count": 30,
     "metadata": {},
     "output_type": "execute_result"
    }
   ],
   "source": [
    "model[\"1\"].sort_values(ascending=True).head(20)"
   ]
  },
  {
   "cell_type": "markdown",
   "metadata": {},
   "source": [
    "Lastly, for scores as 3, we wll not find words that indicate extreme (good or bad) reviews. So features like \"wonderful\" and \"wasted\" have low weights."
   ]
  },
  {
   "cell_type": "code",
   "execution_count": 31,
   "metadata": {},
   "outputs": [
    {
     "data": {
      "text/plain": [
       "even         -3.278575\n",
       "wasted       -2.345926\n",
       "highly       -2.131530\n",
       "wonderful    -2.054196\n",
       "absolutely   -1.980176\n",
       "adventure    -1.923176\n",
       "recommend    -1.922932\n",
       "large        -1.914421\n",
       "complaint    -1.907569\n",
       "ever         -1.899230\n",
       "wait         -1.888203\n",
       "amazon       -1.834478\n",
       "loving       -1.820636\n",
       "deeply       -1.813664\n",
       "brings       -1.810703\n",
       "important    -1.753685\n",
       "children     -1.750991\n",
       "extra        -1.737914\n",
       "quit         -1.734294\n",
       "couldn       -1.660330\n",
       "Name: 3, dtype: float64"
      ]
     },
     "execution_count": 31,
     "metadata": {},
     "output_type": "execute_result"
    }
   ],
   "source": [
    "model[\"3\"].sort_values(ascending=True).head(20)"
   ]
  },
  {
   "cell_type": "markdown",
   "metadata": {},
   "source": [
    "## Caveats\n",
    "\n",
    "This is a very simple approach to understand this exercise, so we can inprove it a lot. We can reduce the dimensionality of the features using PCA, test different algorithms and tune the ML parameters. But in this notebook I show this simple solution to learn how it works."
   ]
  },
  {
   "cell_type": "code",
   "execution_count": null,
   "metadata": {},
   "outputs": [],
   "source": []
  }
 ],
 "metadata": {
  "kernelspec": {
   "display_name": "Python 3",
   "language": "python",
   "name": "python3"
  },
  "language_info": {
   "codemirror_mode": {
    "name": "ipython",
    "version": 3
   },
   "file_extension": ".py",
   "mimetype": "text/x-python",
   "name": "python",
   "nbconvert_exporter": "python",
   "pygments_lexer": "ipython3",
   "version": "3.8.3"
  }
 },
 "nbformat": 4,
 "nbformat_minor": 4
}
