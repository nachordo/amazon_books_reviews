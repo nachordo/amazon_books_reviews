{
 "cells": [
  {
   "cell_type": "markdown",
   "metadata": {},
   "source": [
    "# Predicting Amazon review ratings based only on the text using TF-IDF and Logistic Regression\n",
    " \n",
    "In this exercise I will use a simple Logistic Regression model to explore if we can predict the rating of a Book review in Amazon based exclusively on the text of the review.\n",
    " \n",
    "I will begin importing the libraries necessary to perform this exercise."
   ]
  },
  {
   "cell_type": "code",
   "execution_count": 1,
   "metadata": {},
   "outputs": [
    {
     "name": "stderr",
     "output_type": "stream",
     "text": [
      "[nltk_data] Downloading package stopwords to\n",
      "[nltk_data]     /home/ordovas/nltk_data...\n",
      "[nltk_data]   Package stopwords is already up-to-date!\n"
     ]
    }
   ],
   "source": [
    "import pandas as pd\n",
    "import numpy as np\n",
    "import matplotlib.pyplot as plt\n",
    "from pymongo import MongoClient\n",
    "\n",
    "import re\n",
    "\n",
    "import nltk\n",
    "from nltk.corpus import stopwords\n",
    "nltk.download(\"stopwords\")\n",
    "\n",
    "from sklearn.feature_extraction.text import TfidfVectorizer\n",
    "from sklearn.model_selection import train_test_split\n",
    "from sklearn.linear_model import LogisticRegression\n",
    "from sklearn.metrics import confusion_matrix\n",
    "from sklearn.metrics import plot_confusion_matrix\n",
    "\n",
    "client = MongoClient()"
   ]
  },
  {
   "cell_type": "markdown",
   "metadata": {},
   "source": [
    "Now we load a fraction of the dataset and visualize the head of the dataset that we obtained."
   ]
  },
  {
   "cell_type": "code",
   "execution_count": 2,
   "metadata": {},
   "outputs": [],
   "source": [
    "db = client.get_database(\"amazon\")\n",
    "# Define an alias for the books dataset\n",
    "books =db.books\n",
    "# Obtain a random sample from the dataset, selecting only a few records \n",
    "# (we will use only overall and reviewTest, but I will load a few more just in case I\n",
    "# want to play with more info...)\n",
    "res = list(books.aggregate([\n",
    "    { \"$sample\": { \"size\": 75000 }}\n",
    "    ,{ \"$project\": {\"id\": \"$_id\", \"_id\": 0, \"overall\": 1, \"reviewText\": 1,\"summary\":1,\"reviewerName\":1}} \n",
    "]))\n",
    "# Converting to pandas DataFrame\n",
    "df=pd.DataFrame(res)"
   ]
  },
  {
   "cell_type": "code",
   "execution_count": 3,
   "metadata": {},
   "outputs": [
    {
     "data": {
      "text/html": [
       "<div>\n",
       "<style scoped>\n",
       "    .dataframe tbody tr th:only-of-type {\n",
       "        vertical-align: middle;\n",
       "    }\n",
       "\n",
       "    .dataframe tbody tr th {\n",
       "        vertical-align: top;\n",
       "    }\n",
       "\n",
       "    .dataframe thead th {\n",
       "        text-align: right;\n",
       "    }\n",
       "</style>\n",
       "<table border=\"1\" class=\"dataframe\">\n",
       "  <thead>\n",
       "    <tr style=\"text-align: right;\">\n",
       "      <th></th>\n",
       "      <th>overall</th>\n",
       "      <th>reviewerName</th>\n",
       "      <th>reviewText</th>\n",
       "      <th>summary</th>\n",
       "      <th>id</th>\n",
       "    </tr>\n",
       "  </thead>\n",
       "  <tbody>\n",
       "    <tr>\n",
       "      <th>0</th>\n",
       "      <td>2</td>\n",
       "      <td>Loves to Sew</td>\n",
       "      <td>Disappointing.  Starts with some laugh out lou...</td>\n",
       "      <td>Disappointing</td>\n",
       "      <td>6033ab7df7ccad4a92f3d76d</td>\n",
       "    </tr>\n",
       "    <tr>\n",
       "      <th>1</th>\n",
       "      <td>5</td>\n",
       "      <td>lakegirl41</td>\n",
       "      <td>One of my favorite authors.  I never miss one ...</td>\n",
       "      <td>One of the best in the spy thiller genre</td>\n",
       "      <td>6033ab8cf7ccad4a92f6c897</td>\n",
       "    </tr>\n",
       "    <tr>\n",
       "      <th>2</th>\n",
       "      <td>2</td>\n",
       "      <td>Peter Finch</td>\n",
       "      <td>Blue Mars is a lousy book in a lousy trilogy. ...</td>\n",
       "      <td>Longer than Foundation, more sand than Dune.</td>\n",
       "      <td>6033ab88f7ccad4a92f5f169</td>\n",
       "    </tr>\n",
       "    <tr>\n",
       "      <th>3</th>\n",
       "      <td>5</td>\n",
       "      <td>Denise Newcomer</td>\n",
       "      <td>Excellent as always and as Silva moves forward...</td>\n",
       "      <td>Excellent as always and as Silva moves forward...</td>\n",
       "      <td>6033ab92f7ccad4a92f8078f</td>\n",
       "    </tr>\n",
       "    <tr>\n",
       "      <th>4</th>\n",
       "      <td>5</td>\n",
       "      <td>Cal Gal</td>\n",
       "      <td>can't go wrong</td>\n",
       "      <td>Five Stars</td>\n",
       "      <td>6033ab7af7ccad4a92f32143</td>\n",
       "    </tr>\n",
       "  </tbody>\n",
       "</table>\n",
       "</div>"
      ],
      "text/plain": [
       "   overall     reviewerName  \\\n",
       "0        2     Loves to Sew   \n",
       "1        5       lakegirl41   \n",
       "2        2      Peter Finch   \n",
       "3        5  Denise Newcomer   \n",
       "4        5          Cal Gal   \n",
       "\n",
       "                                          reviewText  \\\n",
       "0  Disappointing.  Starts with some laugh out lou...   \n",
       "1  One of my favorite authors.  I never miss one ...   \n",
       "2  Blue Mars is a lousy book in a lousy trilogy. ...   \n",
       "3  Excellent as always and as Silva moves forward...   \n",
       "4                                     can't go wrong   \n",
       "\n",
       "                                             summary                        id  \n",
       "0                                      Disappointing  6033ab7df7ccad4a92f3d76d  \n",
       "1           One of the best in the spy thiller genre  6033ab8cf7ccad4a92f6c897  \n",
       "2       Longer than Foundation, more sand than Dune.  6033ab88f7ccad4a92f5f169  \n",
       "3  Excellent as always and as Silva moves forward...  6033ab92f7ccad4a92f8078f  \n",
       "4                                         Five Stars  6033ab7af7ccad4a92f32143  "
      ]
     },
     "execution_count": 3,
     "metadata": {},
     "output_type": "execute_result"
    }
   ],
   "source": [
    "df.head()"
   ]
  },
  {
   "cell_type": "markdown",
   "metadata": {},
   "source": [
    "I wil now drop the rows with NaN values in the `reviewText` column."
   ]
  },
  {
   "cell_type": "code",
   "execution_count": 4,
   "metadata": {},
   "outputs": [
    {
     "name": "stdout",
     "output_type": "stream",
     "text": [
      "<class 'pandas.core.frame.DataFrame'>\n",
      "RangeIndex: 75000 entries, 0 to 74999\n",
      "Data columns (total 5 columns):\n",
      " #   Column        Non-Null Count  Dtype \n",
      "---  ------        --------------  ----- \n",
      " 0   overall       75000 non-null  int64 \n",
      " 1   reviewerName  74999 non-null  object\n",
      " 2   reviewText    74988 non-null  object\n",
      " 3   summary       74988 non-null  object\n",
      " 4   id            75000 non-null  object\n",
      "dtypes: int64(1), object(4)\n",
      "memory usage: 2.9+ MB\n"
     ]
    }
   ],
   "source": [
    "df.info()"
   ]
  },
  {
   "cell_type": "code",
   "execution_count": 5,
   "metadata": {},
   "outputs": [],
   "source": [
    "df=df.dropna(subset=['reviewText'])"
   ]
  },
  {
   "cell_type": "markdown",
   "metadata": {},
   "source": [
    "Let's check that everything is fine..."
   ]
  },
  {
   "cell_type": "code",
   "execution_count": 6,
   "metadata": {},
   "outputs": [
    {
     "name": "stdout",
     "output_type": "stream",
     "text": [
      "<class 'pandas.core.frame.DataFrame'>\n",
      "Int64Index: 74988 entries, 0 to 74999\n",
      "Data columns (total 5 columns):\n",
      " #   Column        Non-Null Count  Dtype \n",
      "---  ------        --------------  ----- \n",
      " 0   overall       74988 non-null  int64 \n",
      " 1   reviewerName  74987 non-null  object\n",
      " 2   reviewText    74988 non-null  object\n",
      " 3   summary       74976 non-null  object\n",
      " 4   id            74988 non-null  object\n",
      "dtypes: int64(1), object(4)\n",
      "memory usage: 3.4+ MB\n"
     ]
    }
   ],
   "source": [
    "df.info()"
   ]
  },
  {
   "cell_type": "markdown",
   "metadata": {},
   "source": [
    "OK, so now I will examine the `overall` column, that is the target feature.\n",
    " \n",
    "There are far more reviews with high ratings than with low scores, so there is no balance. To solve this, later on I will weight the clases instead of selecting now the exact number of reviews for each rating."
   ]
  },
  {
   "cell_type": "code",
   "execution_count": 7,
   "metadata": {},
   "outputs": [
    {
     "data": {
      "text/plain": [
       "5    46888\n",
       "4    15283\n",
       "3     6984\n",
       "2     3143\n",
       "1     2690\n",
       "Name: overall, dtype: int64"
      ]
     },
     "execution_count": 7,
     "metadata": {},
     "output_type": "execute_result"
    }
   ],
   "source": [
    "df[\"overall\"].value_counts()"
   ]
  },
  {
   "cell_type": "markdown",
   "metadata": {},
   "source": [
    "## Preprocessing: TF-IDF\n",
    " \n",
    "I will create TF-IFD vectors for each review. TF-IDF measures the frequency of each word inside a review and compares it with the number of documents where this word appears. \n",
    " \n",
    "To begin with I will clean the review text ignoring stop words and words with less than 4 letters, as they will likely not contain much information."
   ]
  },
  {
   "cell_type": "code",
   "execution_count": 8,
   "metadata": {},
   "outputs": [],
   "source": [
    "def cleaning_review(texts):\n",
    "    #Remove numbers, punctuation and lowercase everything\n",
    "    res=re.sub(\"[^A-Za-z]+\", \" \", texts.lower()) \n",
    "    #Remove words with less than 4 letters\n",
    "    res=re.sub(r'\\b\\w{1,3}\\b', \"\", res) \n",
    "    #Remove rest of stop words\n",
    "    for stopword in stopwords.words('english'): \n",
    "        sw=stopword.replace(\"'\",\"\")\n",
    "        res=res.replace(f\" {sw} \",\" \")\n",
    "    return res\n",
    "\n"
   ]
  },
  {
   "cell_type": "markdown",
   "metadata": {},
   "source": [
    "Now I will create a feature with the \"cleaned\" text named `review_clean`"
   ]
  },
  {
   "cell_type": "code",
   "execution_count": 9,
   "metadata": {},
   "outputs": [],
   "source": [
    "df[\"review_clean\"]=df[\"reviewText\"]\n",
    "df[\"review_clean\"]=df[\"review_clean\"].apply(cleaning_review)\n",
    "df=df.reset_index()"
   ]
  },
  {
   "cell_type": "markdown",
   "metadata": {},
   "source": [
    "And then we can now create the TF-IDF vectors for each review using `TfidfVectorizer` from  `sklearn`. We ignore words that don't appear in at least 5 reviews.\n",
    "\n",
    "But first, we need to split the dataset into train and test samples. I will choose 85% of the sample to train and 15% to test. \n",
    "\n",
    "The TF-IDF vectorizer needs to be trained first on the train dataset and after that applied to the test dataset, in order to prevent data leackage."
   ]
  },
  {
   "cell_type": "code",
   "execution_count": 10,
   "metadata": {},
   "outputs": [],
   "source": [
    "Xraw_train, Xraw_test, y_train, y_test = train_test_split(df[\"review_clean\"], df[\"overall\"], test_size=0.15, random_state=42)\n",
    "\n",
    "v = TfidfVectorizer(min_df=5)\n",
    "tf_idf_train = v.fit_transform(Xraw_train).toarray()\n",
    "tf_idf_test = v.transform(Xraw_test).toarray()\n",
    "\n",
    "X_train=pd.DataFrame(tf_idf_train, columns=v.get_feature_names())\n",
    "X_test=pd.DataFrame(tf_idf_test, columns=v.get_feature_names())"
   ]
  },
  {
   "cell_type": "markdown",
   "metadata": {},
   "source": [
    "Just for curiosity, let's check how many features/words the TF-IDF vectors have..."
   ]
  },
  {
   "cell_type": "code",
   "execution_count": 11,
   "metadata": {},
   "outputs": [
    {
     "data": {
      "text/plain": [
       "23244"
      ]
     },
     "execution_count": 11,
     "metadata": {},
     "output_type": "execute_result"
    }
   ],
   "source": [
    "len(v.get_feature_names())"
   ]
  },
  {
   "cell_type": "code",
   "execution_count": 12,
   "metadata": {},
   "outputs": [
    {
     "data": {
      "text/plain": [
       "(63739, 11249)"
      ]
     },
     "execution_count": 12,
     "metadata": {},
     "output_type": "execute_result"
    }
   ],
   "source": [
    "len(y_train),len(y_test)"
   ]
  },
  {
   "cell_type": "markdown",
   "metadata": {},
   "source": [
    "## Logistic Regression: Predicting the scores based on the TF-IDF vectors\n",
    "\n",
    "Now it's time to use the Logistic Regression model to predict the scores of the reviews. The TD-IFD vectors are the features used to predict the target, that is the `overall` column that stores the numeric ratings.\n",
    " \n",
    "We will activate `class_weight=\"balanced\"`, as the classes (scores) are not balanced, so if we do not weigh the classes the fit will be biased towards high ratings (most populated classes).\n",
    " \n",
    "This is just a very simple approach, without fine tuning anything. This is just an exercise for learning purposes."
   ]
  },
  {
   "cell_type": "code",
   "execution_count": 13,
   "metadata": {},
   "outputs": [
    {
     "name": "stderr",
     "output_type": "stream",
     "text": [
      "/home/ordovas/anaconda3/envs/ironhack/lib/python3.8/site-packages/sklearn/linear_model/_logistic.py:762: ConvergenceWarning: lbfgs failed to converge (status=1):\n",
      "STOP: TOTAL NO. of ITERATIONS REACHED LIMIT.\n",
      "\n",
      "Increase the number of iterations (max_iter) or scale the data as shown in:\n",
      "    https://scikit-learn.org/stable/modules/preprocessing.html\n",
      "Please also refer to the documentation for alternative solver options:\n",
      "    https://scikit-learn.org/stable/modules/linear_model.html#logistic-regression\n",
      "  n_iter_i = _check_optimize_result(\n"
     ]
    }
   ],
   "source": [
    "clf = LogisticRegression(random_state=0,class_weight=\"balanced\").fit(X_train, y_train)"
   ]
  },
  {
   "cell_type": "markdown",
   "metadata": {},
   "source": [
    "That's it? Well, now we need to check the performance of this model...\n",
    "\n",
    "Let's check the score of the classification model for the train and test samples"
   ]
  },
  {
   "cell_type": "code",
   "execution_count": 14,
   "metadata": {},
   "outputs": [
    {
     "name": "stdout",
     "output_type": "stream",
     "text": [
      "Train sample classification score: 0.69\n",
      "Test sample classification score: 0.56\n"
     ]
    }
   ],
   "source": [
    "sc_train=clf.score(X_train, y_train)\n",
    "sc_test=clf.score(X_test, y_test)\n",
    "print(f\"Train sample classification score: {round(sc_train,2)}\")\n",
    "print(f\"Test sample classification score: {round(sc_test,2)}\")"
   ]
  },
  {
   "cell_type": "markdown",
   "metadata": {},
   "source": [
    "This seems just OK, but let's check an histogram to see the accuracy of the predictions by plotting the true score minus the predicted score."
   ]
  },
  {
   "cell_type": "code",
   "execution_count": 15,
   "metadata": {},
   "outputs": [
    {
     "data": {
      "image/png": "[encoded data removed]",
      "text/plain": [
       "<Figure size 432x288 with 1 Axes>"
      ]
     },
     "metadata": {
      "needs_background": "light"
     },
     "output_type": "display_data"
    }
   ],
   "source": [
    "counts, bins = np.histogram(y_train-clf.predict(X_train),bins=np.arange(-4,6))\n",
    "plt.plot(bins[:-1],counts*100/sum(counts),label=\"Train data\")\n",
    "plt.grid()\n",
    "counts, bins = np.histogram(y_test-clf.predict(X_test),bins=np.arange(-4,6))\n",
    "plt.plot(bins[:-1],counts*100/sum(counts),label=\"Test data\")\n",
    "plt.xlabel(\"Real Rating - Predicted Rating\")\n",
    "plt.ylabel(\"Percentage\")\n",
    "plt.legend();"
   ]
  },
  {
   "cell_type": "markdown",
   "metadata": {},
   "source": [
    "Well, this simple model seems not to be very wrong! Let's quantify this with the confusion matrices as well."
   ]
  },
  {
   "cell_type": "code",
   "execution_count": 16,
   "metadata": {},
   "outputs": [
    {
     "data": {
      "text/plain": [
       "array([[ 2124,    63,    45,    24,    36],\n",
       "       [  131,  2281,   128,    47,    59],\n",
       "       [  333,   533,  3987,   664,   409],\n",
       "       [  401,   542,  1677,  7857,  2525],\n",
       "       [ 1035,  1052,  2283,  7837, 27666]])"
      ]
     },
     "execution_count": 16,
     "metadata": {},
     "output_type": "execute_result"
    }
   ],
   "source": [
    "confusion_matrix(y_train,clf.predict(X_train))"
   ]
  },
  {
   "cell_type": "code",
   "execution_count": 17,
   "metadata": {},
   "outputs": [
    {
     "data": {
      "text/plain": [
       "array([[ 205,   97,   53,   10,   33],\n",
       "       [ 138,  158,  132,   42,   27],\n",
       "       [ 104,  188,  409,  252,  105],\n",
       "       [  87,  148,  438,  982,  626],\n",
       "       [ 249,  210,  425, 1566, 4565]])"
      ]
     },
     "execution_count": 17,
     "metadata": {},
     "output_type": "execute_result"
    }
   ],
   "source": [
    "confusion_matrix(y_test,clf.predict(X_test))"
   ]
  },
  {
   "cell_type": "markdown",
   "metadata": {},
   "source": [
    "And normalized to the true scores."
   ]
  },
  {
   "cell_type": "code",
   "execution_count": 18,
   "metadata": {},
   "outputs": [
    {
     "name": "stdout",
     "output_type": "stream",
     "text": [
      "Train subsample:\n"
     ]
    },
    {
     "data": {
      "image/png": "[encoded data removed]",
      "text/plain": [
       "<Figure size 432x288 with 2 Axes>"
      ]
     },
     "metadata": {
      "needs_background": "light"
     },
     "output_type": "display_data"
    },
    {
     "name": "stdout",
     "output_type": "stream",
     "text": [
      "Test subsample:\n"
     ]
    },
    {
     "data": {
      "image/png": "[encoded data removed]",
      "text/plain": [
       "<Figure size 432x288 with 2 Axes>"
      ]
     },
     "metadata": {
      "needs_background": "light"
     },
     "output_type": "display_data"
    }
   ],
   "source": [
    "print(\"Train subsample:\")\n",
    "plot_confusion_matrix(clf, X_train, y_train,cmap=\"viridis\",normalize=\"true\") \n",
    "plt.show();\n",
    "print(\"Test subsample:\")\n",
    "plot_confusion_matrix(clf, X_test, y_test,cmap=\"viridis\",normalize=\"true\")\n",
    "plt.show();"
   ]
  },
  {
   "cell_type": "markdown",
   "metadata": {},
   "source": [
    "The diagonal indicates that the Logistic Model predicts reasonably well the score of the review for this simple approach."
   ]
  },
  {
   "cell_type": "markdown",
   "metadata": {},
   "source": [
    "## Undersanding the Logistic Regression: How it is pedicted\n",
    "\n",
    "I will create a DataFrame with the coefficients of each score to understand how the features (words) contributes to each class."
   ]
  },
  {
   "cell_type": "code",
   "execution_count": 19,
   "metadata": {},
   "outputs": [
    {
     "data": {
      "text/html": [
       "<div>\n",
       "<style scoped>\n",
       "    .dataframe tbody tr th:only-of-type {\n",
       "        vertical-align: middle;\n",
       "    }\n",
       "\n",
       "    .dataframe tbody tr th {\n",
       "        vertical-align: top;\n",
       "    }\n",
       "\n",
       "    .dataframe thead th {\n",
       "        text-align: right;\n",
       "    }\n",
       "</style>\n",
       "<table border=\"1\" class=\"dataframe\">\n",
       "  <thead>\n",
       "    <tr style=\"text-align: right;\">\n",
       "      <th></th>\n",
       "      <th>1</th>\n",
       "      <th>2</th>\n",
       "      <th>3</th>\n",
       "      <th>4</th>\n",
       "      <th>5</th>\n",
       "    </tr>\n",
       "  </thead>\n",
       "  <tbody>\n",
       "    <tr>\n",
       "      <th>aaron</th>\n",
       "      <td>0.006770</td>\n",
       "      <td>0.444029</td>\n",
       "      <td>-0.246668</td>\n",
       "      <td>-0.099750</td>\n",
       "      <td>-0.104381</td>\n",
       "    </tr>\n",
       "    <tr>\n",
       "      <th>aback</th>\n",
       "      <td>-0.136760</td>\n",
       "      <td>0.179028</td>\n",
       "      <td>-0.190128</td>\n",
       "      <td>-0.040412</td>\n",
       "      <td>0.188272</td>\n",
       "    </tr>\n",
       "    <tr>\n",
       "      <th>abandon</th>\n",
       "      <td>0.414620</td>\n",
       "      <td>0.402075</td>\n",
       "      <td>-0.681850</td>\n",
       "      <td>-0.016647</td>\n",
       "      <td>-0.118198</td>\n",
       "    </tr>\n",
       "    <tr>\n",
       "      <th>abandoned</th>\n",
       "      <td>0.802181</td>\n",
       "      <td>1.176811</td>\n",
       "      <td>-1.007685</td>\n",
       "      <td>-0.254269</td>\n",
       "      <td>-0.717038</td>\n",
       "    </tr>\n",
       "    <tr>\n",
       "      <th>abandoning</th>\n",
       "      <td>0.254506</td>\n",
       "      <td>0.253936</td>\n",
       "      <td>-0.185365</td>\n",
       "      <td>-0.097050</td>\n",
       "      <td>-0.226027</td>\n",
       "    </tr>\n",
       "    <tr>\n",
       "      <th>abandonment</th>\n",
       "      <td>0.017719</td>\n",
       "      <td>-0.364044</td>\n",
       "      <td>0.306499</td>\n",
       "      <td>0.044739</td>\n",
       "      <td>-0.004913</td>\n",
       "    </tr>\n",
       "    <tr>\n",
       "      <th>abandons</th>\n",
       "      <td>-0.253358</td>\n",
       "      <td>0.325939</td>\n",
       "      <td>-0.052941</td>\n",
       "      <td>-0.016850</td>\n",
       "      <td>-0.002790</td>\n",
       "    </tr>\n",
       "    <tr>\n",
       "      <th>abarat</th>\n",
       "      <td>-0.291648</td>\n",
       "      <td>0.523662</td>\n",
       "      <td>0.039147</td>\n",
       "      <td>-0.548654</td>\n",
       "      <td>0.277493</td>\n",
       "    </tr>\n",
       "    <tr>\n",
       "      <th>abbey</th>\n",
       "      <td>0.353580</td>\n",
       "      <td>-0.724238</td>\n",
       "      <td>-0.160449</td>\n",
       "      <td>0.343803</td>\n",
       "      <td>0.187304</td>\n",
       "    </tr>\n",
       "    <tr>\n",
       "      <th>abbot</th>\n",
       "      <td>-0.119098</td>\n",
       "      <td>0.132476</td>\n",
       "      <td>-0.149685</td>\n",
       "      <td>0.123302</td>\n",
       "      <td>0.013005</td>\n",
       "    </tr>\n",
       "    <tr>\n",
       "      <th>abbreviated</th>\n",
       "      <td>-0.242603</td>\n",
       "      <td>0.269195</td>\n",
       "      <td>-0.286503</td>\n",
       "      <td>0.298275</td>\n",
       "      <td>-0.038364</td>\n",
       "    </tr>\n",
       "    <tr>\n",
       "      <th>abby</th>\n",
       "      <td>-0.137508</td>\n",
       "      <td>-0.173782</td>\n",
       "      <td>-0.112072</td>\n",
       "      <td>0.591294</td>\n",
       "      <td>-0.167933</td>\n",
       "    </tr>\n",
       "    <tr>\n",
       "      <th>abducted</th>\n",
       "      <td>-0.103683</td>\n",
       "      <td>-0.171326</td>\n",
       "      <td>0.010061</td>\n",
       "      <td>0.430142</td>\n",
       "      <td>-0.165194</td>\n",
       "    </tr>\n",
       "    <tr>\n",
       "      <th>abduction</th>\n",
       "      <td>-0.483701</td>\n",
       "      <td>0.003188</td>\n",
       "      <td>0.484047</td>\n",
       "      <td>0.096547</td>\n",
       "      <td>-0.100081</td>\n",
       "    </tr>\n",
       "    <tr>\n",
       "      <th>abel</th>\n",
       "      <td>0.298693</td>\n",
       "      <td>0.572350</td>\n",
       "      <td>-0.339521</td>\n",
       "      <td>-0.417448</td>\n",
       "      <td>-0.114073</td>\n",
       "    </tr>\n",
       "    <tr>\n",
       "      <th>abercrombie</th>\n",
       "      <td>-0.852080</td>\n",
       "      <td>0.917482</td>\n",
       "      <td>-0.685848</td>\n",
       "      <td>0.027245</td>\n",
       "      <td>0.593202</td>\n",
       "    </tr>\n",
       "    <tr>\n",
       "      <th>aberdeen</th>\n",
       "      <td>-0.047406</td>\n",
       "      <td>-0.075820</td>\n",
       "      <td>-0.158793</td>\n",
       "      <td>0.203282</td>\n",
       "      <td>0.078737</td>\n",
       "    </tr>\n",
       "    <tr>\n",
       "      <th>aberration</th>\n",
       "      <td>0.242838</td>\n",
       "      <td>-0.177695</td>\n",
       "      <td>0.025943</td>\n",
       "      <td>-0.092956</td>\n",
       "      <td>0.001870</td>\n",
       "    </tr>\n",
       "    <tr>\n",
       "      <th>abhor</th>\n",
       "      <td>0.329201</td>\n",
       "      <td>0.001472</td>\n",
       "      <td>-0.286781</td>\n",
       "      <td>-0.024046</td>\n",
       "      <td>-0.019846</td>\n",
       "    </tr>\n",
       "    <tr>\n",
       "      <th>abhorrent</th>\n",
       "      <td>0.134326</td>\n",
       "      <td>0.030789</td>\n",
       "      <td>-0.092527</td>\n",
       "      <td>-0.049577</td>\n",
       "      <td>-0.023011</td>\n",
       "    </tr>\n",
       "  </tbody>\n",
       "</table>\n",
       "</div>"
      ],
      "text/plain": [
       "                    1         2         3         4         5\n",
       "aaron        0.006770  0.444029 -0.246668 -0.099750 -0.104381\n",
       "aback       -0.136760  0.179028 -0.190128 -0.040412  0.188272\n",
       "abandon      0.414620  0.402075 -0.681850 -0.016647 -0.118198\n",
       "abandoned    0.802181  1.176811 -1.007685 -0.254269 -0.717038\n",
       "abandoning   0.254506  0.253936 -0.185365 -0.097050 -0.226027\n",
       "abandonment  0.017719 -0.364044  0.306499  0.044739 -0.004913\n",
       "abandons    -0.253358  0.325939 -0.052941 -0.016850 -0.002790\n",
       "abarat      -0.291648  0.523662  0.039147 -0.548654  0.277493\n",
       "abbey        0.353580 -0.724238 -0.160449  0.343803  0.187304\n",
       "abbot       -0.119098  0.132476 -0.149685  0.123302  0.013005\n",
       "abbreviated -0.242603  0.269195 -0.286503  0.298275 -0.038364\n",
       "abby        -0.137508 -0.173782 -0.112072  0.591294 -0.167933\n",
       "abducted    -0.103683 -0.171326  0.010061  0.430142 -0.165194\n",
       "abduction   -0.483701  0.003188  0.484047  0.096547 -0.100081\n",
       "abel         0.298693  0.572350 -0.339521 -0.417448 -0.114073\n",
       "abercrombie -0.852080  0.917482 -0.685848  0.027245  0.593202\n",
       "aberdeen    -0.047406 -0.075820 -0.158793  0.203282  0.078737\n",
       "aberration   0.242838 -0.177695  0.025943 -0.092956  0.001870\n",
       "abhor        0.329201  0.001472 -0.286781 -0.024046 -0.019846\n",
       "abhorrent    0.134326  0.030789 -0.092527 -0.049577 -0.023011"
      ]
     },
     "execution_count": 19,
     "metadata": {},
     "output_type": "execute_result"
    }
   ],
   "source": [
    "model=pd.DataFrame(clf.coef_,columns=X_train.columns)\n",
    "model=model.T\n",
    "model.columns=[\"1\",\"2\",\"3\",\"4\",\"5\"]\n",
    "model.head(20)"
   ]
  },
  {
   "cell_type": "markdown",
   "metadata": {},
   "source": [
    "For the highest score, the words that are directly correlated and contributes the most are words as \"excellent\", \"great\", \"love\", \"fantastic\", \"amazing\"..."
   ]
  },
  {
   "cell_type": "code",
   "execution_count": 20,
   "metadata": {},
   "outputs": [
    {
     "data": {
      "text/plain": [
       "great          4.608426\n",
       "wonderful      4.312812\n",
       "highly         4.282987\n",
       "excellent      3.995732\n",
       "fantastic      3.882990\n",
       "love           3.787973\n",
       "amazing        3.692790\n",
       "beautifully    3.630109\n",
       "loved          3.433179\n",
       "awesome        3.367438\n",
       "perfect        3.270541\n",
       "favorite       3.223673\n",
       "wait           3.113690\n",
       "beautiful      3.005391\n",
       "fascinating    2.989929\n",
       "outstanding    2.905683\n",
       "loves          2.782816\n",
       "every          2.623823\n",
       "timeless       2.533979\n",
       "fabulous       2.447075\n",
       "Name: 5, dtype: float64"
      ]
     },
     "execution_count": 20,
     "metadata": {},
     "output_type": "execute_result"
    }
   ],
   "source": [
    "model[\"5\"].sort_values(ascending=False).head(20)"
   ]
  },
  {
   "cell_type": "markdown",
   "metadata": {},
   "source": [
    "So, for the lowest score, it is not strange that the words that are directly correlated and contribute the most are words such as \"terrible\",\"trash\" or \"boring\"."
   ]
  },
  {
   "cell_type": "code",
   "execution_count": 21,
   "metadata": {},
   "outputs": [
    {
     "data": {
      "text/plain": [
       "waste        5.452691\n",
       "worst        5.261957\n",
       "boring       4.786860\n",
       "save         4.566060\n",
       "terrible     4.555829\n",
       "awful        4.340842\n",
       "drivel       4.184413\n",
       "garbage      4.180154\n",
       "publisher    4.013816\n",
       "poorly       3.959788\n",
       "sick         3.771806\n",
       "hated        3.693093\n",
       "star         3.603002\n",
       "shame        3.578303\n",
       "attempt      3.542064\n",
       "tedious      3.533011\n",
       "even         3.480674\n",
       "trash        3.437035\n",
       "shallow      3.381477\n",
       "money        3.371958\n",
       "Name: 1, dtype: float64"
      ]
     },
     "execution_count": 21,
     "metadata": {},
     "output_type": "execute_result"
    }
   ],
   "source": [
    "model[\"1\"].sort_values(ascending=False).head(20)"
   ]
  },
  {
   "cell_type": "markdown",
   "metadata": {},
   "source": [
    "With respect to the intermediate scores, the words that define these reviews are related to texts that show good and bad aspects of the product, so words like \"however\" or \"unfortunately\" are weighted high, as well as \"okay\",\"somewhat\" and \"alright\"."
   ]
  },
  {
   "cell_type": "code",
   "execution_count": 22,
   "metadata": {
    "scrolled": true
   },
   "outputs": [
    {
     "data": {
      "text/plain": [
       "however       3.897842\n",
       "okay          3.126538\n",
       "felt          2.833614\n",
       "decent        2.502862\n",
       "moments       2.483120\n",
       "rating        2.406487\n",
       "spends        2.259270\n",
       "seemed        2.163274\n",
       "quite         2.144148\n",
       "edgar         2.138156\n",
       "repetitive    2.120715\n",
       "symbolism     2.072084\n",
       "prefer        2.071322\n",
       "little        2.049132\n",
       "travels       2.044142\n",
       "language      2.006037\n",
       "lighter       1.996800\n",
       "average       1.933272\n",
       "pleasant      1.923039\n",
       "though        1.918883\n",
       "Name: 3, dtype: float64"
      ]
     },
     "execution_count": 22,
     "metadata": {},
     "output_type": "execute_result"
    }
   ],
   "source": [
    "model[\"3\"].sort_values(ascending=False).head(20)"
   ]
  },
  {
   "cell_type": "markdown",
   "metadata": {},
   "source": [
    "On the other side, words with the lowest value of the coefficients show other information: features that are least likely to appear on a review. For instance, for the best reviewed books, we will not find words as \"boring\" or \"disappointing\"."
   ]
  },
  {
   "cell_type": "code",
   "execution_count": 23,
   "metadata": {},
   "outputs": [
    {
     "data": {
      "text/plain": [
       "boring          -5.231136\n",
       "however         -4.471795\n",
       "disappointing   -4.413640\n",
       "unfortunately   -4.287798\n",
       "seemed          -3.925867\n",
       "tedious         -3.809126\n",
       "waste           -3.733157\n",
       "disappointed    -3.710784\n",
       "predictable     -3.422302\n",
       "worst           -3.384869\n",
       "slow            -3.122149\n",
       "depressing      -3.074206\n",
       "seems           -3.011649\n",
       "terrible        -2.970680\n",
       "instead         -2.967009\n",
       "okay            -2.893664\n",
       "rather          -2.789015\n",
       "lack            -2.763853\n",
       "poorly          -2.750605\n",
       "confusing       -2.726690\n",
       "Name: 5, dtype: float64"
      ]
     },
     "execution_count": 23,
     "metadata": {},
     "output_type": "execute_result"
    }
   ],
   "source": [
    "model[\"5\"].sort_values(ascending=True).head(20)"
   ]
  },
  {
   "cell_type": "markdown",
   "metadata": {},
   "source": [
    "For the products with lowest score, we will not find \"perfect\", \"good\", \"enjoyed\" or \"great\"."
   ]
  },
  {
   "cell_type": "code",
   "execution_count": 24,
   "metadata": {},
   "outputs": [
    {
     "data": {
      "text/plain": [
       "favorite       -4.817087\n",
       "wait           -3.616834\n",
       "quite          -3.522214\n",
       "well           -3.393223\n",
       "nice           -3.353571\n",
       "entertaining   -3.323710\n",
       "easy           -3.193925\n",
       "great          -3.186764\n",
       "enjoyed        -3.132036\n",
       "beautifully    -3.014576\n",
       "despite        -3.010059\n",
       "turner         -2.973879\n",
       "learn          -2.914511\n",
       "sometimes      -2.885311\n",
       "lives          -2.756634\n",
       "similar        -2.647344\n",
       "forward        -2.576933\n",
       "number         -2.571635\n",
       "tale           -2.520076\n",
       "engaging       -2.519760\n",
       "Name: 1, dtype: float64"
      ]
     },
     "execution_count": 24,
     "metadata": {},
     "output_type": "execute_result"
    }
   ],
   "source": [
    "model[\"1\"].sort_values(ascending=True).head(20)"
   ]
  },
  {
   "cell_type": "markdown",
   "metadata": {},
   "source": [
    "Lastly, for scores as 3, we will not find words that indicate extreme (good or bad) reviews. So features like \"wonderful\" and \"waste\" have low weights."
   ]
  },
  {
   "cell_type": "code",
   "execution_count": 25,
   "metadata": {},
   "outputs": [
    {
     "data": {
      "text/plain": [
       "highly        -3.372506\n",
       "anyone        -2.500611\n",
       "every         -2.303321\n",
       "perfect       -2.278214\n",
       "thing         -2.189303\n",
       "realized      -2.164936\n",
       "waste         -2.159159\n",
       "wonderful     -2.148024\n",
       "even          -2.026052\n",
       "teacher       -1.957684\n",
       "please        -1.952563\n",
       "looks         -1.947513\n",
       "immediately   -1.914624\n",
       "hooked        -1.840952\n",
       "loved         -1.825834\n",
       "truly         -1.793874\n",
       "keeps         -1.777929\n",
       "purchase      -1.774224\n",
       "soon          -1.761317\n",
       "excellent     -1.708599\n",
       "Name: 3, dtype: float64"
      ]
     },
     "execution_count": 25,
     "metadata": {},
     "output_type": "execute_result"
    }
   ],
   "source": [
    "model[\"3\"].sort_values(ascending=True).head(20)"
   ]
  },
  {
   "cell_type": "markdown",
   "metadata": {},
   "source": [
    "## Caveats\n",
    "\n",
    "This is a very simple approach to understand this exercise, so we can improve it a lot. We can reduce the dimensionality of the features, test different algorithms and tune the ML parameters. But in this notebook I show this simple solution to learn how it works."
   ]
  },
  {
   "cell_type": "code",
   "execution_count": null,
   "metadata": {},
   "outputs": [],
   "source": []
  }
 ],
 "metadata": {
  "kernelspec": {
   "display_name": "Python 3",
   "language": "python",
   "name": "python3"
  },
  "language_info": {
   "codemirror_mode": {
    "name": "ipython",
    "version": 3
   },
   "file_extension": ".py",
   "mimetype": "text/x-python",
   "name": "python",
   "nbconvert_exporter": "python",
   "pygments_lexer": "ipython3",
   "version": "3.8.3"
  }
 },
 "nbformat": 4,
 "nbformat_minor": 4
}
