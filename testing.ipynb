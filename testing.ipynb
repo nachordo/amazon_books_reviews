{
 "cells": [
  {
   "cell_type": "markdown",
   "metadata": {},
   "source": [
    "# Predicting Amazon review score based only on the text"
   ]
  },
  {
   "cell_type": "code",
   "execution_count": 1,
   "metadata": {},
   "outputs": [
    {
     "name": "stderr",
     "output_type": "stream",
     "text": [
      "[nltk_data] Downloading package stopwords to\n",
      "[nltk_data]     /home/ordovas/nltk_data...\n",
      "[nltk_data]   Package stopwords is already up-to-date!\n"
     ]
    }
   ],
   "source": [
    "import pandas as pd\n",
    "import numpy as np\n",
    "import matplotlib.pyplot as plt\n",
    "#import math\n",
    "#from bson import ObjectId\n",
    "from pymongo import MongoClient\n",
    "\n",
    "import re\n",
    "#import os\n",
    "\n",
    "#import json\n",
    "\n",
    "import nltk\n",
    "from nltk.corpus import stopwords\n",
    "nltk.download(\"stopwords\")\n",
    "\n",
    "from sklearn.model_selection import train_test_split\n",
    "from sklearn.linear_model import LogisticRegression\n",
    "from sklearn.metrics import confusion_matrix\n",
    "from sklearn.metrics import plot_confusion_matrix\n",
    "\n",
    "client = MongoClient()\n"
   ]
  },
  {
   "cell_type": "code",
   "execution_count": null,
   "metadata": {},
   "outputs": [],
   "source": []
  },
  {
   "cell_type": "markdown",
   "metadata": {},
   "source": [
    "Now we load a fraction of the dataset."
   ]
  },
  {
   "cell_type": "code",
   "execution_count": 2,
   "metadata": {},
   "outputs": [],
   "source": [
    "db = client.get_database(\"amazon\")\n",
    "# Define an alias for the books dataset\n",
    "books =db.books\n",
    "# Obtain a random sample from the dataset\n",
    "res = list(books.aggregate([\n",
    "    { \"$sample\": { \"size\": 60000 } }\n",
    "]))\n",
    "# Converting to pandas DataFrame\n",
    "df=pd.DataFrame(res)"
   ]
  },
  {
   "cell_type": "code",
   "execution_count": 3,
   "metadata": {},
   "outputs": [
    {
     "data": {
      "text/html": [
       "<div>\n",
       "<style scoped>\n",
       "    .dataframe tbody tr th:only-of-type {\n",
       "        vertical-align: middle;\n",
       "    }\n",
       "\n",
       "    .dataframe tbody tr th {\n",
       "        vertical-align: top;\n",
       "    }\n",
       "\n",
       "    .dataframe thead th {\n",
       "        text-align: right;\n",
       "    }\n",
       "</style>\n",
       "<table border=\"1\" class=\"dataframe\">\n",
       "  <thead>\n",
       "    <tr style=\"text-align: right;\">\n",
       "      <th></th>\n",
       "      <th>_id</th>\n",
       "      <th>overall</th>\n",
       "      <th>verified</th>\n",
       "      <th>reviewTime</th>\n",
       "      <th>reviewerID</th>\n",
       "      <th>asin</th>\n",
       "      <th>style</th>\n",
       "      <th>reviewerName</th>\n",
       "      <th>reviewText</th>\n",
       "      <th>summary</th>\n",
       "      <th>unixReviewTime</th>\n",
       "      <th>vote</th>\n",
       "      <th>image</th>\n",
       "    </tr>\n",
       "  </thead>\n",
       "  <tbody>\n",
       "    <tr>\n",
       "      <th>0</th>\n",
       "      <td>6033ab88f7ccad4a92f619df</td>\n",
       "      <td>3</td>\n",
       "      <td>True</td>\n",
       "      <td>02 10, 2013</td>\n",
       "      <td>AM1LAWCJEM03D</td>\n",
       "      <td>0007436580</td>\n",
       "      <td>{'Format:': ' Kindle Edition'}</td>\n",
       "      <td>Pat Arnold</td>\n",
       "      <td>IT WAS OKAY.  I WAS  GLAD I DIDNT PAY A LOT FO...</td>\n",
       "      <td>CRYING FOR HELP</td>\n",
       "      <td>1360454400</td>\n",
       "      <td>NaN</td>\n",
       "      <td>NaN</td>\n",
       "    </tr>\n",
       "    <tr>\n",
       "      <th>1</th>\n",
       "      <td>6033ab99f7ccad4a92f95bf9</td>\n",
       "      <td>4</td>\n",
       "      <td>True</td>\n",
       "      <td>11 17, 2016</td>\n",
       "      <td>A2NJ14VHS1KCP5</td>\n",
       "      <td>0060092955</td>\n",
       "      <td>{'Format:': ' Paperback'}</td>\n",
       "      <td>nowintexas</td>\n",
       "      <td>I purchased this book after my son became obse...</td>\n",
       "      <td>Cute book but not superb</td>\n",
       "      <td>1479340800</td>\n",
       "      <td>NaN</td>\n",
       "      <td>NaN</td>\n",
       "    </tr>\n",
       "    <tr>\n",
       "      <th>2</th>\n",
       "      <td>6033ab72f7ccad4a92f1be11</td>\n",
       "      <td>4</td>\n",
       "      <td>True</td>\n",
       "      <td>07 14, 2015</td>\n",
       "      <td>ANL2PGW1NUV0I</td>\n",
       "      <td>0002226529</td>\n",
       "      <td>NaN</td>\n",
       "      <td>Corinnepea</td>\n",
       "      <td>Love Mary Higgins Clark</td>\n",
       "      <td>Four Stars</td>\n",
       "      <td>1436832000</td>\n",
       "      <td>NaN</td>\n",
       "      <td>NaN</td>\n",
       "    </tr>\n",
       "    <tr>\n",
       "      <th>3</th>\n",
       "      <td>6033ab9bf7ccad4a92f9d10c</td>\n",
       "      <td>4</td>\n",
       "      <td>False</td>\n",
       "      <td>09 11, 2002</td>\n",
       "      <td>A3T7MC28NFTYCH</td>\n",
       "      <td>0060161183</td>\n",
       "      <td>{'Format:': ' Paperback'}</td>\n",
       "      <td>Randall Ivey</td>\n",
       "      <td>Hillerman has carved out his own niche in the ...</td>\n",
       "      <td>Don't Start Here (If You've Never Read Hillerm...</td>\n",
       "      <td>1031702400</td>\n",
       "      <td>29</td>\n",
       "      <td>NaN</td>\n",
       "    </tr>\n",
       "    <tr>\n",
       "      <th>4</th>\n",
       "      <td>6033ab82f7ccad4a92f4c357</td>\n",
       "      <td>4</td>\n",
       "      <td>True</td>\n",
       "      <td>04 19, 2015</td>\n",
       "      <td>A2ZN6C51PHTKA6</td>\n",
       "      <td>0007350783</td>\n",
       "      <td>{'Format:': ' Kindle Edition'}</td>\n",
       "      <td>Lady Silverlocks</td>\n",
       "      <td>I enjoyed this modern version of Emma. I haven...</td>\n",
       "      <td>I enjoyed this modern version of Emma</td>\n",
       "      <td>1429401600</td>\n",
       "      <td>NaN</td>\n",
       "      <td>NaN</td>\n",
       "    </tr>\n",
       "  </tbody>\n",
       "</table>\n",
       "</div>"
      ],
      "text/plain": [
       "                        _id  overall  verified   reviewTime      reviewerID  \\\n",
       "0  6033ab88f7ccad4a92f619df        3      True  02 10, 2013   AM1LAWCJEM03D   \n",
       "1  6033ab99f7ccad4a92f95bf9        4      True  11 17, 2016  A2NJ14VHS1KCP5   \n",
       "2  6033ab72f7ccad4a92f1be11        4      True  07 14, 2015   ANL2PGW1NUV0I   \n",
       "3  6033ab9bf7ccad4a92f9d10c        4     False  09 11, 2002  A3T7MC28NFTYCH   \n",
       "4  6033ab82f7ccad4a92f4c357        4      True  04 19, 2015  A2ZN6C51PHTKA6   \n",
       "\n",
       "         asin                           style      reviewerName  \\\n",
       "0  0007436580  {'Format:': ' Kindle Edition'}        Pat Arnold   \n",
       "1  0060092955       {'Format:': ' Paperback'}        nowintexas   \n",
       "2  0002226529                             NaN        Corinnepea   \n",
       "3  0060161183       {'Format:': ' Paperback'}      Randall Ivey   \n",
       "4  0007350783  {'Format:': ' Kindle Edition'}  Lady Silverlocks   \n",
       "\n",
       "                                          reviewText  \\\n",
       "0  IT WAS OKAY.  I WAS  GLAD I DIDNT PAY A LOT FO...   \n",
       "1  I purchased this book after my son became obse...   \n",
       "2                            Love Mary Higgins Clark   \n",
       "3  Hillerman has carved out his own niche in the ...   \n",
       "4  I enjoyed this modern version of Emma. I haven...   \n",
       "\n",
       "                                             summary  unixReviewTime vote  \\\n",
       "0                                    CRYING FOR HELP      1360454400  NaN   \n",
       "1                           Cute book but not superb      1479340800  NaN   \n",
       "2                                         Four Stars      1436832000  NaN   \n",
       "3  Don't Start Here (If You've Never Read Hillerm...      1031702400   29   \n",
       "4              I enjoyed this modern version of Emma      1429401600  NaN   \n",
       "\n",
       "  image  \n",
       "0   NaN  \n",
       "1   NaN  \n",
       "2   NaN  \n",
       "3   NaN  \n",
       "4   NaN  "
      ]
     },
     "execution_count": 3,
     "metadata": {},
     "output_type": "execute_result"
    }
   ],
   "source": [
    "df.head()"
   ]
  },
  {
   "cell_type": "code",
   "execution_count": 4,
   "metadata": {},
   "outputs": [
    {
     "name": "stdout",
     "output_type": "stream",
     "text": [
      "<class 'pandas.core.frame.DataFrame'>\n",
      "RangeIndex: 60000 entries, 0 to 59999\n",
      "Data columns (total 13 columns):\n",
      " #   Column          Non-Null Count  Dtype \n",
      "---  ------          --------------  ----- \n",
      " 0   _id             60000 non-null  object\n",
      " 1   overall         60000 non-null  int64 \n",
      " 2   verified        60000 non-null  bool  \n",
      " 3   reviewTime      60000 non-null  object\n",
      " 4   reviewerID      60000 non-null  object\n",
      " 5   asin            60000 non-null  object\n",
      " 6   style           57198 non-null  object\n",
      " 7   reviewerName    59998 non-null  object\n",
      " 8   reviewText      59989 non-null  object\n",
      " 9   summary         59990 non-null  object\n",
      " 10  unixReviewTime  60000 non-null  int64 \n",
      " 11  vote            11304 non-null  object\n",
      " 12  image           82 non-null     object\n",
      "dtypes: bool(1), int64(2), object(10)\n",
      "memory usage: 5.6+ MB\n"
     ]
    }
   ],
   "source": [
    "df.info()"
   ]
  },
  {
   "cell_type": "code",
   "execution_count": 5,
   "metadata": {},
   "outputs": [],
   "source": [
    "df=df.dropna(subset=['reviewText', 'reviewerName',\"summary\"])"
   ]
  },
  {
   "cell_type": "code",
   "execution_count": null,
   "metadata": {},
   "outputs": [],
   "source": []
  },
  {
   "cell_type": "code",
   "execution_count": 6,
   "metadata": {},
   "outputs": [
    {
     "name": "stdout",
     "output_type": "stream",
     "text": [
      "<class 'pandas.core.frame.DataFrame'>\n",
      "Int64Index: 59977 entries, 0 to 59999\n",
      "Data columns (total 13 columns):\n",
      " #   Column          Non-Null Count  Dtype \n",
      "---  ------          --------------  ----- \n",
      " 0   _id             59977 non-null  object\n",
      " 1   overall         59977 non-null  int64 \n",
      " 2   verified        59977 non-null  bool  \n",
      " 3   reviewTime      59977 non-null  object\n",
      " 4   reviewerID      59977 non-null  object\n",
      " 5   asin            59977 non-null  object\n",
      " 6   style           57176 non-null  object\n",
      " 7   reviewerName    59977 non-null  object\n",
      " 8   reviewText      59977 non-null  object\n",
      " 9   summary         59977 non-null  object\n",
      " 10  unixReviewTime  59977 non-null  int64 \n",
      " 11  vote            11302 non-null  object\n",
      " 12  image           81 non-null     object\n",
      "dtypes: bool(1), int64(2), object(10)\n",
      "memory usage: 6.0+ MB\n"
     ]
    }
   ],
   "source": [
    "df.info()"
   ]
  },
  {
   "cell_type": "code",
   "execution_count": 7,
   "metadata": {},
   "outputs": [],
   "source": [
    "df[\"vote\"]=df[\"vote\"].fillna(value=0)\n",
    "df[\"vote\"]=df[\"vote\"].apply(lambda x: int(str(x).replace(\",\",\"\")))\n"
   ]
  },
  {
   "cell_type": "code",
   "execution_count": 8,
   "metadata": {},
   "outputs": [
    {
     "data": {
      "text/plain": [
       "5    37876\n",
       "4    12222\n",
       "3     5340\n",
       "2     2415\n",
       "1     2124\n",
       "Name: overall, dtype: int64"
      ]
     },
     "execution_count": 8,
     "metadata": {},
     "output_type": "execute_result"
    }
   ],
   "source": [
    "df[\"overall\"].value_counts()"
   ]
  },
  {
   "cell_type": "code",
   "execution_count": 9,
   "metadata": {},
   "outputs": [],
   "source": [
    "def cleaning_review(texts):\n",
    "    #Remove numbers, punctuation and lowercase everything\n",
    "    res=re.sub(\"[^A-Za-z]+\", \" \", texts.lower()) \n",
    "    #Remove words with less than 4 letters\n",
    "    res=re.sub(r'\\b\\w{1,3}\\b', \"\", res) \n",
    "    #Remove rest of stop words\n",
    "    for stopword in stopwords.words('english'): \n",
    "        sw=stopword.replace(\"'\",\"\")\n",
    "        res=res.replace(f\" {sw} \",\" \")\n",
    "    return res\n",
    "\n",
    "df[\"review_clean\"]=df[\"reviewText\"]\n",
    "df[\"review_clean\"]=df[\"review_clean\"].apply(cleaning_review)"
   ]
  },
  {
   "cell_type": "code",
   "execution_count": null,
   "metadata": {},
   "outputs": [],
   "source": []
  },
  {
   "cell_type": "code",
   "execution_count": null,
   "metadata": {},
   "outputs": [],
   "source": []
  },
  {
   "cell_type": "code",
   "execution_count": null,
   "metadata": {},
   "outputs": [],
   "source": []
  },
  {
   "cell_type": "code",
   "execution_count": null,
   "metadata": {},
   "outputs": [],
   "source": []
  },
  {
   "cell_type": "code",
   "execution_count": 10,
   "metadata": {},
   "outputs": [],
   "source": [
    "\n",
    "df=df.reset_index()\n"
   ]
  },
  {
   "cell_type": "code",
   "execution_count": null,
   "metadata": {},
   "outputs": [],
   "source": []
  },
  {
   "cell_type": "code",
   "execution_count": 11,
   "metadata": {},
   "outputs": [],
   "source": [
    "from sklearn.feature_extraction.text import TfidfVectorizer\n",
    "v = TfidfVectorizer(min_df=5)\n",
    "x = v.fit_transform(df['review_clean']).toarray()"
   ]
  },
  {
   "cell_type": "code",
   "execution_count": null,
   "metadata": {},
   "outputs": [],
   "source": []
  },
  {
   "cell_type": "code",
   "execution_count": null,
   "metadata": {},
   "outputs": [],
   "source": []
  },
  {
   "cell_type": "code",
   "execution_count": null,
   "metadata": {},
   "outputs": [],
   "source": []
  },
  {
   "cell_type": "code",
   "execution_count": 12,
   "metadata": {},
   "outputs": [],
   "source": [
    "df_tfidf = pd.DataFrame(x, columns=v.get_feature_names())"
   ]
  },
  {
   "cell_type": "code",
   "execution_count": null,
   "metadata": {},
   "outputs": [],
   "source": []
  },
  {
   "cell_type": "code",
   "execution_count": 13,
   "metadata": {},
   "outputs": [],
   "source": [
    "X_train, X_test, y_train, y_test = train_test_split(df_tfidf, df[\"overall\"], test_size=0.15, random_state=42)"
   ]
  },
  {
   "cell_type": "code",
   "execution_count": null,
   "metadata": {},
   "outputs": [],
   "source": []
  },
  {
   "cell_type": "code",
   "execution_count": 14,
   "metadata": {},
   "outputs": [
    {
     "data": {
      "text/plain": [
       "(50980, 8997)"
      ]
     },
     "execution_count": 14,
     "metadata": {},
     "output_type": "execute_result"
    }
   ],
   "source": [
    "len(y_train),len(y_test)"
   ]
  },
  {
   "cell_type": "code",
   "execution_count": 15,
   "metadata": {},
   "outputs": [
    {
     "data": {
      "text/plain": [
       "22539"
      ]
     },
     "execution_count": 15,
     "metadata": {},
     "output_type": "execute_result"
    }
   ],
   "source": [
    "len(df_tfidf.columns)"
   ]
  },
  {
   "cell_type": "code",
   "execution_count": null,
   "metadata": {},
   "outputs": [],
   "source": []
  },
  {
   "cell_type": "code",
   "execution_count": null,
   "metadata": {},
   "outputs": [],
   "source": []
  },
  {
   "cell_type": "code",
   "execution_count": 16,
   "metadata": {},
   "outputs": [
    {
     "name": "stderr",
     "output_type": "stream",
     "text": [
      "/home/ordovas/anaconda3/envs/ironhack/lib/python3.8/site-packages/sklearn/linear_model/_logistic.py:762: ConvergenceWarning: lbfgs failed to converge (status=1):\n",
      "STOP: TOTAL NO. of ITERATIONS REACHED LIMIT.\n",
      "\n",
      "Increase the number of iterations (max_iter) or scale the data as shown in:\n",
      "    https://scikit-learn.org/stable/modules/preprocessing.html\n",
      "Please also refer to the documentation for alternative solver options:\n",
      "    https://scikit-learn.org/stable/modules/linear_model.html#logistic-regression\n",
      "  n_iter_i = _check_optimize_result(\n"
     ]
    }
   ],
   "source": [
    "clf = LogisticRegression(random_state=0,class_weight=\"balanced\").fit(X_train, y_train)\n"
   ]
  },
  {
   "cell_type": "code",
   "execution_count": 17,
   "metadata": {},
   "outputs": [],
   "source": [
    "y_pred=clf.predict(X_train)"
   ]
  },
  {
   "cell_type": "code",
   "execution_count": null,
   "metadata": {},
   "outputs": [],
   "source": []
  },
  {
   "cell_type": "code",
   "execution_count": null,
   "metadata": {},
   "outputs": [],
   "source": []
  },
  {
   "cell_type": "code",
   "execution_count": 18,
   "metadata": {},
   "outputs": [
    {
     "data": {
      "image/png": "[encoded data removed]",
      "text/plain": [
       "<Figure size 432x288 with 1 Axes>"
      ]
     },
     "metadata": {
      "needs_background": "light"
     },
     "output_type": "display_data"
    }
   ],
   "source": [
    "counts, bins = np.histogram(y_train-clf.predict(X_train),bins=np.arange(-4,5))\n",
    "plt.plot(bins[:-1],counts*100/sum(counts),label=\"Train data\")\n",
    "plt.grid()\n",
    "counts, bins = np.histogram(y_test-clf.predict(X_test),bins=np.arange(-4,5))\n",
    "plt.plot(bins[:-1],counts*100/sum(counts),label=\"Test data\")\n",
    "plt.legend();"
   ]
  },
  {
   "cell_type": "code",
   "execution_count": null,
   "metadata": {},
   "outputs": [],
   "source": []
  },
  {
   "cell_type": "code",
   "execution_count": 19,
   "metadata": {},
   "outputs": [
    {
     "data": {
      "text/plain": [
       "0.7038054138877992"
      ]
     },
     "execution_count": 19,
     "metadata": {},
     "output_type": "execute_result"
    }
   ],
   "source": [
    "clf.score(X_train, y_train)"
   ]
  },
  {
   "cell_type": "code",
   "execution_count": 20,
   "metadata": {},
   "outputs": [
    {
     "data": {
      "text/plain": [
       "0.5856396576636657"
      ]
     },
     "execution_count": 20,
     "metadata": {},
     "output_type": "execute_result"
    }
   ],
   "source": [
    "clf.score(X_test, y_test)"
   ]
  },
  {
   "cell_type": "code",
   "execution_count": null,
   "metadata": {},
   "outputs": [],
   "source": []
  },
  {
   "cell_type": "code",
   "execution_count": 21,
   "metadata": {},
   "outputs": [
    {
     "data": {
      "text/plain": [
       "array([[ 1668,    58,    22,    15,    31],\n",
       "       [   78,  1878,    70,    36,    36],\n",
       "       [  207,   328,  3259,   440,   354],\n",
       "       [  291,   438,  1332,  6239,  2113],\n",
       "       [  873,   788,  1787,  5803, 22836]])"
      ]
     },
     "execution_count": 21,
     "metadata": {},
     "output_type": "execute_result"
    }
   ],
   "source": [
    "confusion_matrix(y_train,clf.predict(X_train))"
   ]
  },
  {
   "cell_type": "code",
   "execution_count": 22,
   "metadata": {},
   "outputs": [
    {
     "data": {
      "text/plain": [
       "array([[ 167,   76,   38,   26,   23],\n",
       "       [  80,  112,   71,   27,   27],\n",
       "       [  75,  134,  262,  180,  101],\n",
       "       [  66,   90,  318,  775,  560],\n",
       "       [ 171,  160,  322, 1183, 3953]])"
      ]
     },
     "execution_count": 22,
     "metadata": {},
     "output_type": "execute_result"
    }
   ],
   "source": [
    "confusion_matrix(y_test,clf.predict(X_test))"
   ]
  },
  {
   "cell_type": "code",
   "execution_count": 23,
   "metadata": {},
   "outputs": [
    {
     "data": {
      "text/plain": [
       "{'C': 1.0,\n",
       " 'class_weight': 'balanced',\n",
       " 'dual': False,\n",
       " 'fit_intercept': True,\n",
       " 'intercept_scaling': 1,\n",
       " 'l1_ratio': None,\n",
       " 'max_iter': 100,\n",
       " 'multi_class': 'auto',\n",
       " 'n_jobs': None,\n",
       " 'penalty': 'l2',\n",
       " 'random_state': 0,\n",
       " 'solver': 'lbfgs',\n",
       " 'tol': 0.0001,\n",
       " 'verbose': 0,\n",
       " 'warm_start': False}"
      ]
     },
     "execution_count": 23,
     "metadata": {},
     "output_type": "execute_result"
    }
   ],
   "source": [
    "clf.get_params()"
   ]
  },
  {
   "cell_type": "code",
   "execution_count": null,
   "metadata": {},
   "outputs": [],
   "source": []
  },
  {
   "cell_type": "code",
   "execution_count": 24,
   "metadata": {},
   "outputs": [
    {
     "data": {
      "image/png": "[encoded data removed]",
      "text/plain": [
       "<Figure size 432x288 with 2 Axes>"
      ]
     },
     "metadata": {
      "needs_background": "light"
     },
     "output_type": "display_data"
    },
    {
     "data": {
      "image/png": "[encoded data removed]",
      "text/plain": [
       "<Figure size 432x288 with 2 Axes>"
      ]
     },
     "metadata": {
      "needs_background": "light"
     },
     "output_type": "display_data"
    }
   ],
   "source": [
    "plot_confusion_matrix(clf, X_train, y_train,cmap=\"viridis\",normalize=\"true\") \n",
    "plot_confusion_matrix(clf, X_test, y_test,cmap=\"viridis\",normalize=\"true\")\n",
    "plt.show();"
   ]
  },
  {
   "cell_type": "code",
   "execution_count": null,
   "metadata": {},
   "outputs": [],
   "source": []
  },
  {
   "cell_type": "code",
   "execution_count": 25,
   "metadata": {},
   "outputs": [],
   "source": [
    "model=pd.DataFrame(clf.coef_,columns=X_train.columns)\n",
    "model=model.T\n",
    "model.columns=[\"1\",\"2\",\"3\",\"4\",\"5\"]"
   ]
  },
  {
   "cell_type": "code",
   "execution_count": 26,
   "metadata": {},
   "outputs": [
    {
     "data": {
      "text/plain": [
       "highly         4.484097\n",
       "excellent      4.045599\n",
       "great          3.890946\n",
       "wonderful      3.780433\n",
       "amazing        3.629508\n",
       "love           3.490875\n",
       "perfect        3.456370\n",
       "fantastic      3.309573\n",
       "loved          3.117156\n",
       "awesome        3.047435\n",
       "beautiful      2.958332\n",
       "brilliant      2.842893\n",
       "thank          2.798243\n",
       "beautifully    2.702918\n",
       "loves          2.561907\n",
       "wait           2.557949\n",
       "incredible     2.415949\n",
       "keeps          2.332581\n",
       "wonderfully    2.314362\n",
       "masterpiece    2.294892\n",
       "Name: 5, dtype: float64"
      ]
     },
     "execution_count": 26,
     "metadata": {},
     "output_type": "execute_result"
    }
   ],
   "source": [
    "model[\"5\"].sort_values(ascending=False).head(20)"
   ]
  },
  {
   "cell_type": "code",
   "execution_count": 27,
   "metadata": {},
   "outputs": [
    {
     "data": {
      "text/plain": [
       "waste         6.505779\n",
       "worst         4.742713\n",
       "terrible      4.582867\n",
       "awful         4.055568\n",
       "trash         3.779797\n",
       "money         3.661456\n",
       "boring        3.632212\n",
       "horrible      3.625463\n",
       "even          3.512811\n",
       "wasted        3.429691\n",
       "bother        3.323911\n",
       "garbage       3.320470\n",
       "rubbish       3.314021\n",
       "stupid        3.304465\n",
       "ridiculous    3.282121\n",
       "terribly      3.251973\n",
       "refund        3.171680\n",
       "poorly        3.124993\n",
       "lame          3.123927\n",
       "returned      3.079353\n",
       "Name: 1, dtype: float64"
      ]
     },
     "execution_count": 27,
     "metadata": {},
     "output_type": "execute_result"
    }
   ],
   "source": [
    "model[\"1\"].sort_values(ascending=False).head(20)"
   ]
  },
  {
   "cell_type": "code",
   "execution_count": 28,
   "metadata": {
    "scrolled": true
   },
   "outputs": [
    {
     "data": {
      "text/plain": [
       "okay             3.527615\n",
       "however          2.963216\n",
       "mediocre         2.787796\n",
       "seemed           2.475055\n",
       "still            2.421945\n",
       "somewhat         2.419723\n",
       "lacking          2.240698\n",
       "alright          2.233896\n",
       "felt             2.220561\n",
       "though           2.219002\n",
       "average          2.123789\n",
       "unfortunately    2.099501\n",
       "result           2.076707\n",
       "kinda            2.048846\n",
       "similar          2.046262\n",
       "standards        2.033071\n",
       "kind             2.029766\n",
       "tends            1.941339\n",
       "teens            1.919732\n",
       "decent           1.919678\n",
       "Name: 3, dtype: float64"
      ]
     },
     "execution_count": 28,
     "metadata": {},
     "output_type": "execute_result"
    }
   ],
   "source": [
    "model[\"3\"].sort_values(ascending=False).head(20)"
   ]
  },
  {
   "cell_type": "code",
   "execution_count": null,
   "metadata": {},
   "outputs": [],
   "source": []
  },
  {
   "cell_type": "code",
   "execution_count": null,
   "metadata": {},
   "outputs": [],
   "source": []
  },
  {
   "cell_type": "code",
   "execution_count": 29,
   "metadata": {},
   "outputs": [
    {
     "data": {
      "text/plain": [
       "disappointing    -4.194741\n",
       "boring           -4.172399\n",
       "instead          -3.525276\n",
       "however          -3.418187\n",
       "unfortunately    -3.312846\n",
       "worst            -3.255500\n",
       "slow             -3.237849\n",
       "tedious          -3.198042\n",
       "depressing       -3.123319\n",
       "waste            -3.081229\n",
       "seemed           -3.050590\n",
       "okay             -2.819607\n",
       "predictable      -2.785566\n",
       "problem          -2.763692\n",
       "disappointment   -2.718056\n",
       "seems            -2.687579\n",
       "ridiculous       -2.682807\n",
       "maybe            -2.554073\n",
       "annoying         -2.521151\n",
       "nothing          -2.495095\n",
       "Name: 5, dtype: float64"
      ]
     },
     "execution_count": 29,
     "metadata": {},
     "output_type": "execute_result"
    }
   ],
   "source": [
    "model[\"5\"].sort_values(ascending=True).head(20)"
   ]
  },
  {
   "cell_type": "code",
   "execution_count": 30,
   "metadata": {},
   "outputs": [
    {
     "data": {
      "text/plain": [
       "excellent     -3.965991\n",
       "great         -3.885040\n",
       "well          -3.488946\n",
       "stars         -3.384476\n",
       "best          -3.384062\n",
       "though        -3.343120\n",
       "fascinating   -3.322394\n",
       "enjoyed       -3.147007\n",
       "usual         -3.103360\n",
       "perfect       -3.100816\n",
       "easy          -3.060450\n",
       "turner        -2.951096\n",
       "fairly        -2.826704\n",
       "almost        -2.684947\n",
       "eyes          -2.654855\n",
       "rachel        -2.654685\n",
       "amazing       -2.620896\n",
       "interesting   -2.578624\n",
       "love          -2.555968\n",
       "highly        -2.534511\n",
       "Name: 1, dtype: float64"
      ]
     },
     "execution_count": 30,
     "metadata": {},
     "output_type": "execute_result"
    }
   ],
   "source": [
    "model[\"1\"].sort_values(ascending=True).head(20)"
   ]
  },
  {
   "cell_type": "code",
   "execution_count": 31,
   "metadata": {},
   "outputs": [
    {
     "data": {
      "text/plain": [
       "even         -3.278575\n",
       "wasted       -2.345926\n",
       "highly       -2.131530\n",
       "wonderful    -2.054196\n",
       "absolutely   -1.980176\n",
       "adventure    -1.923176\n",
       "recommend    -1.922932\n",
       "large        -1.914421\n",
       "complaint    -1.907569\n",
       "ever         -1.899230\n",
       "wait         -1.888203\n",
       "amazon       -1.834478\n",
       "loving       -1.820636\n",
       "deeply       -1.813664\n",
       "brings       -1.810703\n",
       "important    -1.753685\n",
       "children     -1.750991\n",
       "extra        -1.737914\n",
       "quit         -1.734294\n",
       "couldn       -1.660330\n",
       "Name: 3, dtype: float64"
      ]
     },
     "execution_count": 31,
     "metadata": {},
     "output_type": "execute_result"
    }
   ],
   "source": [
    "model[\"3\"].sort_values(ascending=True).head(20)"
   ]
  },
  {
   "cell_type": "code",
   "execution_count": null,
   "metadata": {},
   "outputs": [],
   "source": []
  }
 ],
 "metadata": {
  "kernelspec": {
   "display_name": "Python 3",
   "language": "python",
   "name": "python3"
  },
  "language_info": {
   "codemirror_mode": {
    "name": "ipython",
    "version": 3
   },
   "file_extension": ".py",
   "mimetype": "text/x-python",
   "name": "python",
   "nbconvert_exporter": "python",
   "pygments_lexer": "ipython3",
   "version": "3.8.3"
  }
 },
 "nbformat": 4,
 "nbformat_minor": 4
}
