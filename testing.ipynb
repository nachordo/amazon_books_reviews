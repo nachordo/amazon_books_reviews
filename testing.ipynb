{
 "cells": [
  {
   "cell_type": "markdown",
   "metadata": {},
   "source": [
    "# Testing\n",
    "\n"
   ]
  },
  {
   "cell_type": "code",
   "execution_count": 1,
   "metadata": {},
   "outputs": [],
   "source": [
    "import pandas as pd\n",
    "import numpy as np\n",
    "import math\n",
    "from bson import ObjectId\n",
    "from pymongo import MongoClient\n",
    "\n",
    "\n",
    "import re\n",
    "import os\n",
    "\n",
    "import json\n",
    "\n",
    "client = MongoClient()\n"
   ]
  },
  {
   "cell_type": "code",
   "execution_count": 2,
   "metadata": {},
   "outputs": [
    {
     "name": "stderr",
     "output_type": "stream",
     "text": [
      "[nltk_data] Downloading package stopwords to\n",
      "[nltk_data]     /home/ordovas/nltk_data...\n",
      "[nltk_data]   Package stopwords is already up-to-date!\n"
     ]
    },
    {
     "data": {
      "text/plain": [
       "True"
      ]
     },
     "execution_count": 2,
     "metadata": {},
     "output_type": "execute_result"
    }
   ],
   "source": [
    "import nltk\n",
    "from nltk.corpus import stopwords\n",
    "nltk.download(\"stopwords\")"
   ]
  },
  {
   "cell_type": "markdown",
   "metadata": {},
   "source": [
    "Now we load the dataset and examine how it is loaded."
   ]
  },
  {
   "cell_type": "code",
   "execution_count": 3,
   "metadata": {},
   "outputs": [],
   "source": [
    "db = client.get_database(\"amazon\")\n",
    "# Define an alias for the books dataset\n",
    "books =db.books\n",
    "# Obtain a random sample from the dataset\n",
    "res = list(books.aggregate([\n",
    "    { \"$sample\": { \"size\": 50000 } }\n",
    "]))\n",
    "# Converting to pandas DataFrame\n",
    "df=pd.DataFrame(res)"
   ]
  },
  {
   "cell_type": "code",
   "execution_count": 4,
   "metadata": {},
   "outputs": [
    {
     "data": {
      "text/html": [
       "<div>\n",
       "<style scoped>\n",
       "    .dataframe tbody tr th:only-of-type {\n",
       "        vertical-align: middle;\n",
       "    }\n",
       "\n",
       "    .dataframe tbody tr th {\n",
       "        vertical-align: top;\n",
       "    }\n",
       "\n",
       "    .dataframe thead th {\n",
       "        text-align: right;\n",
       "    }\n",
       "</style>\n",
       "<table border=\"1\" class=\"dataframe\">\n",
       "  <thead>\n",
       "    <tr style=\"text-align: right;\">\n",
       "      <th></th>\n",
       "      <th>_id</th>\n",
       "      <th>overall</th>\n",
       "      <th>verified</th>\n",
       "      <th>reviewTime</th>\n",
       "      <th>reviewerID</th>\n",
       "      <th>asin</th>\n",
       "      <th>style</th>\n",
       "      <th>reviewerName</th>\n",
       "      <th>reviewText</th>\n",
       "      <th>summary</th>\n",
       "      <th>unixReviewTime</th>\n",
       "      <th>vote</th>\n",
       "      <th>image</th>\n",
       "    </tr>\n",
       "  </thead>\n",
       "  <tbody>\n",
       "    <tr>\n",
       "      <th>0</th>\n",
       "      <td>6033ab81f7ccad4a92f4a665</td>\n",
       "      <td>5</td>\n",
       "      <td>True</td>\n",
       "      <td>09 18, 2017</td>\n",
       "      <td>A27RFSUXGQSCC2</td>\n",
       "      <td>0007281447</td>\n",
       "      <td>{'Format:': ' Kindle Edition'}</td>\n",
       "      <td>Timo O. Korhonen</td>\n",
       "      <td>This book was recommended by a friend and I wa...</td>\n",
       "      <td>This book was recommended by a friend and I wa...</td>\n",
       "      <td>1505692800</td>\n",
       "      <td>NaN</td>\n",
       "      <td>NaN</td>\n",
       "    </tr>\n",
       "    <tr>\n",
       "      <th>1</th>\n",
       "      <td>6033ab8ef7ccad4a92f7661a</td>\n",
       "      <td>4</td>\n",
       "      <td>True</td>\n",
       "      <td>02 2, 2017</td>\n",
       "      <td>AGSPSGR4GBYPE</td>\n",
       "      <td>0008135290</td>\n",
       "      <td>{'Format:': ' Kindle Edition'}</td>\n",
       "      <td>Avid reader</td>\n",
       "      <td>Not deep, but an interesting read.</td>\n",
       "      <td>Four Stars</td>\n",
       "      <td>1485993600</td>\n",
       "      <td>NaN</td>\n",
       "      <td>NaN</td>\n",
       "    </tr>\n",
       "    <tr>\n",
       "      <th>2</th>\n",
       "      <td>6033ab8ff7ccad4a92f77dca</td>\n",
       "      <td>2</td>\n",
       "      <td>False</td>\n",
       "      <td>11 14, 2017</td>\n",
       "      <td>A11EK89AX9LSC</td>\n",
       "      <td>0008126836</td>\n",
       "      <td>{'Format:': ' Paperback'}</td>\n",
       "      <td>brian jones</td>\n",
       "      <td>In The Heart Of the Sea is a nonfiction novel ...</td>\n",
       "      <td>Disappointing</td>\n",
       "      <td>1510617600</td>\n",
       "      <td>NaN</td>\n",
       "      <td>NaN</td>\n",
       "    </tr>\n",
       "    <tr>\n",
       "      <th>3</th>\n",
       "      <td>6033ab93f7ccad4a92f83f69</td>\n",
       "      <td>5</td>\n",
       "      <td>True</td>\n",
       "      <td>01 3, 2018</td>\n",
       "      <td>APRVP6TWRKFB</td>\n",
       "      <td>0026203103</td>\n",
       "      <td>{'Format:': ' Kindle Edition'}</td>\n",
       "      <td>David K. Webb</td>\n",
       "      <td>The Guns of August was -- and still is -- a ve...</td>\n",
       "      <td>Tuchman's laurels for this work were well earned</td>\n",
       "      <td>1514937600</td>\n",
       "      <td>4</td>\n",
       "      <td>NaN</td>\n",
       "    </tr>\n",
       "    <tr>\n",
       "      <th>4</th>\n",
       "      <td>6033ab77f7ccad4a92f28fb3</td>\n",
       "      <td>2</td>\n",
       "      <td>True</td>\n",
       "      <td>03 25, 2013</td>\n",
       "      <td>A2CKM1Z8T6YAQG</td>\n",
       "      <td>0006513077</td>\n",
       "      <td>{'Format:': ' Mass Market Paperback'}</td>\n",
       "      <td>Kat West</td>\n",
       "      <td>I have enjoyed every Tess Garritsen book that ...</td>\n",
       "      <td>Dismiss me as a cozy lover, but......</td>\n",
       "      <td>1364169600</td>\n",
       "      <td>NaN</td>\n",
       "      <td>NaN</td>\n",
       "    </tr>\n",
       "  </tbody>\n",
       "</table>\n",
       "</div>"
      ],
      "text/plain": [
       "                        _id  overall  verified   reviewTime      reviewerID  \\\n",
       "0  6033ab81f7ccad4a92f4a665        5      True  09 18, 2017  A27RFSUXGQSCC2   \n",
       "1  6033ab8ef7ccad4a92f7661a        4      True   02 2, 2017   AGSPSGR4GBYPE   \n",
       "2  6033ab8ff7ccad4a92f77dca        2     False  11 14, 2017   A11EK89AX9LSC   \n",
       "3  6033ab93f7ccad4a92f83f69        5      True   01 3, 2018    APRVP6TWRKFB   \n",
       "4  6033ab77f7ccad4a92f28fb3        2      True  03 25, 2013  A2CKM1Z8T6YAQG   \n",
       "\n",
       "         asin                                  style      reviewerName  \\\n",
       "0  0007281447         {'Format:': ' Kindle Edition'}  Timo O. Korhonen   \n",
       "1  0008135290         {'Format:': ' Kindle Edition'}       Avid reader   \n",
       "2  0008126836              {'Format:': ' Paperback'}       brian jones   \n",
       "3  0026203103         {'Format:': ' Kindle Edition'}     David K. Webb   \n",
       "4  0006513077  {'Format:': ' Mass Market Paperback'}          Kat West   \n",
       "\n",
       "                                          reviewText  \\\n",
       "0  This book was recommended by a friend and I wa...   \n",
       "1                 Not deep, but an interesting read.   \n",
       "2  In The Heart Of the Sea is a nonfiction novel ...   \n",
       "3  The Guns of August was -- and still is -- a ve...   \n",
       "4  I have enjoyed every Tess Garritsen book that ...   \n",
       "\n",
       "                                             summary  unixReviewTime vote  \\\n",
       "0  This book was recommended by a friend and I wa...      1505692800  NaN   \n",
       "1                                         Four Stars      1485993600  NaN   \n",
       "2                                      Disappointing      1510617600  NaN   \n",
       "3   Tuchman's laurels for this work were well earned      1514937600    4   \n",
       "4              Dismiss me as a cozy lover, but......      1364169600  NaN   \n",
       "\n",
       "  image  \n",
       "0   NaN  \n",
       "1   NaN  \n",
       "2   NaN  \n",
       "3   NaN  \n",
       "4   NaN  "
      ]
     },
     "execution_count": 4,
     "metadata": {},
     "output_type": "execute_result"
    }
   ],
   "source": [
    "df.head()"
   ]
  },
  {
   "cell_type": "code",
   "execution_count": 5,
   "metadata": {},
   "outputs": [
    {
     "name": "stdout",
     "output_type": "stream",
     "text": [
      "<class 'pandas.core.frame.DataFrame'>\n",
      "RangeIndex: 50000 entries, 0 to 49999\n",
      "Data columns (total 13 columns):\n",
      " #   Column          Non-Null Count  Dtype \n",
      "---  ------          --------------  ----- \n",
      " 0   _id             50000 non-null  object\n",
      " 1   overall         50000 non-null  int64 \n",
      " 2   verified        50000 non-null  bool  \n",
      " 3   reviewTime      50000 non-null  object\n",
      " 4   reviewerID      50000 non-null  object\n",
      " 5   asin            50000 non-null  object\n",
      " 6   style           47699 non-null  object\n",
      " 7   reviewerName    49998 non-null  object\n",
      " 8   reviewText      49995 non-null  object\n",
      " 9   summary         49996 non-null  object\n",
      " 10  unixReviewTime  50000 non-null  int64 \n",
      " 11  vote            9275 non-null   object\n",
      " 12  image           72 non-null     object\n",
      "dtypes: bool(1), int64(2), object(10)\n",
      "memory usage: 4.6+ MB\n"
     ]
    }
   ],
   "source": [
    "df.info()"
   ]
  },
  {
   "cell_type": "code",
   "execution_count": 6,
   "metadata": {},
   "outputs": [],
   "source": [
    "df=df.dropna(subset=['reviewText', 'reviewerName',\"summary\"])"
   ]
  },
  {
   "cell_type": "code",
   "execution_count": null,
   "metadata": {},
   "outputs": [],
   "source": []
  },
  {
   "cell_type": "code",
   "execution_count": 7,
   "metadata": {},
   "outputs": [
    {
     "name": "stdout",
     "output_type": "stream",
     "text": [
      "<class 'pandas.core.frame.DataFrame'>\n",
      "Int64Index: 49989 entries, 0 to 49999\n",
      "Data columns (total 13 columns):\n",
      " #   Column          Non-Null Count  Dtype \n",
      "---  ------          --------------  ----- \n",
      " 0   _id             49989 non-null  object\n",
      " 1   overall         49989 non-null  int64 \n",
      " 2   verified        49989 non-null  bool  \n",
      " 3   reviewTime      49989 non-null  object\n",
      " 4   reviewerID      49989 non-null  object\n",
      " 5   asin            49989 non-null  object\n",
      " 6   style           47688 non-null  object\n",
      " 7   reviewerName    49989 non-null  object\n",
      " 8   reviewText      49989 non-null  object\n",
      " 9   summary         49989 non-null  object\n",
      " 10  unixReviewTime  49989 non-null  int64 \n",
      " 11  vote            9274 non-null   object\n",
      " 12  image           71 non-null     object\n",
      "dtypes: bool(1), int64(2), object(10)\n",
      "memory usage: 5.0+ MB\n"
     ]
    }
   ],
   "source": [
    "df.info()"
   ]
  },
  {
   "cell_type": "code",
   "execution_count": 8,
   "metadata": {},
   "outputs": [],
   "source": [
    "df[\"vote\"]=df[\"vote\"].fillna(value=0)\n",
    "df[\"vote\"]=df[\"vote\"].apply(lambda x: int(str(x).replace(\",\",\"\")))\n"
   ]
  },
  {
   "cell_type": "code",
   "execution_count": 9,
   "metadata": {},
   "outputs": [
    {
     "data": {
      "text/plain": [
       "(9274, 40715)"
      ]
     },
     "execution_count": 9,
     "metadata": {},
     "output_type": "execute_result"
    }
   ],
   "source": [
    "len(df[df[\"vote\"]>1][\"vote\"]),len(df[df[\"vote\"]<1][\"vote\"])"
   ]
  },
  {
   "cell_type": "code",
   "execution_count": 10,
   "metadata": {},
   "outputs": [],
   "source": [
    "def cleaning_review(texts):\n",
    "    #Remove numbers, punctuation and lowercase everything\n",
    "    res=re.sub(\"[^A-Za-z]+\", \" \", texts.lower()) \n",
    "    #Remove words with less than 4 letters\n",
    "    res=re.sub(r'\\b\\w{1,3}\\b', \"\", res) \n",
    "    #Remove rest of stop words\n",
    "    for stopword in stopwords.words('english'): \n",
    "        sw=stopword.replace(\"'\",\"\")\n",
    "        res=res.replace(f\" {sw} \",\" \")\n",
    "    return res\n",
    "\n",
    "df[\"review_clean\"]=df[\"reviewText\"]\n",
    "df[\"review_clean\"]=df[\"review_clean\"].apply(cleaning_review)"
   ]
  },
  {
   "cell_type": "code",
   "execution_count": null,
   "metadata": {},
   "outputs": [],
   "source": []
  },
  {
   "cell_type": "code",
   "execution_count": null,
   "metadata": {},
   "outputs": [],
   "source": []
  },
  {
   "cell_type": "code",
   "execution_count": null,
   "metadata": {},
   "outputs": [],
   "source": []
  },
  {
   "cell_type": "code",
   "execution_count": 11,
   "metadata": {},
   "outputs": [],
   "source": [
    "from sklearn.model_selection import train_test_split"
   ]
  },
  {
   "cell_type": "code",
   "execution_count": 12,
   "metadata": {},
   "outputs": [],
   "source": [
    "#dff=df.sample(frac=0.1, replace=True, random_state=1)\n",
    "df=df.reset_index()\n"
   ]
  },
  {
   "cell_type": "code",
   "execution_count": null,
   "metadata": {},
   "outputs": [],
   "source": []
  },
  {
   "cell_type": "code",
   "execution_count": 13,
   "metadata": {},
   "outputs": [],
   "source": [
    "from sklearn.feature_extraction.text import TfidfVectorizer\n",
    "v = TfidfVectorizer(min_df=5)\n",
    "x = v.fit_transform(df['review_clean']).toarray()"
   ]
  },
  {
   "cell_type": "code",
   "execution_count": null,
   "metadata": {},
   "outputs": [],
   "source": []
  },
  {
   "cell_type": "code",
   "execution_count": null,
   "metadata": {},
   "outputs": [],
   "source": []
  },
  {
   "cell_type": "code",
   "execution_count": null,
   "metadata": {},
   "outputs": [],
   "source": []
  },
  {
   "cell_type": "code",
   "execution_count": 14,
   "metadata": {},
   "outputs": [],
   "source": [
    "df_tfidf = pd.DataFrame(x, columns=v.get_feature_names())"
   ]
  },
  {
   "cell_type": "code",
   "execution_count": null,
   "metadata": {},
   "outputs": [],
   "source": []
  },
  {
   "cell_type": "code",
   "execution_count": 15,
   "metadata": {},
   "outputs": [],
   "source": [
    "X_train, X_test, y_train, y_test = train_test_split(df_tfidf, df[\"overall\"], test_size=0.15, random_state=42)"
   ]
  },
  {
   "cell_type": "code",
   "execution_count": null,
   "metadata": {},
   "outputs": [],
   "source": []
  },
  {
   "cell_type": "code",
   "execution_count": 16,
   "metadata": {},
   "outputs": [
    {
     "data": {
      "text/plain": [
       "(42490, 7499)"
      ]
     },
     "execution_count": 16,
     "metadata": {},
     "output_type": "execute_result"
    }
   ],
   "source": [
    "len(y_train),len(y_test)"
   ]
  },
  {
   "cell_type": "code",
   "execution_count": 17,
   "metadata": {},
   "outputs": [
    {
     "data": {
      "text/plain": [
       "20702"
      ]
     },
     "execution_count": 17,
     "metadata": {},
     "output_type": "execute_result"
    }
   ],
   "source": [
    "len(df_tfidf.columns)"
   ]
  },
  {
   "cell_type": "code",
   "execution_count": null,
   "metadata": {},
   "outputs": [],
   "source": []
  },
  {
   "cell_type": "code",
   "execution_count": 18,
   "metadata": {},
   "outputs": [],
   "source": [
    "from sklearn.linear_model import LogisticRegression"
   ]
  },
  {
   "cell_type": "code",
   "execution_count": 19,
   "metadata": {},
   "outputs": [
    {
     "name": "stderr",
     "output_type": "stream",
     "text": [
      "/home/ordovas/anaconda3/envs/ironhack/lib/python3.8/site-packages/sklearn/linear_model/_logistic.py:762: ConvergenceWarning: lbfgs failed to converge (status=1):\n",
      "STOP: TOTAL NO. of ITERATIONS REACHED LIMIT.\n",
      "\n",
      "Increase the number of iterations (max_iter) or scale the data as shown in:\n",
      "    https://scikit-learn.org/stable/modules/preprocessing.html\n",
      "Please also refer to the documentation for alternative solver options:\n",
      "    https://scikit-learn.org/stable/modules/linear_model.html#logistic-regression\n",
      "  n_iter_i = _check_optimize_result(\n"
     ]
    }
   ],
   "source": [
    "clf = LogisticRegression(random_state=0,class_weight=\"balanced\").fit(X_train, y_train)\n"
   ]
  },
  {
   "cell_type": "code",
   "execution_count": 20,
   "metadata": {},
   "outputs": [],
   "source": [
    "y_pred=clf.predict(X_train)"
   ]
  },
  {
   "cell_type": "code",
   "execution_count": 21,
   "metadata": {},
   "outputs": [],
   "source": [
    "import matplotlib.pyplot as plt"
   ]
  },
  {
   "cell_type": "code",
   "execution_count": null,
   "metadata": {},
   "outputs": [],
   "source": []
  },
  {
   "cell_type": "code",
   "execution_count": 22,
   "metadata": {},
   "outputs": [
    {
     "data": {
      "image/png": "[encoded data removed]",
      "text/plain": [
       "<Figure size 432x288 with 1 Axes>"
      ]
     },
     "metadata": {
      "needs_background": "light"
     },
     "output_type": "display_data"
    }
   ],
   "source": [
    "#plt.hist(y_train-clf.predict(X_train),bins=np.arange(-4,5),align=\"left\",weights=counts);\n",
    "counts, bins = np.histogram(y_train-clf.predict(X_train),bins=np.arange(-4,5))\n",
    "plt.plot(bins[:-1],counts*100/sum(counts),label=\"Train data\")\n",
    "plt.grid()\n",
    "counts, bins = np.histogram(y_test-clf.predict(X_test),bins=np.arange(-4,5))\n",
    "plt.plot(bins[:-1],counts*100/sum(counts),label=\"Test data\")\n",
    "plt.legend();"
   ]
  },
  {
   "cell_type": "code",
   "execution_count": null,
   "metadata": {},
   "outputs": [],
   "source": []
  },
  {
   "cell_type": "code",
   "execution_count": 23,
   "metadata": {},
   "outputs": [
    {
     "data": {
      "text/plain": [
       "0.7116968698517299"
      ]
     },
     "execution_count": 23,
     "metadata": {},
     "output_type": "execute_result"
    }
   ],
   "source": [
    "clf.score(X_train, y_train)"
   ]
  },
  {
   "cell_type": "code",
   "execution_count": 24,
   "metadata": {},
   "outputs": [
    {
     "data": {
      "text/plain": [
       "0.574476596879584"
      ]
     },
     "execution_count": 24,
     "metadata": {},
     "output_type": "execute_result"
    }
   ],
   "source": [
    "clf.score(X_test, y_test)"
   ]
  },
  {
   "cell_type": "code",
   "execution_count": 25,
   "metadata": {},
   "outputs": [],
   "source": [
    "from sklearn.metrics import confusion_matrix"
   ]
  },
  {
   "cell_type": "code",
   "execution_count": 26,
   "metadata": {},
   "outputs": [
    {
     "data": {
      "text/plain": [
       "array([[ 1397,    30,    21,     7,    17],\n",
       "       [   61,  1631,    63,    20,    30],\n",
       "       [  210,   306,  2837,   314,   270],\n",
       "       [  262,   367,  1037,  5173,  1753],\n",
       "       [  688,   649,  1526,  4619, 19202]])"
      ]
     },
     "execution_count": 26,
     "metadata": {},
     "output_type": "execute_result"
    }
   ],
   "source": [
    "confusion_matrix(y_train,clf.predict(X_train))"
   ]
  },
  {
   "cell_type": "code",
   "execution_count": 27,
   "metadata": {},
   "outputs": [
    {
     "data": {
      "text/plain": [
       "array([[ 121,   82,   29,   13,   22],\n",
       "       [  58,  105,   81,   31,   23],\n",
       "       [  56,  116,  233,  186,   89],\n",
       "       [  36,   89,  301,  663,  484],\n",
       "       [ 132,  138,  290,  935, 3186]])"
      ]
     },
     "execution_count": 27,
     "metadata": {},
     "output_type": "execute_result"
    }
   ],
   "source": [
    "confusion_matrix(y_test,clf.predict(X_test))"
   ]
  },
  {
   "cell_type": "code",
   "execution_count": 28,
   "metadata": {},
   "outputs": [
    {
     "data": {
      "text/plain": [
       "{'C': 1.0,\n",
       " 'class_weight': 'balanced',\n",
       " 'dual': False,\n",
       " 'fit_intercept': True,\n",
       " 'intercept_scaling': 1,\n",
       " 'l1_ratio': None,\n",
       " 'max_iter': 100,\n",
       " 'multi_class': 'auto',\n",
       " 'n_jobs': None,\n",
       " 'penalty': 'l2',\n",
       " 'random_state': 0,\n",
       " 'solver': 'lbfgs',\n",
       " 'tol': 0.0001,\n",
       " 'verbose': 0,\n",
       " 'warm_start': False}"
      ]
     },
     "execution_count": 28,
     "metadata": {},
     "output_type": "execute_result"
    }
   ],
   "source": [
    "clf.get_params()"
   ]
  },
  {
   "cell_type": "code",
   "execution_count": 29,
   "metadata": {},
   "outputs": [],
   "source": [
    "from sklearn.metrics import plot_confusion_matrix"
   ]
  },
  {
   "cell_type": "code",
   "execution_count": 51,
   "metadata": {},
   "outputs": [
    {
     "data": {
      "image/png": "[encoded data removed]",
      "text/plain": [
       "<Figure size 432x288 with 2 Axes>"
      ]
     },
     "metadata": {
      "needs_background": "light"
     },
     "output_type": "display_data"
    },
    {
     "data": {
      "image/png": "[encoded data removed]",
      "text/plain": [
       "<Figure size 432x288 with 2 Axes>"
      ]
     },
     "metadata": {
      "needs_background": "light"
     },
     "output_type": "display_data"
    }
   ],
   "source": [
    "plot_confusion_matrix(clf, X_train, y_train,cmap=\"viridis\",normalize=\"true\") \n",
    "plot_confusion_matrix(clf, X_test, y_test,cmap=\"viridis\",normalize=\"true\")\n",
    "plt.show();"
   ]
  },
  {
   "cell_type": "code",
   "execution_count": null,
   "metadata": {},
   "outputs": [],
   "source": []
  },
  {
   "cell_type": "code",
   "execution_count": null,
   "metadata": {},
   "outputs": [],
   "source": []
  }
 ],
 "metadata": {
  "kernelspec": {
   "display_name": "Python 3",
   "language": "python",
   "name": "python3"
  },
  "language_info": {
   "codemirror_mode": {
    "name": "ipython",
    "version": 3
   },
   "file_extension": ".py",
   "mimetype": "text/x-python",
   "name": "python",
   "nbconvert_exporter": "python",
   "pygments_lexer": "ipython3",
   "version": "3.8.3"
  }
 },
 "nbformat": 4,
 "nbformat_minor": 4
}
