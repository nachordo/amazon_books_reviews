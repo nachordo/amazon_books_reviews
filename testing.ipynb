{
 "cells": [
  {
   "cell_type": "markdown",
   "metadata": {},
   "source": [
    "# Testing\n",
    "\n"
   ]
  },
  {
   "cell_type": "code",
   "execution_count": 1,
   "metadata": {},
   "outputs": [],
   "source": [
    "import pandas as pd\n",
    "import numpy as np\n",
    "import math\n",
    "from bson import ObjectId\n",
    "from pymongo import MongoClient\n",
    "\n",
    "\n",
    "import re\n",
    "import os\n",
    "\n",
    "import json\n",
    "\n",
    "client = MongoClient()\n"
   ]
  },
  {
   "cell_type": "code",
   "execution_count": 2,
   "metadata": {},
   "outputs": [
    {
     "name": "stderr",
     "output_type": "stream",
     "text": [
      "[nltk_data] Downloading package stopwords to\n",
      "[nltk_data]     /home/ordovas/nltk_data...\n",
      "[nltk_data]   Package stopwords is already up-to-date!\n"
     ]
    },
    {
     "data": {
      "text/plain": [
       "True"
      ]
     },
     "execution_count": 2,
     "metadata": {},
     "output_type": "execute_result"
    }
   ],
   "source": [
    "import nltk\n",
    "from nltk.corpus import stopwords\n",
    "nltk.download(\"stopwords\")"
   ]
  },
  {
   "cell_type": "markdown",
   "metadata": {},
   "source": [
    "Now we load the dataset and examine how it is loaded."
   ]
  },
  {
   "cell_type": "code",
   "execution_count": 3,
   "metadata": {},
   "outputs": [],
   "source": [
    "db = client.get_database(\"amazon\")\n",
    "# Define an alias for the books dataset\n",
    "books =db.books\n",
    "# Obtain a random sample from the dataset\n",
    "res = list(books.aggregate([\n",
    "    { \"$sample\": { \"size\": 50000 } }\n",
    "]))\n",
    "# Converting to pandas DataFrame\n",
    "df=pd.DataFrame(res)"
   ]
  },
  {
   "cell_type": "code",
   "execution_count": 4,
   "metadata": {},
   "outputs": [
    {
     "data": {
      "text/html": [
       "<div>\n",
       "<style scoped>\n",
       "    .dataframe tbody tr th:only-of-type {\n",
       "        vertical-align: middle;\n",
       "    }\n",
       "\n",
       "    .dataframe tbody tr th {\n",
       "        vertical-align: top;\n",
       "    }\n",
       "\n",
       "    .dataframe thead th {\n",
       "        text-align: right;\n",
       "    }\n",
       "</style>\n",
       "<table border=\"1\" class=\"dataframe\">\n",
       "  <thead>\n",
       "    <tr style=\"text-align: right;\">\n",
       "      <th></th>\n",
       "      <th>_id</th>\n",
       "      <th>overall</th>\n",
       "      <th>verified</th>\n",
       "      <th>reviewTime</th>\n",
       "      <th>reviewerID</th>\n",
       "      <th>asin</th>\n",
       "      <th>style</th>\n",
       "      <th>reviewerName</th>\n",
       "      <th>reviewText</th>\n",
       "      <th>summary</th>\n",
       "      <th>unixReviewTime</th>\n",
       "      <th>vote</th>\n",
       "      <th>image</th>\n",
       "    </tr>\n",
       "  </thead>\n",
       "  <tbody>\n",
       "    <tr>\n",
       "      <th>0</th>\n",
       "      <td>6033ab8df7ccad4a92f71753</td>\n",
       "      <td>5</td>\n",
       "      <td>True</td>\n",
       "      <td>08 15, 2016</td>\n",
       "      <td>ADGHSVTS66908</td>\n",
       "      <td>0007546394</td>\n",
       "      <td>{'Format:': ' Kindle Edition'}</td>\n",
       "      <td>Marilyn Huff</td>\n",
       "      <td>Agatha Christie is the queen of crime.</td>\n",
       "      <td>Great read</td>\n",
       "      <td>1471219200</td>\n",
       "      <td>NaN</td>\n",
       "      <td>NaN</td>\n",
       "    </tr>\n",
       "    <tr>\n",
       "      <th>1</th>\n",
       "      <td>6033ab73f7ccad4a92f1cb9a</td>\n",
       "      <td>5</td>\n",
       "      <td>True</td>\n",
       "      <td>03 11, 2015</td>\n",
       "      <td>ARTNPLHDVHYHG</td>\n",
       "      <td>0002171856</td>\n",
       "      <td>{'Format:': ' Paperback'}</td>\n",
       "      <td>ian</td>\n",
       "      <td>A must have, very informative</td>\n",
       "      <td>Great tool to have</td>\n",
       "      <td>1426032000</td>\n",
       "      <td>NaN</td>\n",
       "      <td>NaN</td>\n",
       "    </tr>\n",
       "    <tr>\n",
       "      <th>2</th>\n",
       "      <td>6033ab89f7ccad4a92f62fa4</td>\n",
       "      <td>5</td>\n",
       "      <td>False</td>\n",
       "      <td>12 4, 2013</td>\n",
       "      <td>A33JXFXAAV5018</td>\n",
       "      <td>0007444117</td>\n",
       "      <td>{'Format:': ' Kindle Edition'}</td>\n",
       "      <td>MC</td>\n",
       "      <td>Wow!  I'm usually pretty good at figuring out ...</td>\n",
       "      <td>What a page turner!</td>\n",
       "      <td>1386115200</td>\n",
       "      <td>NaN</td>\n",
       "      <td>NaN</td>\n",
       "    </tr>\n",
       "    <tr>\n",
       "      <th>3</th>\n",
       "      <td>6033ab99f7ccad4a92f963ee</td>\n",
       "      <td>5</td>\n",
       "      <td>True</td>\n",
       "      <td>10 28, 2017</td>\n",
       "      <td>A369K513GP75BB</td>\n",
       "      <td>0060091290</td>\n",
       "      <td>{'Format:': ' Hardcover'}</td>\n",
       "      <td>shopper J</td>\n",
       "      <td>the book was very light and funny</td>\n",
       "      <td>Five Stars</td>\n",
       "      <td>1509148800</td>\n",
       "      <td>NaN</td>\n",
       "      <td>NaN</td>\n",
       "    </tr>\n",
       "    <tr>\n",
       "      <th>4</th>\n",
       "      <td>6033ab7af7ccad4a92f33765</td>\n",
       "      <td>5</td>\n",
       "      <td>True</td>\n",
       "      <td>04 26, 2014</td>\n",
       "      <td>AX5YM0DO4GGP3</td>\n",
       "      <td>0007131925</td>\n",
       "      <td>{'Format:': ' Hardcover'}</td>\n",
       "      <td>Heidi</td>\n",
       "      <td>Great book on health, bettering yourself and y...</td>\n",
       "      <td>Great book!</td>\n",
       "      <td>1398470400</td>\n",
       "      <td>NaN</td>\n",
       "      <td>NaN</td>\n",
       "    </tr>\n",
       "  </tbody>\n",
       "</table>\n",
       "</div>"
      ],
      "text/plain": [
       "                        _id  overall  verified   reviewTime      reviewerID  \\\n",
       "0  6033ab8df7ccad4a92f71753        5      True  08 15, 2016   ADGHSVTS66908   \n",
       "1  6033ab73f7ccad4a92f1cb9a        5      True  03 11, 2015   ARTNPLHDVHYHG   \n",
       "2  6033ab89f7ccad4a92f62fa4        5     False   12 4, 2013  A33JXFXAAV5018   \n",
       "3  6033ab99f7ccad4a92f963ee        5      True  10 28, 2017  A369K513GP75BB   \n",
       "4  6033ab7af7ccad4a92f33765        5      True  04 26, 2014   AX5YM0DO4GGP3   \n",
       "\n",
       "         asin                           style  reviewerName  \\\n",
       "0  0007546394  {'Format:': ' Kindle Edition'}  Marilyn Huff   \n",
       "1  0002171856       {'Format:': ' Paperback'}           ian   \n",
       "2  0007444117  {'Format:': ' Kindle Edition'}            MC   \n",
       "3  0060091290       {'Format:': ' Hardcover'}     shopper J   \n",
       "4  0007131925       {'Format:': ' Hardcover'}         Heidi   \n",
       "\n",
       "                                          reviewText              summary  \\\n",
       "0             Agatha Christie is the queen of crime.           Great read   \n",
       "1                      A must have, very informative   Great tool to have   \n",
       "2  Wow!  I'm usually pretty good at figuring out ...  What a page turner!   \n",
       "3                  the book was very light and funny           Five Stars   \n",
       "4  Great book on health, bettering yourself and y...          Great book!   \n",
       "\n",
       "   unixReviewTime vote image  \n",
       "0      1471219200  NaN   NaN  \n",
       "1      1426032000  NaN   NaN  \n",
       "2      1386115200  NaN   NaN  \n",
       "3      1509148800  NaN   NaN  \n",
       "4      1398470400  NaN   NaN  "
      ]
     },
     "execution_count": 4,
     "metadata": {},
     "output_type": "execute_result"
    }
   ],
   "source": [
    "df.head()"
   ]
  },
  {
   "cell_type": "code",
   "execution_count": 5,
   "metadata": {},
   "outputs": [
    {
     "name": "stdout",
     "output_type": "stream",
     "text": [
      "<class 'pandas.core.frame.DataFrame'>\n",
      "RangeIndex: 50000 entries, 0 to 49999\n",
      "Data columns (total 13 columns):\n",
      " #   Column          Non-Null Count  Dtype \n",
      "---  ------          --------------  ----- \n",
      " 0   _id             50000 non-null  object\n",
      " 1   overall         50000 non-null  int64 \n",
      " 2   verified        50000 non-null  bool  \n",
      " 3   reviewTime      50000 non-null  object\n",
      " 4   reviewerID      50000 non-null  object\n",
      " 5   asin            50000 non-null  object\n",
      " 6   style           47610 non-null  object\n",
      " 7   reviewerName    49999 non-null  object\n",
      " 8   reviewText      49992 non-null  object\n",
      " 9   summary         49993 non-null  object\n",
      " 10  unixReviewTime  50000 non-null  int64 \n",
      " 11  vote            9325 non-null   object\n",
      " 12  image           69 non-null     object\n",
      "dtypes: bool(1), int64(2), object(10)\n",
      "memory usage: 4.6+ MB\n"
     ]
    }
   ],
   "source": [
    "df.info()"
   ]
  },
  {
   "cell_type": "code",
   "execution_count": 6,
   "metadata": {},
   "outputs": [],
   "source": [
    "df=df.dropna(subset=['reviewText', 'reviewerName',\"summary\"])"
   ]
  },
  {
   "cell_type": "code",
   "execution_count": null,
   "metadata": {},
   "outputs": [],
   "source": []
  },
  {
   "cell_type": "code",
   "execution_count": 7,
   "metadata": {},
   "outputs": [
    {
     "name": "stdout",
     "output_type": "stream",
     "text": [
      "<class 'pandas.core.frame.DataFrame'>\n",
      "Int64Index: 49984 entries, 0 to 49999\n",
      "Data columns (total 13 columns):\n",
      " #   Column          Non-Null Count  Dtype \n",
      "---  ------          --------------  ----- \n",
      " 0   _id             49984 non-null  object\n",
      " 1   overall         49984 non-null  int64 \n",
      " 2   verified        49984 non-null  bool  \n",
      " 3   reviewTime      49984 non-null  object\n",
      " 4   reviewerID      49984 non-null  object\n",
      " 5   asin            49984 non-null  object\n",
      " 6   style           47596 non-null  object\n",
      " 7   reviewerName    49984 non-null  object\n",
      " 8   reviewText      49984 non-null  object\n",
      " 9   summary         49984 non-null  object\n",
      " 10  unixReviewTime  49984 non-null  int64 \n",
      " 11  vote            9324 non-null   object\n",
      " 12  image           69 non-null     object\n",
      "dtypes: bool(1), int64(2), object(10)\n",
      "memory usage: 5.0+ MB\n"
     ]
    }
   ],
   "source": [
    "df.info()"
   ]
  },
  {
   "cell_type": "code",
   "execution_count": 8,
   "metadata": {},
   "outputs": [],
   "source": [
    "df[\"vote\"]=df[\"vote\"].fillna(value=0)\n",
    "df[\"vote\"]=df[\"vote\"].apply(lambda x: int(str(x).replace(\",\",\"\")))\n"
   ]
  },
  {
   "cell_type": "code",
   "execution_count": 9,
   "metadata": {},
   "outputs": [
    {
     "data": {
      "text/plain": [
       "(9324, 40660)"
      ]
     },
     "execution_count": 9,
     "metadata": {},
     "output_type": "execute_result"
    }
   ],
   "source": [
    "len(df[df[\"vote\"]>1][\"vote\"]),len(df[df[\"vote\"]<1][\"vote\"])"
   ]
  },
  {
   "cell_type": "code",
   "execution_count": 10,
   "metadata": {},
   "outputs": [],
   "source": [
    "def cleaning_review(texts):\n",
    "    #Remove numbers, punctuation and lowercase everything\n",
    "    res=re.sub(\"[^A-Za-z]+\", \" \", texts.lower()) \n",
    "    #Remove words with less than 4 letters\n",
    "    res=re.sub(r'\\b\\w{1,3}\\b', \"\", res) \n",
    "    #Remove rest of stop words\n",
    "    for stopword in stopwords.words('english'): \n",
    "        sw=stopword.replace(\"'\",\"\")\n",
    "        res=res.replace(f\" {sw} \",\" \")\n",
    "    return res\n",
    "\n",
    "df[\"review_clean\"]=df[\"reviewText\"]\n",
    "df[\"review_clean\"]=df[\"review_clean\"].apply(cleaning_review)"
   ]
  },
  {
   "cell_type": "code",
   "execution_count": null,
   "metadata": {},
   "outputs": [],
   "source": []
  },
  {
   "cell_type": "code",
   "execution_count": null,
   "metadata": {},
   "outputs": [],
   "source": []
  },
  {
   "cell_type": "code",
   "execution_count": null,
   "metadata": {},
   "outputs": [],
   "source": []
  },
  {
   "cell_type": "code",
   "execution_count": 11,
   "metadata": {},
   "outputs": [],
   "source": [
    "from sklearn.model_selection import train_test_split"
   ]
  },
  {
   "cell_type": "code",
   "execution_count": 12,
   "metadata": {},
   "outputs": [],
   "source": [
    "#dff=df.sample(frac=0.1, replace=True, random_state=1)\n",
    "df=df.reset_index()\n"
   ]
  },
  {
   "cell_type": "code",
   "execution_count": null,
   "metadata": {},
   "outputs": [],
   "source": []
  },
  {
   "cell_type": "code",
   "execution_count": 13,
   "metadata": {},
   "outputs": [],
   "source": [
    "from sklearn.feature_extraction.text import TfidfVectorizer\n",
    "v = TfidfVectorizer(min_df=3)\n",
    "x = v.fit_transform(df['review_clean']).toarray()"
   ]
  },
  {
   "cell_type": "code",
   "execution_count": null,
   "metadata": {},
   "outputs": [],
   "source": []
  },
  {
   "cell_type": "code",
   "execution_count": null,
   "metadata": {},
   "outputs": [],
   "source": []
  },
  {
   "cell_type": "code",
   "execution_count": null,
   "metadata": {},
   "outputs": [],
   "source": []
  },
  {
   "cell_type": "code",
   "execution_count": 14,
   "metadata": {},
   "outputs": [],
   "source": [
    "df_tfidf = pd.DataFrame(x, columns=v.get_feature_names())"
   ]
  },
  {
   "cell_type": "code",
   "execution_count": null,
   "metadata": {},
   "outputs": [],
   "source": []
  },
  {
   "cell_type": "code",
   "execution_count": 15,
   "metadata": {},
   "outputs": [],
   "source": [
    "X_train, X_test, y_train, y_test = train_test_split(df_tfidf, df[\"overall\"], test_size=0.15, random_state=42)"
   ]
  },
  {
   "cell_type": "code",
   "execution_count": null,
   "metadata": {},
   "outputs": [],
   "source": []
  },
  {
   "cell_type": "code",
   "execution_count": 16,
   "metadata": {},
   "outputs": [
    {
     "data": {
      "text/plain": [
       "(42486, 7498)"
      ]
     },
     "execution_count": 16,
     "metadata": {},
     "output_type": "execute_result"
    }
   ],
   "source": [
    "len(y_train),len(y_test)"
   ]
  },
  {
   "cell_type": "code",
   "execution_count": 17,
   "metadata": {},
   "outputs": [
    {
     "data": {
      "text/plain": [
       "27573"
      ]
     },
     "execution_count": 17,
     "metadata": {},
     "output_type": "execute_result"
    }
   ],
   "source": [
    "len(df_tfidf.columns)"
   ]
  },
  {
   "cell_type": "code",
   "execution_count": null,
   "metadata": {},
   "outputs": [],
   "source": []
  },
  {
   "cell_type": "code",
   "execution_count": 18,
   "metadata": {},
   "outputs": [],
   "source": [
    "from sklearn.linear_model import LogisticRegression"
   ]
  },
  {
   "cell_type": "code",
   "execution_count": 19,
   "metadata": {},
   "outputs": [
    {
     "name": "stderr",
     "output_type": "stream",
     "text": [
      "/home/ordovas/anaconda3/envs/ironhack/lib/python3.8/site-packages/sklearn/linear_model/_logistic.py:762: ConvergenceWarning: lbfgs failed to converge (status=1):\n",
      "STOP: TOTAL NO. of ITERATIONS REACHED LIMIT.\n",
      "\n",
      "Increase the number of iterations (max_iter) or scale the data as shown in:\n",
      "    https://scikit-learn.org/stable/modules/preprocessing.html\n",
      "Please also refer to the documentation for alternative solver options:\n",
      "    https://scikit-learn.org/stable/modules/linear_model.html#logistic-regression\n",
      "  n_iter_i = _check_optimize_result(\n"
     ]
    }
   ],
   "source": [
    "clf = LogisticRegression(random_state=0,class_weight=\"balanced\").fit(X_train, y_train)\n"
   ]
  },
  {
   "cell_type": "code",
   "execution_count": 20,
   "metadata": {},
   "outputs": [],
   "source": [
    "y_pred=clf.predict(X_train)"
   ]
  },
  {
   "cell_type": "code",
   "execution_count": 21,
   "metadata": {},
   "outputs": [],
   "source": [
    "import matplotlib.pyplot as plt"
   ]
  },
  {
   "cell_type": "code",
   "execution_count": null,
   "metadata": {},
   "outputs": [],
   "source": []
  },
  {
   "cell_type": "code",
   "execution_count": 22,
   "metadata": {},
   "outputs": [
    {
     "data": {
      "image/png": "[encoded data removed]",
      "text/plain": [
       "<Figure size 432x288 with 1 Axes>"
      ]
     },
     "metadata": {
      "needs_background": "light"
     },
     "output_type": "display_data"
    }
   ],
   "source": [
    "#plt.hist(y_train-clf.predict(X_train),bins=np.arange(-4,5),align=\"left\",weights=counts);\n",
    "counts, bins = np.histogram(y_train-clf.predict(X_train),bins=np.arange(-4,5))\n",
    "plt.plot(bins[:-1],counts*100/sum(counts),label=\"Train data\")\n",
    "plt.grid()\n",
    "counts, bins = np.histogram(y_test-clf.predict(X_test),bins=np.arange(-4,5))\n",
    "plt.plot(bins[:-1],counts*100/sum(counts),label=\"Test data\")\n",
    "plt.legend();"
   ]
  },
  {
   "cell_type": "code",
   "execution_count": null,
   "metadata": {},
   "outputs": [],
   "source": []
  },
  {
   "cell_type": "code",
   "execution_count": 23,
   "metadata": {},
   "outputs": [
    {
     "data": {
      "text/plain": [
       "0.7109165372122581"
      ]
     },
     "execution_count": 23,
     "metadata": {},
     "output_type": "execute_result"
    }
   ],
   "source": [
    "clf.score(X_train, y_train)"
   ]
  },
  {
   "cell_type": "code",
   "execution_count": 24,
   "metadata": {},
   "outputs": [
    {
     "data": {
      "text/plain": [
       "0.5750866897839424"
      ]
     },
     "execution_count": 24,
     "metadata": {},
     "output_type": "execute_result"
    }
   ],
   "source": [
    "clf.score(X_test, y_test)"
   ]
  },
  {
   "cell_type": "code",
   "execution_count": 25,
   "metadata": {},
   "outputs": [],
   "source": [
    "from sklearn.metrics import confusion_matrix"
   ]
  },
  {
   "cell_type": "code",
   "execution_count": 26,
   "metadata": {},
   "outputs": [
    {
     "data": {
      "text/plain": [
       "array([[ 1383,    22,    20,    10,    21],\n",
       "       [   52,  1669,    41,    19,    35],\n",
       "       [  170,   279,  2818,   329,   259],\n",
       "       [  236,   332,   969,  5461,  1633],\n",
       "       [  755,   720,  1442,  4938, 18873]])"
      ]
     },
     "execution_count": 26,
     "metadata": {},
     "output_type": "execute_result"
    }
   ],
   "source": [
    "confusion_matrix(y_train,clf.predict(X_train))"
   ]
  },
  {
   "cell_type": "code",
   "execution_count": 27,
   "metadata": {},
   "outputs": [
    {
     "data": {
      "text/plain": [
       "array([[ 122,   67,   36,    9,   24],\n",
       "       [  91,   99,   69,   25,   20],\n",
       "       [  67,  124,  255,  182,   79],\n",
       "       [  52,   75,  291,  636,  415],\n",
       "       [ 124,  141,  282, 1013, 3200]])"
      ]
     },
     "execution_count": 27,
     "metadata": {},
     "output_type": "execute_result"
    }
   ],
   "source": [
    "confusion_matrix(y_test,clf.predict(X_test))"
   ]
  },
  {
   "cell_type": "code",
   "execution_count": 28,
   "metadata": {},
   "outputs": [
    {
     "data": {
      "text/plain": [
       "{'C': 1.0,\n",
       " 'class_weight': 'balanced',\n",
       " 'dual': False,\n",
       " 'fit_intercept': True,\n",
       " 'intercept_scaling': 1,\n",
       " 'l1_ratio': None,\n",
       " 'max_iter': 100,\n",
       " 'multi_class': 'auto',\n",
       " 'n_jobs': None,\n",
       " 'penalty': 'l2',\n",
       " 'random_state': 0,\n",
       " 'solver': 'lbfgs',\n",
       " 'tol': 0.0001,\n",
       " 'verbose': 0,\n",
       " 'warm_start': False}"
      ]
     },
     "execution_count": 28,
     "metadata": {},
     "output_type": "execute_result"
    }
   ],
   "source": [
    "clf.get_params()"
   ]
  },
  {
   "cell_type": "code",
   "execution_count": null,
   "metadata": {},
   "outputs": [],
   "source": []
  }
 ],
 "metadata": {
  "kernelspec": {
   "display_name": "Python 3",
   "language": "python",
   "name": "python3"
  },
  "language_info": {
   "codemirror_mode": {
    "name": "ipython",
    "version": 3
   },
   "file_extension": ".py",
   "mimetype": "text/x-python",
   "name": "python",
   "nbconvert_exporter": "python",
   "pygments_lexer": "ipython3",
   "version": "3.8.3"
  }
 },
 "nbformat": 4,
 "nbformat_minor": 4
}
